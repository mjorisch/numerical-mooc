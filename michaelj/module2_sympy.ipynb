{
 "cells": [
  {
   "cell_type": "code",
   "execution_count": 1,
   "metadata": {
    "collapsed": true
   },
   "outputs": [],
   "source": [
    "import numpy\n",
    "import sympy\n"
   ]
  },
  {
   "cell_type": "code",
   "execution_count": 2,
   "metadata": {
    "collapsed": true
   },
   "outputs": [],
   "source": [
    "from sympy import init_printing\n",
    "init_printing()"
   ]
  },
  {
   "cell_type": "code",
   "execution_count": 3,
   "metadata": {
    "collapsed": true
   },
   "outputs": [],
   "source": [
    "x = sympy.symbols('x')"
   ]
  },
  {
   "cell_type": "code",
   "execution_count": 4,
   "metadata": {
    "collapsed": false
   },
   "outputs": [
    {
     "data": {
      "image/png": "[encoded data removed]",
      "text/latex": [
       "$$\\frac{\\cos^{2}{\\left (x \\right )}}{4 x^{5}} e^{- x} \\sin^{3}{\\left (x \\right )}$$"
      ],
      "text/plain": [
       " -x    3       2   \n",
       "ℯ  ⋅sin (x)⋅cos (x)\n",
       "───────────────────\n",
       "           5       \n",
       "        4⋅x        "
      ]
     },
     "execution_count": 4,
     "metadata": {},
     "output_type": "execute_result"
    }
   ],
   "source": [
    "A = (sympy.cos(x)**2*sympy.sin(x)**3)/(4*x**5*sympy.exp(x))\n",
    "A"
   ]
  },
  {
   "cell_type": "code",
   "execution_count": 5,
   "metadata": {
    "collapsed": false
   },
   "outputs": [
    {
     "data": {
      "image/png": "[encoded data removed]",
      "text/latex": [
       "$$- \\frac{\\sin^{4}{\\left (x \\right )}}{2 x^{5}} e^{- x} \\cos{\\left (x \\right )} - \\frac{\\cos^{2}{\\left (x \\right )}}{4 x^{5}} e^{- x} \\sin^{3}{\\left (x \\right )} + \\frac{3 e^{- x}}{4 x^{5}} \\sin^{2}{\\left (x \\right )} \\cos^{3}{\\left (x \\right )} - \\frac{5 e^{- x}}{4 x^{6}} \\sin^{3}{\\left (x \\right )} \\cos^{2}{\\left (x \\right )}$$"
      ],
      "text/plain": [
       "   -x    4              -x    3       2         -x    2       3         -x    \n",
       "  ℯ  ⋅sin (x)⋅cos(x)   ℯ  ⋅sin (x)⋅cos (x)   3⋅ℯ  ⋅sin (x)⋅cos (x)   5⋅ℯ  ⋅sin\n",
       "- ────────────────── - ─────────────────── + ───────────────────── - ─────────\n",
       "            5                     5                      5                    \n",
       "         2⋅x                   4⋅x                    4⋅x                     \n",
       "\n",
       "3       2   \n",
       " (x)⋅cos (x)\n",
       "────────────\n",
       "   6        \n",
       "4⋅x         "
      ]
     },
     "execution_count": 5,
     "metadata": {},
     "output_type": "execute_result"
    }
   ],
   "source": [
    "Aprime = A.diff(x)\n",
    "Aprime"
   ]
  },
  {
   "cell_type": "code",
   "execution_count": null,
   "metadata": {
    "collapsed": true
   },
   "outputs": [],
   "source": []
  }
 ],
 "metadata": {
  "kernelspec": {
   "display_name": "Python 3",
   "language": "python",
   "name": "python3"
  },
  "language_info": {
   "codemirror_mode": {
    "name": "ipython",
    "version": 3
   },
   "file_extension": ".py",
   "mimetype": "text/x-python",
   "name": "python",
   "nbconvert_exporter": "python",
   "pygments_lexer": "ipython3",
   "version": "3.4.3"
  }
 },
 "nbformat": 4,
 "nbformat_minor": 0
}
