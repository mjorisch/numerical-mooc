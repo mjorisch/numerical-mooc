{
 "cells": [
  {
   "cell_type": "code",
   "execution_count": 202,
   "metadata": {
    "collapsed": true
   },
   "outputs": [],
   "source": [
    "import numpy\n",
    "import sympy\n",
    "from matplotlib import pyplot\n",
    "%matplotlib inline\n",
    "from matplotlib import rcParams\n",
    "rcParams['font.family']= 'serif'\n",
    "rcParams['font.size'] = 16"
   ]
  },
  {
   "cell_type": "code",
   "execution_count": 203,
   "metadata": {
    "collapsed": true
   },
   "outputs": [],
   "source": [
    "# Initial conditions \n",
    "nx = 51\n",
    "dx = 11/(nx-1)\n",
    "dt = 0.001  #in hours\n",
    "nt = 100    #25 runs for 1.5 min, 50 runs for 3 min, 100 runs for 6 min etc."
   ]
  },
  {
   "cell_type": "code",
   "execution_count": 204,
   "metadata": {
    "collapsed": false
   },
   "outputs": [],
   "source": [
    "V_max = 80 #km/hr\n",
    "L = 11 #km\n",
    "rho_max = 250 #car/km\n",
    "\n",
    "x = numpy.linspace(0,L,nx)\n",
    "rho0 = numpy.ones(nx)*10\n",
    "rho0[10:20] = 50\n",
    "V = V_max*(1-(rho0/rho_max))"
   ]
  },
  {
   "cell_type": "code",
   "execution_count": 205,
   "metadata": {
    "collapsed": false
   },
   "outputs": [
    {
     "data": {
      "text/plain": [
       "[<matplotlib.lines.Line2D at 0x7f68446227f0>]"
      ]
     },
     "execution_count": 205,
     "metadata": {},
     "output_type": "execute_result"
    },
    {
     "data": {
      "image/png": "[encoded data removed]",
      "text/plain": [
       "<matplotlib.figure.Figure at 0x7f684471b320>"
      ]
     },
     "metadata": {},
     "output_type": "display_data"
    }
   ],
   "source": [
    "for n in range(nt):\n",
    "    rho0_n = rho0.copy()\n",
    "    rho0[1:] = rho0_n[1:] - V[1:]*dt/dx*(rho0_n[1:] - rho0_n[0:-1])\n",
    "    \n",
    "pyplot.plot(x,rho0,color='#003366', ls='--', lw=3)\n",
    "#pyplot.ylim(0,10);"
   ]
  },
  {
   "cell_type": "code",
   "execution_count": 206,
   "metadata": {
    "collapsed": false
   },
   "outputs": [],
   "source": [
    "V = V_max*(1-(rho0/rho_max))"
   ]
  },
  {
   "cell_type": "code",
   "execution_count": 207,
   "metadata": {
    "collapsed": false
   },
   "outputs": [
    {
     "name": "stdout",
     "output_type": "stream",
     "text": [
      "[ 76.8         76.8         76.8         76.8         76.8         76.8\n",
      "  76.8         76.8         76.8         76.8         76.8         76.8\n",
      "  76.8         76.8         76.8         76.79999998  76.7999999\n",
      "  76.79999943  76.79999718  76.79998776  76.79996706  76.79991459\n",
      "  76.79978673  76.79948761  76.79881622  76.7973711   76.79438962\n",
      "  76.7884953   76.77733103  76.75707368  76.72186168  76.66322313\n",
      "  76.56965792  76.42658518  76.21688647  75.92222626  75.52519887\n",
      "  75.01214668  74.37626727  73.62044921  72.75922448  71.81934014\n",
      "  70.83871653  69.86389429  68.94636586  68.13833996  67.48846732\n",
      "  67.03790693  66.81693929  66.84224098  67.114968  ]\n"
     ]
    }
   ],
   "source": [
    "print(V)"
   ]
  },
  {
   "cell_type": "code",
   "execution_count": 208,
   "metadata": {
    "collapsed": false
   },
   "outputs": [
    {
     "data": {
      "text/plain": [
       "[<matplotlib.lines.Line2D at 0x7f6844583668>]"
      ]
     },
     "execution_count": 208,
     "metadata": {},
     "output_type": "execute_result"
    },
    {
     "data": {
      "image/png": "[encoded data removed]",
      "text/plain": [
       "<matplotlib.figure.Figure at 0x7f68447173c8>"
      ]
     },
     "metadata": {},
     "output_type": "display_data"
    }
   ],
   "source": [
    "pyplot.plot(x,V,color='#003366',ls='--',lw=3)"
   ]
  },
  {
   "cell_type": "code",
   "execution_count": 209,
   "metadata": {
    "collapsed": false
   },
   "outputs": [
    {
     "name": "stdout",
     "output_type": "stream",
     "text": [
      "The minimum velocity is 18.56\n"
     ]
    }
   ],
   "source": [
    "V_min = min(V)*(1000/3600) #convert to m/s\n",
    "print (\"The minimum velocity is {:.2f}\".format(V_min))"
   ]
  },
  {
   "cell_type": "code",
   "execution_count": 210,
   "metadata": {
    "collapsed": false
   },
   "outputs": [
    {
     "name": "stdout",
     "output_type": "stream",
     "text": [
      "The average velocity in m/s for 6.0 minutes is 20.80\n"
     ]
    }
   ],
   "source": [
    "V_avg = numpy.average(V)*(1000/3600)\n",
    "time = dt*nt*60\n",
    "print (\"The average velocity in m/s for {} minutes is {:.2f}\".format(time,V_avg))"
   ]
  },
  {
   "cell_type": "code",
   "execution_count": null,
   "metadata": {
    "collapsed": true
   },
   "outputs": [],
   "source": []
  }
 ],
 "metadata": {
  "kernelspec": {
   "display_name": "Python 3",
   "language": "python",
   "name": "python3"
  },
  "language_info": {
   "codemirror_mode": {
    "name": "ipython",
    "version": 3
   },
   "file_extension": ".py",
   "mimetype": "text/x-python",
   "name": "python",
   "nbconvert_exporter": "python",
   "pygments_lexer": "ipython3",
   "version": "3.4.3"
  }
 },
 "nbformat": 4,
 "nbformat_minor": 0
}
