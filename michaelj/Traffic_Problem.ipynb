{
 "cells": [
  {
   "cell_type": "code",
   "execution_count": 59,
   "metadata": {
    "collapsed": true
   },
   "outputs": [],
   "source": [
    "import numpy\n",
    "import sympy\n",
    "from matplotlib import pyplot\n",
    "%matplotlib inline\n",
    "from matplotlib import rcParams\n",
    "rcParams['font.family']= 'serif'\n",
    "rcParams['font.size'] = 16"
   ]
  },
  {
   "cell_type": "code",
   "execution_count": 60,
   "metadata": {
    "collapsed": true
   },
   "outputs": [],
   "source": [
    "# Initial conditions \n",
    "nx = 51\n",
    "dx = 11/(nx-1)\n",
    "dt = 0.001  #in hours\n",
    "nt = 50    #25 runs for 1.5 min, 50 runs for 3 min, 100 runs for 6 min etc."
   ]
  },
  {
   "cell_type": "code",
   "execution_count": 61,
   "metadata": {
    "collapsed": false
   },
   "outputs": [],
   "source": [
    "V_max = 80 #km/hr\n",
    "L = 11 #km\n",
    "rho_max = 250 #car/km\n",
    "\n",
    "x = numpy.linspace(0,L,nx)\n",
    "rho0 = numpy.ones(nx)*10\n",
    "rho0[10:20] = 50\n",
    "V = V_max*(1-(rho0/rho_max))"
   ]
  },
  {
   "cell_type": "code",
   "execution_count": 62,
   "metadata": {
    "collapsed": false
   },
   "outputs": [
    {
     "data": {
      "text/plain": [
       "[<matplotlib.lines.Line2D at 0x7fe3a68c4cc0>]"
      ]
     },
     "execution_count": 62,
     "metadata": {},
     "output_type": "execute_result"
    },
    {
     "data": {
      "image/png": "[encoded data removed]",
      "text/plain": [
       "<matplotlib.figure.Figure at 0x7fe3a69050b8>"
      ]
     },
     "metadata": {},
     "output_type": "display_data"
    }
   ],
   "source": [
    "for n in range(nt):\n",
    "    rho0_n = rho0.copy()\n",
    "    rho0[1:] = rho0_n[1:] - V[1:]*dt/dx*(rho0_n[1:] - rho0_n[0:-1])\n",
    "    \n",
    "pyplot.plot(x,rho0,color='#003366', ls='--', lw=3)\n",
    "#pyplot.ylim(0,10);"
   ]
  },
  {
   "cell_type": "code",
   "execution_count": 63,
   "metadata": {
    "collapsed": false
   },
   "outputs": [],
   "source": [
    "V = V_max*(1-(rho0/rho_max))"
   ]
  },
  {
   "cell_type": "code",
   "execution_count": 64,
   "metadata": {
    "collapsed": false
   },
   "outputs": [
    {
     "name": "stdout",
     "output_type": "stream",
     "text": [
      "[ 76.8         76.8         76.8         76.8         76.8         76.8\n",
      "  76.8         76.8         76.8         76.8         76.79999956\n",
      "  76.79999056  76.79990008  76.79930616  76.79644316  76.78563717\n",
      "  76.75238798  76.66664646  76.47757544  76.1155933   75.64946349\n",
      "  74.97991714  74.08623669  72.9779167   71.70077239  70.33334957\n",
      "  68.97359248  67.72029901  66.65669735  65.84258104  65.316868\n",
      "  65.10646799  65.233432    65.71326914  66.54313198  67.68607547\n",
      "  69.06189814  70.55289378  72.02511522  73.35727955  74.4655219\n",
      "  75.31488823  75.91543793  76.30756194  76.54415687  76.6761228\n",
      "  76.74417604  76.77661861  76.79091096  76.79672592  76.79890897]\n"
     ]
    }
   ],
   "source": [
    "print(V)"
   ]
  },
  {
   "cell_type": "code",
   "execution_count": 65,
   "metadata": {
    "collapsed": false
   },
   "outputs": [
    {
     "data": {
      "text/plain": [
       "[<matplotlib.lines.Line2D at 0x7fe3a68246a0>]"
      ]
     },
     "execution_count": 65,
     "metadata": {},
     "output_type": "execute_result"
    },
    {
     "data": {
      "image/png": "[encoded data removed]",
      "text/plain": [
       "<matplotlib.figure.Figure at 0x7fe3a6982d30>"
      ]
     },
     "metadata": {},
     "output_type": "display_data"
    }
   ],
   "source": [
    "pyplot.plot(x,V,color='#003366',ls='--',lw=3)"
   ]
  },
  {
   "cell_type": "code",
   "execution_count": 66,
   "metadata": {
    "collapsed": false
   },
   "outputs": [
    {
     "name": "stdout",
     "output_type": "stream",
     "text": [
      "The minimum velocity is 18.09\n"
     ]
    }
   ],
   "source": [
    "V_min = min(V)*(1000/3600) #convert to m/s\n",
    "print (\"The minimum velocity is {:.2f}\".format(V_min))"
   ]
  },
  {
   "cell_type": "code",
   "execution_count": 67,
   "metadata": {
    "collapsed": false
   },
   "outputs": [
    {
     "name": "stdout",
     "output_type": "stream",
     "text": [
      "The average velocity in m/s for 3.0 minutes is 20.50\n"
     ]
    }
   ],
   "source": [
    "V_avg = numpy.average(V)*(1000/3600)\n",
    "time = dt*nt*60\n",
    "print (\"The average velocity in m/s for {} minutes is {:.2f}\".format(time,V_avg))"
   ]
  },
  {
   "cell_type": "code",
   "execution_count": 68,
   "metadata": {
    "collapsed": true
   },
   "outputs": [],
   "source": [
    "V_max = 136 #km/hr\n",
    "x = numpy.linspace(0,L,nx)\n",
    "rho0 = numpy.ones(nx)*20\n",
    "rho0[10:20] = 50\n",
    "V = V_max*(1-(rho0/rho_max))"
   ]
  },
  {
   "cell_type": "code",
   "execution_count": 69,
   "metadata": {
    "collapsed": false
   },
   "outputs": [
    {
     "data": {
      "text/plain": [
       "[<matplotlib.lines.Line2D at 0x7fe3a680e828>]"
      ]
     },
     "execution_count": 69,
     "metadata": {},
     "output_type": "execute_result"
    },
    {
     "data": {
      "image/png": "[encoded data removed]",
      "text/plain": [
       "<matplotlib.figure.Figure at 0x7fe3a68fd390>"
      ]
     },
     "metadata": {},
     "output_type": "display_data"
    }
   ],
   "source": [
    "for n in range(nt):\n",
    "    rho0_n = rho0.copy()\n",
    "    rho0[1:] = rho0_n[1:] - V[1:]*dt/dx*(rho0_n[1:] - rho0_n[0:-1])\n",
    "    \n",
    "V = V_max*(1-(rho0/rho_max))\n",
    "pyplot.plot(x,rho0,color='#003366',ls='--',lw=3)"
   ]
  },
  {
   "cell_type": "code",
   "execution_count": 70,
   "metadata": {
    "collapsed": false
   },
   "outputs": [
    {
     "name": "stdout",
     "output_type": "stream",
     "text": [
      "The minimum velocity in m/s is 30.73\n"
     ]
    }
   ],
   "source": [
    "V_min = min(V)*(1000/3600) #convert to m/s\n",
    "print (\"The minimum velocity in m/s is {:.2f}\".format(V_min))"
   ]
  },
  {
   "cell_type": "code",
   "execution_count": 71,
   "metadata": {
    "collapsed": false
   },
   "outputs": [
    {
     "name": "stdout",
     "output_type": "stream",
     "text": [
      "The average velocity in m/s for 3.0 minutes is 33.77\n"
     ]
    }
   ],
   "source": [
    "V_avg = numpy.average(V)*(1000/3600)\n",
    "time = dt*nt*60\n",
    "print (\"The average velocity in m/s for {} minutes is {:.2f}\".format(time,V_avg))"
   ]
  },
  {
   "cell_type": "code",
   "execution_count": 72,
   "metadata": {
    "collapsed": false
   },
   "outputs": [
    {
     "name": "stdout",
     "output_type": "stream",
     "text": [
      "The minimum velocity in m/s at time 3.0 is 30.73\n"
     ]
    }
   ],
   "source": [
    "print(\"The minimum velocity in m/s at time {} is {:.2f}\".format(time,V_min))"
   ]
  },
  {
   "cell_type": "code",
   "execution_count": null,
   "metadata": {
    "collapsed": true
   },
   "outputs": [],
   "source": []
  }
 ],
 "metadata": {
  "kernelspec": {
   "display_name": "Python 3",
   "language": "python",
   "name": "python3"
  },
  "language_info": {
   "codemirror_mode": {
    "name": "ipython",
    "version": 3
   },
   "file_extension": ".py",
   "mimetype": "text/x-python",
   "name": "python",
   "nbconvert_exporter": "python",
   "pygments_lexer": "ipython3",
   "version": "3.4.3"
  }
 },
 "nbformat": 4,
 "nbformat_minor": 0
}
