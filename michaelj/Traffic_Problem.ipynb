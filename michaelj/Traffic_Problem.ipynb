{
 "cells": [
  {
   "cell_type": "code",
   "execution_count": 45,
   "metadata": {
    "collapsed": true
   },
   "outputs": [],
   "source": [
    "import numpy\n",
    "import sympy\n",
    "from matplotlib import pyplot\n",
    "%matplotlib inline\n",
    "from matplotlib import rcParams\n",
    "rcParams['font.family']= 'serif'\n",
    "rcParams['font.size'] = 16"
   ]
  },
  {
   "cell_type": "code",
   "execution_count": 46,
   "metadata": {
    "collapsed": true
   },
   "outputs": [],
   "source": [
    "# Initial conditions \n",
    "nx = 51\n",
    "dx = 11/(nx-1)\n",
    "dt = 0.001  #in hours\n",
    "nt = 50    #25 runs for 1.5 min, 50 runs for 3 min, 100 runs for 6 min etc."
   ]
  },
  {
   "cell_type": "code",
   "execution_count": 47,
   "metadata": {
    "collapsed": false
   },
   "outputs": [],
   "source": [
    "V_max = 80 #km/hr\n",
    "L = 11 #km\n",
    "rho_max = 250 #car/km\n",
    "\n",
    "x = numpy.linspace(0,L,nx)\n",
    "rho0 = numpy.ones(nx)*10\n",
    "rho0[10:20] = 50\n",
    "V = V_max*(1-(rho0/rho_max))"
   ]
  },
  {
   "cell_type": "code",
   "execution_count": 48,
   "metadata": {
    "collapsed": false
   },
   "outputs": [
    {
     "data": {
      "text/plain": [
       "[<matplotlib.lines.Line2D at 0x7fe3a6995fd0>]"
      ]
     },
     "execution_count": 48,
     "metadata": {},
     "output_type": "execute_result"
    },
    {
     "data": {
      "image/png": "[encoded data removed]",
      "text/plain": [
       "<matplotlib.figure.Figure at 0x7fe3a6a3fe10>"
      ]
     },
     "metadata": {},
     "output_type": "display_data"
    }
   ],
   "source": [
    "for n in range(nt):\n",
    "    rho0_n = rho0.copy()\n",
    "    rho0[1:] = rho0_n[1:] - V[1:]*dt/dx*(rho0_n[1:] - rho0_n[0:-1])\n",
    "    \n",
    "pyplot.plot(x,rho0,color='#003366', ls='--', lw=3)\n",
    "#pyplot.ylim(0,10);"
   ]
  },
  {
   "cell_type": "code",
   "execution_count": 49,
   "metadata": {
    "collapsed": false
   },
   "outputs": [],
   "source": [
    "V = V_max*(1-(rho0/rho_max))"
   ]
  },
  {
   "cell_type": "code",
   "execution_count": 50,
   "metadata": {
    "collapsed": false
   },
   "outputs": [
    {
     "name": "stdout",
     "output_type": "stream",
     "text": [
      "[ 125.12        125.12        125.12        125.12        125.12        125.12\n",
      "  125.12        125.12        125.12        125.12        125.12        125.12\n",
      "  125.12        125.12        125.11999999  125.11999995  125.1199996\n",
      "  125.11999746  125.11998622  125.11993488  125.11980251  125.11942974\n",
      "  125.11843477  125.11592156  125.10992329  125.09641409  125.06773806\n",
      "  125.01042839  124.90269969  124.71240063  124.39677556  123.9056709\n",
      "  123.1893944   122.21100513  120.9606043   119.46713082  117.80257851\n",
      "  116.07541646  114.41403657  112.94547631  111.77694122  110.9860893\n",
      "  110.62113832  110.70634883  111.24577456  112.22029225  113.57876296\n",
      "  115.23006693  117.04463295  118.87022384  120.55913643]\n"
     ]
    }
   ],
   "source": [
    "print(V)"
   ]
  },
  {
   "cell_type": "code",
   "execution_count": 51,
   "metadata": {
    "collapsed": false
   },
   "outputs": [
    {
     "data": {
      "text/plain": [
       "[<matplotlib.lines.Line2D at 0x7fe3a6971940>]"
      ]
     },
     "execution_count": 51,
     "metadata": {},
     "output_type": "execute_result"
    },
    {
     "data": {
      "image/png": "[encoded data removed]",
      "text/plain": [
       "<matplotlib.figure.Figure at 0x7fe3a6af3438>"
      ]
     },
     "metadata": {},
     "output_type": "display_data"
    }
   ],
   "source": [
    "pyplot.plot(x,V,color='#003366',ls='--',lw=3)"
   ]
  },
  {
   "cell_type": "code",
   "execution_count": 52,
   "metadata": {
    "collapsed": false
   },
   "outputs": [
    {
     "name": "stdout",
     "output_type": "stream",
     "text": [
      "The minimum velocity is 30.73\n"
     ]
    }
   ],
   "source": [
    "V_min = min(V)*(1000/3600) #convert to m/s\n",
    "print (\"The minimum velocity is {:.2f}\".format(V_min))"
   ]
  },
  {
   "cell_type": "code",
   "execution_count": 53,
   "metadata": {
    "collapsed": false
   },
   "outputs": [
    {
     "name": "stdout",
     "output_type": "stream",
     "text": [
      "The average velocity in m/s for 3.0 minutes is 33.77\n"
     ]
    }
   ],
   "source": [
    "V_avg = numpy.average(V)*(1000/3600)\n",
    "time = dt*nt*60\n",
    "print (\"The average velocity in m/s for {} minutes is {:.2f}\".format(time,V_avg))"
   ]
  },
  {
   "cell_type": "code",
   "execution_count": 54,
   "metadata": {
    "collapsed": true
   },
   "outputs": [],
   "source": [
    "V_max = 136 #km/hr\n",
    "x = numpy.linspace(0,L,nx)\n",
    "rho0 = numpy.ones(nx)*20\n",
    "rho0[10:20] = 50\n",
    "V = V_max*(1-(rho0/rho_max))"
   ]
  },
  {
   "cell_type": "code",
   "execution_count": 55,
   "metadata": {
    "collapsed": false
   },
   "outputs": [
    {
     "data": {
      "text/plain": [
       "[<matplotlib.lines.Line2D at 0x7fe3a68e4390>]"
      ]
     },
     "execution_count": 55,
     "metadata": {},
     "output_type": "execute_result"
    },
    {
     "data": {
      "image/png": "[encoded data removed]",
      "text/plain": [
       "<matplotlib.figure.Figure at 0x7fe3a6a6b9b0>"
      ]
     },
     "metadata": {},
     "output_type": "display_data"
    }
   ],
   "source": [
    "for n in range(nt):\n",
    "    rho0_n = rho0.copy()\n",
    "    rho0[1:] = rho0_n[1:] - V[1:]*dt/dx*(rho0_n[1:] - rho0_n[0:-1])\n",
    "    \n",
    "V = V_max*(1-(rho0/rho_max))\n",
    "pyplot.plot(x,rho0,color='#003366',ls='--',lw=3)"
   ]
  },
  {
   "cell_type": "code",
   "execution_count": 56,
   "metadata": {
    "collapsed": false
   },
   "outputs": [
    {
     "name": "stdout",
     "output_type": "stream",
     "text": [
      "The minimum velocity in m/s is 30.73\n"
     ]
    }
   ],
   "source": [
    "V_min = min(V)*(1000/3600) #convert to m/s\n",
    "print (\"The minimum velocity in m/s is {:.2f}\".format(V_min))"
   ]
  },
  {
   "cell_type": "code",
   "execution_count": 57,
   "metadata": {
    "collapsed": false
   },
   "outputs": [
    {
     "name": "stdout",
     "output_type": "stream",
     "text": [
      "The average velocity in m/s for 3.0 minutes is 33.77\n"
     ]
    }
   ],
   "source": [
    "V_avg = numpy.average(V)*(1000/3600)\n",
    "time = dt*nt*60\n",
    "print (\"The average velocity in m/s for {} minutes is {:.2f}\".format(time,V_avg))"
   ]
  },
  {
   "cell_type": "code",
   "execution_count": 58,
   "metadata": {
    "collapsed": false
   },
   "outputs": [
    {
     "name": "stdout",
     "output_type": "stream",
     "text": [
      "The minimum velocity in m/s at time 3.0 is 30.73\n"
     ]
    }
   ],
   "source": [
    "print(\"The minimum velocity in m/s at time {} is {:.2f}\".format(time,V_min))"
   ]
  },
  {
   "cell_type": "code",
   "execution_count": null,
   "metadata": {
    "collapsed": true
   },
   "outputs": [],
   "source": []
  }
 ],
 "metadata": {
  "kernelspec": {
   "display_name": "Python 3",
   "language": "python",
   "name": "python3"
  },
  "language_info": {
   "codemirror_mode": {
    "name": "ipython",
    "version": 3
   },
   "file_extension": ".py",
   "mimetype": "text/x-python",
   "name": "python",
   "nbconvert_exporter": "python",
   "pygments_lexer": "ipython3",
   "version": "3.4.3"
  }
 },
 "nbformat": 4,
 "nbformat_minor": 0
}
