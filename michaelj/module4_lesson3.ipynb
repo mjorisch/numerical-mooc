{
 "cells": [
  {
   "cell_type": "markdown",
   "metadata": {},
   "source": [
    "## 2D Heat Conduction\n",
    "\n",
    "The equation is:\n",
    "\n",
    "$$\\rho c_p \\frac{\\partial T}{\\partial t} = \\frac{\\partial}{\\partial x} \\left( k_x \\frac{\\partial T}{\\partial x} \\right) + \\frac{\\partial}{\\partial y} \\left( k_y \\frac{\\partial T}{\\partial y} \\right)$$\n",
    "\n",
    "Where $\\rho$ is the density, $c_p$ is the heat capacity and $k$ is the thermal conductivity.\n",
    "\n",
    "If the thermal conductivity $k$ is constant we can take it outside of the spatial derivative and the equation becomes:\n",
    "\n",
    "$$\\frac{\\partial T}{\\partial t} = \\alpha \\left( \\frac{\\partial ^2 T}{\\partial x^2} + \\frac{\\partial ^2 T}{\\partial y^2} \\right)$$\n",
    "\n",
    "Where $\\alpha = \\frac{k}{\\rho c_p}$ is the thermal diffusivity.  The thermal diffusivity describes the ability of a material to conduct heat vs storing it.\n",
    "\n",
    "It looks exactly like the diffusion equation.  That's why $\\alpha$ is called the thermal diffusivity (duh)."
   ]
  },
  {
   "cell_type": "markdown",
   "metadata": {},
   "source": [
    "### Problem Statement\n",
    "\n",
    "Removing heat out of microchips is a big issues in the computer industry.  We're at a point where they can't run much faster because they would start failing to to high temp.\n",
    "\n",
    "Gotta look at how heat is dissipated from the chip with a simplified model.  Let's consider the chip as a 2D plate that is $1cm x 1cm$ made of Silicon.\n",
    "\n",
    "$k = 159W/mC$, $c_p = 0.712 * 10^3 J/kgC$, $\\rho = 2329kg/m^3$ and diffusivity $\\alpha \\approx 10^-4 m^2 /rms$.  Silicon melts at $1414^{\\circ} C$ but the chips should operate at much smaller temps.  The max temp allowed depends on the model and make.  Usually it is somewhere between $60^{\\circ} C$ and $70^{\\circ} C$, but better CPUs are recommended to operate at a max of $80^{\\circ} C$.\n",
    "\n",
    "Artificial problem:\n",
    "The chip is in a position where the top and right edges are in contact with insulating material.  The other two edges are touching components that have a const temp of $T = 100^{\\circ} C$ when the machine is operating.  Initially the chip is at room temp $20^{\\circ} C$.  How long does it take for the center of the chip to reach $70^{\\circ} C$?"
   ]
  },
  {
   "cell_type": "markdown",
   "metadata": {},
   "source": [
    "## 2D Finite Differences\n",
    "\n",
    "Two spatial dimensions.  Need to build a 2D grid of discrete points to compute the solution on.\n",
    "\n",
    "2D Cartesian grid that consists of two families of grid lines parallel to the two spatial directions.  Two lines intersect on one and only one grid node (structured grid).  In the x direction the discretization uses i to N lines and in the y direction j to N lines.  A given node will have two spatial coordinates and we need two indices for the two lines that intersect at that node."
   ]
  },
  {
   "cell_type": "markdown",
   "metadata": {},
   "source": [
    "### Explicit Scheme in 2D\n",
    "\n",
    "Discretized 2D heat equation FT and CS explicit scheme.\n",
    "\n",
    "$$\\frac{T_ij ^{n+1} - T_ij ^n}{\\Delta t} = \\alpha \\left( \\frac{T_{i+1j} ^n - 2T_ij ^n + T_{i-1j} ^n}{\\Delta x^2} + \\frac{T_{ij+1} ^n - 2T_ij ^n + T_{ij-1} ^n}{\\Delta y^2} \\right)$$\n",
    "\n",
    "If we rearrange to solve for $T_ij ^{n+1}$ we get:\n",
    "\n",
    "$$T_ij ^{n+1} = T_ij ^n + \\alpha \\left( \\frac{\\Delta t}{\\Delta x^2} (T_{i+1j} ^n - 2T_ij ^n + T_{i-1j} ^n) + \\frac{\\Delta t}{\\Delta y^2} (T_{ij+1} ^n - 2T_ij ^n + T_{ij-1} ^n) \\right)$$\n",
    "\n",
    "$T_ij ^{n+1}$ is updated using only know values from the current solution at time $n$."
   ]
  },
  {
   "cell_type": "code",
   "execution_count": null,
   "metadata": {
    "collapsed": true
   },
   "outputs": [],
   "source": []
  }
 ],
 "metadata": {
  "kernelspec": {
   "display_name": "Python 3",
   "language": "python",
   "name": "python3"
  },
  "language_info": {
   "codemirror_mode": {
    "name": "ipython",
    "version": 3
   },
   "file_extension": ".py",
   "mimetype": "text/x-python",
   "name": "python",
   "nbconvert_exporter": "python",
   "pygments_lexer": "ipython3",
   "version": "3.4.3"
  }
 },
 "nbformat": 4,
 "nbformat_minor": 0
}
