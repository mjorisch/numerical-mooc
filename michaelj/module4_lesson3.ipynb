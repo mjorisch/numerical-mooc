{
 "cells": [
  {
   "cell_type": "markdown",
   "metadata": {},
   "source": [
    "## 2D Heat Conduction\n",
    "\n",
    "The equation is:\n",
    "\n",
    "$$\\rho c_p \\frac{\\partial T}{\\partial t} = \\frac{\\partial}{\\partial x} \\left( k_x \\frac{\\partial T}{\\partial x} \\right) + \\frac{\\partial}{\\partial y} \\left( k_y \\frac{\\partial T}{\\partial y} \\right)$$\n",
    "\n",
    "Where $\\rho$ is the density, $c_p$ is the heat capacity and $k$ is the thermal conductivity.\n",
    "\n",
    "If the thermal conductivity $k$ is constant we can take it outside of the spatial derivative and the equation becomes:\n",
    "\n",
    "$$\\frac{\\partial T}{\\partial t} = \\alpha \\left( \\frac{\\partial ^2 T}{\\partial x^2} + \\frac{\\partial ^2 T}{\\partial y^2} \\right)$$\n",
    "\n",
    "Where $\\alpha = \\frac{k}{\\rho c_p}$ is the thermal diffusivity.  The thermal diffusivity describes the ability of a material to conduct heat vs storing it.\n",
    "\n",
    "It looks exactly like the diffusion equation.  That's why $\\alpha$ is called the thermal diffusivity (duh)."
   ]
  },
  {
   "cell_type": "code",
   "execution_count": null,
   "metadata": {
    "collapsed": true
   },
   "outputs": [],
   "source": []
  }
 ],
 "metadata": {
  "kernelspec": {
   "display_name": "Python 3",
   "language": "python",
   "name": "python3"
  },
  "language_info": {
   "codemirror_mode": {
    "name": "ipython",
    "version": 3
   },
   "file_extension": ".py",
   "mimetype": "text/x-python",
   "name": "python",
   "nbconvert_exporter": "python",
   "pygments_lexer": "ipython3",
   "version": "3.4.3"
  }
 },
 "nbformat": 4,
 "nbformat_minor": 0
}
