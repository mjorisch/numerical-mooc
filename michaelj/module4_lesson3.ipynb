{
 "cells": [
  {
   "cell_type": "markdown",
   "metadata": {},
   "source": [
    "## 2D Heat Conduction\n",
    "\n",
    "The equation is:\n",
    "\n",
    "$$\\rho c_p \\frac{\\partial T}{\\partial t} = \\frac{\\partial}{\\partial x} \\left( k_x \\frac{\\partial T}{\\partial x} \\right) + \\frac{\\partial}{\\partial y} \\left( k_y \\frac{\\partial T}{\\partial y} \\right)$$\n",
    "\n",
    "Where $\\rho$ is the density, $c_p$ is the heat capacity and $k$ is the thermal conductivity.\n",
    "\n",
    "If the thermal conductivity $k$ is constant we can take it outside of the spatial derivative and the equation becomes:\n",
    "\n",
    "$$\\frac{\\partial T}{\\partial t} = \\alpha \\left( \\frac{\\partial ^2 T}{\\partial x^2} + \\frac{\\partial ^2 T}{\\partial y^2} \\right)$$\n",
    "\n",
    "Where $\\alpha = \\frac{k}{\\rho c_p}$ is the thermal diffusivity.  The thermal diffusivity describes the ability of a material to conduct heat vs storing it.\n",
    "\n",
    "It looks exactly like the diffusion equation.  That's why $\\alpha$ is called the thermal diffusivity (duh)."
   ]
  },
  {
   "cell_type": "markdown",
   "metadata": {},
   "source": [
    "### Problem Statement\n",
    "\n",
    "Removing heat out of microchips is a big issues in the computer industry.  We're at a point where they can't run much faster because they would start failing to to high temp.\n",
    "\n",
    "Gotta look at how heat is dissipated from the chip with a simplified model.  Let's consider the chip as a 2D plate that is $1cm x 1cm$ made of Silicon.\n",
    "\n",
    "$k = 159W/mC$, $c_p = 0.712 * 10^3 J/kgC$, $\\rho = 2329kg/m^3$ and diffusivity $\\alpha \\approx 10^-4 m^2 /rms$.  Silicon melts at $1414^{\\circ} C$ but the chips should operate at much smaller temps.  The max temp allowed depends on the model and make.  Usually it is somewhere between $60^{\\circ} C$ and $70^{\\circ} C$, but better CPUs are recommended to operate at a max of $80^{\\circ} C$.\n",
    "\n",
    "Artificial problem:\n",
    "The chip is in a position where the top and right edges are in contact with insulating material.  The other two edges are touching components that have a const temp of $T = 100^{\\circ} C$ when the machine is operating.  Initially the chip is at room temp $20^{\\circ} C$.  How long does it take for the center of the chip to reach $70^{\\circ} C$?"
   ]
  },
  {
   "cell_type": "markdown",
   "metadata": {},
   "source": [
    "## 2D Finite Differences\n",
    "\n",
    "Two spatial dimensions.  Need to build a 2D grid of discrete points to compute the solution on.\n",
    "\n",
    "2D Cartesian grid that consists of two families of grid lines parallel to the two spatial directions.  Two lines intersect on one and only one grid node (structured grid).  In the x direction the discretization uses i to N lines and in the y direction j to N lines.  A given node will have two spatial coordinates and we need two indices for the two lines that intersect at that node."
   ]
  },
  {
   "cell_type": "markdown",
   "metadata": {},
   "source": [
    "### Explicit Scheme in 2D\n",
    "\n",
    "Discretized 2D heat equation FT and CS explicit scheme.\n",
    "\n",
    "$$\\frac{T_ij ^{n+1} - T_ij ^n}{\\Delta t} = \\alpha \\left( \\frac{T_{i+1j} ^n - 2T_ij ^n + T_{i-1j} ^n}{\\Delta x^2} + \\frac{T_{ij+1} ^n - 2T_ij ^n + T_{ij-1} ^n}{\\Delta y^2} \\right)$$\n",
    "\n",
    "If we rearrange to solve for $T_ij ^{n+1}$ we get:\n",
    "\n",
    "$$T_ij ^{n+1} = T_ij ^n + \\alpha \\left( \\frac{\\Delta t}{\\Delta x^2} (T_{i+1j} ^n - 2T_ij ^n + T_{i-1j} ^n) + \\frac{\\Delta t}{\\Delta y^2} (T_{ij+1} ^n - 2T_ij ^n + T_{ij-1} ^n) \\right)$$\n",
    "\n",
    "$T_ij ^{n+1}$ is updated using only know values from the current solution at time $n$."
   ]
  },
  {
   "cell_type": "markdown",
   "metadata": {},
   "source": [
    "### Boundary Conditions\n",
    "\n",
    "Since the problem stated had derivatives at the boundaries we use Neumann.\n",
    "\n",
    "At every time step we need to enforce:\n",
    "\n",
    "$$T_{i,end} = q_y * \\Delta y + T_{i,end-1}$$\n",
    "\n",
    "and\n",
    "\n",
    "$$T_{end,j} = q_x * \\Delta x + T_{end-1,j}$$"
   ]
  },
  {
   "cell_type": "markdown",
   "metadata": {},
   "source": [
    "### Stability\n",
    "\n",
    "Need to look at the stability constraints.  In 1D explicit discretization of diffusion it was stable as long as $\\alpha \\frac{\\Delta t}{(\\Delta x)^2} \\leq \\frac{1}{2}$.  In 2D the constraint is tighter due to the fact that it needs to be added in both directions:\n",
    "\n",
    "$$\\alpha \\frac{\\Delta t}{(\\Delta x)^2} + \\alpha \\frac{\\Delta t}{(\\Delta y)^2} < \\frac{1}{2}$$\n",
    "\n",
    "The mesh will have the same spacing in x and y $\\therefore \\Delta x = \\Delta y = \\delta$, then the stability condition is:\n",
    "\n",
    "$$\\alpha \\frac{\\Delta t}{\\delta ^2} < \\frac{1}{4}$$"
   ]
  },
  {
   "cell_type": "markdown",
   "metadata": {},
   "source": [
    "## Code Implementation\n",
    "\n",
    "### Array storage\n",
    "\n",
    "Since the physical problem has two dimensions, the temp needs to be stored in a 2D array.\n",
    "\n",
    "The y coordinate will correspond to the rows of the array and the x coordinate will correspond to the columns.  With the stencil then x will correspond to i and y will coresspond to j. $T_{i,j}$ will be $T[j,i]$ so that it matches the physical orientation.  Because the first element is the row and the second is the column."
   ]
  },
  {
   "cell_type": "code",
   "execution_count": 1,
   "metadata": {
    "collapsed": true
   },
   "outputs": [],
   "source": [
    "import numpy\n",
    "from matplotlib import pyplot\n",
    "%matplotlib inline\n",
    "from matplotlib import rcParams\n",
    "rcParams['font.family'] = 'serif'\n",
    "rcParams['font.size'] = 16"
   ]
  },
  {
   "cell_type": "code",
   "execution_count": 3,
   "metadata": {
    "collapsed": false
   },
   "outputs": [],
   "source": [
    "def ftcs(T, nt, alpha, dt, dx, dy):\n",
    "    \n",
    "    # force j_mid and i_mid will be integers so we can use them as indices\n",
    "    # for the array T\n",
    "    \n",
    "    j_mid = int((numpy.shape(T)[0])/2)\n",
    "    i_mid = int((numpy.shape(T)[1])/2)\n",
    "    \n",
    "    for n in range(nt):\n",
    "        Tn = T.copy()\n",
    "        T[1:-1, 1:-1] = Tn[1:-1, 1:-1] + alpha * (dt / dy ** 2 * (Tn[2:, 1:-1] - 2 * Tn[1:-1, 1:-1] + Tn[:-2, 1:-1]) + dt / dx ** 2 * (Tn[1:-1, 2:] - 2 * Tn[1:-1, 1:-1] + Tn[1:-1, :-2]))\n",
    "        \n",
    "        #Enforce Neumann BCs\n",
    "        T[-1, :] = T[-2, :]\n",
    "        T[:, - 1] = T[: ,-2]\n",
    "        \n",
    "        #Check if we reached T = 70 C\n",
    "        if T[j_mid, i_mid] >= 70:\n",
    "            print (\"Center of the plate reached 70 C at time {0:.2f}s.\".format(dt * n))\n",
    "            break\n",
    "            \n",
    "    if T[j_mid, i_mid] < 70:\n",
    "        print (\"Center has not reached 70 C yet, it is only {0:.2f}C.\".format(T[j_mid, i_mid]))\n",
    "        \n",
    "    return T"
   ]
  },
  {
   "cell_type": "code",
   "execution_count": 4,
   "metadata": {
    "collapsed": true
   },
   "outputs": [],
   "source": [
    "# Initial Conditions based on problem set up\n",
    "\n",
    "L = 1.0e-2\n",
    "H = 1.0e-2\n",
    "\n",
    "nx = 21\n",
    "ny = 21\n",
    "nt = 500\n",
    "\n",
    "dx = L / (nx - 1)\n",
    "dy = H / (ny - 1)\n",
    "\n",
    "x = numpy.linspace(0, L, nx)\n",
    "y = numpy.linspace(0, H, ny)\n",
    "\n",
    "alpha = 1e-4\n",
    "\n",
    "Ti = numpy.ones((ny, nx)) * 20\n",
    "Ti[0, :] = 100\n",
    "Ti[:, 0] = 100"
   ]
  },
  {
   "cell_type": "markdown",
   "metadata": {},
   "source": [
    "Need to find a time step with: \n",
    "\n",
    "$$\\frac{\\alpha \\Delta t}{\\Delta x^2} = \\frac{\\alpha \\Delta t}{\\Delta y^2} = \\frac{1}{4}$$"
   ]
  },
  {
   "cell_type": "code",
   "execution_count": 5,
   "metadata": {
    "collapsed": false
   },
   "outputs": [
    {
     "name": "stdout",
     "output_type": "stream",
     "text": [
      "Center of the plate reached 70 C at time 0.16s.\n"
     ]
    }
   ],
   "source": [
    "sigma = 0.25\n",
    "dt = sigma * min(dx, dy) ** 2 / alpha\n",
    "T = ftcs(Ti.copy(), nt, alpha, dt, dx, dy)"
   ]
  },
  {
   "cell_type": "markdown",
   "metadata": {},
   "source": [
    "### Vizualize the results\n",
    "\n",
    "For two spatial dimensions and temperature to display we need a different type of plot.  Contour! Who would've thought?\n",
    "\n",
    "Command: **pyplot.contourf** the f means \"filled\" contours\n",
    "\n",
    "A meshgrid is needed first for plotting purposes\n",
    "\n",
    "**numpy.meshgrid** is a function that takes two vectors (x and y for ex) and returns two 2D arrays of x and y coordinates that we then use to create the contour plot."
   ]
  },
  {
   "cell_type": "code",
   "execution_count": 6,
   "metadata": {
    "collapsed": true
   },
   "outputs": [],
   "source": [
    "mx, my = numpy.meshgrid(x, y)"
   ]
  },
  {
   "cell_type": "code",
   "execution_count": 7,
   "metadata": {
    "collapsed": false
   },
   "outputs": [
    {
     "data": {
      "image/png": "[encoded data removed]",
      "text/plain": [
       "<matplotlib.figure.Figure at 0x1058cac88>"
      ]
     },
     "metadata": {},
     "output_type": "display_data"
    }
   ],
   "source": [
    "pyplot.figure(figsize = (8, 5))\n",
    "pyplot.contourf(mx, my, T, 20) # the 20 sets the number of contour levels to display\n",
    "pyplot.xlabel('$x$')\n",
    "pyplot.ylabel('$y$')\n",
    "pyplot.colorbar();"
   ]
  },
  {
   "cell_type": "code",
   "execution_count": null,
   "metadata": {
    "collapsed": true
   },
   "outputs": [],
   "source": []
  }
 ],
 "metadata": {
  "kernelspec": {
   "display_name": "Python 3",
   "language": "python",
   "name": "python3"
  },
  "language_info": {
   "codemirror_mode": {
    "name": "ipython",
    "version": 3
   },
   "file_extension": ".py",
   "mimetype": "text/x-python",
   "name": "python",
   "nbconvert_exporter": "python",
   "pygments_lexer": "ipython3",
   "version": "3.4.3"
  }
 },
 "nbformat": 4,
 "nbformat_minor": 0
}
