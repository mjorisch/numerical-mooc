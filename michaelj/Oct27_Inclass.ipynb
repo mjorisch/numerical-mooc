{
 "cells": [
  {
   "cell_type": "markdown",
   "metadata": {},
   "source": [
    "1D Burgers equation: $$\\frac{\\partial u}{\\partial t} = -u \\frac{\\partial u}{\\partial x}$$\n",
    "Need to represent it in the conservative form to better deal with shocks: $$\\frac{\\partial u}{\\partial t} = - \\frac{\\partial}{\\partial x} (\\frac{u^2}{2})$$\n",
    "It can also be written as: $$\\frac{\\partial u}{\\partial t} = - \\frac{\\partial F}{\\partial x}$$\n",
    "If $F = \\frac{u^2}{2}$\n",
    "\n",
    "## Initial Conditions ##\n",
    "\n",
    "$$u(x,0) = 1, 0 \\leq x < 2$$\n",
    "$$u(x,0) = 0, 2 \\leq x \\leq 4$$"
   ]
  },
  {
   "cell_type": "code",
   "execution_count": 1,
   "metadata": {
    "collapsed": true
   },
   "outputs": [],
   "source": [
    "%matplotlib inline\n",
    "import numpy\n",
    "import matplotlib.pyplot as plt"
   ]
  },
  {
   "cell_type": "code",
   "execution_count": 2,
   "metadata": {
    "collapsed": false
   },
   "outputs": [],
   "source": [
    "from matplotlib import animation\n",
    "from JSAnimation.IPython_display import display_animation"
   ]
  },
  {
   "cell_type": "code",
   "execution_count": 3,
   "metadata": {
    "collapsed": true
   },
   "outputs": [],
   "source": [
    "def u_initial(nx):\n",
    "    \n",
    "    u = numpy.ones(nx)\n",
    "    u[:(nx-1)*2./4.] = 0\n",
    "    \n",
    "    return u"
   ]
  },
  {
   "cell_type": "code",
   "execution_count": 4,
   "metadata": {
    "collapsed": true
   },
   "outputs": [],
   "source": [
    "nx = 81\n",
    "nt = 70\n",
    "dx = 4.0/(nx-1)"
   ]
  },
  {
   "cell_type": "code",
   "execution_count": 5,
   "metadata": {
    "collapsed": true
   },
   "outputs": [],
   "source": [
    "computeF = lambda u: (u/2)**2"
   ]
  },
  {
   "cell_type": "markdown",
   "metadata": {},
   "source": [
    "computeF replaces every value of u with $(\\frac{u}{2})^2$"
   ]
  },
  {
   "cell_type": "markdown",
   "metadata": {},
   "source": [
    "MacCormack Scheme\n",
    "\n",
    "$u_i ^* = u_i ^n - \\frac{\\Delta t}{\\Delta x} (F_{i+1} ^n - F_i ^n)$ (predictor)\n",
    "\n",
    "$u_i ^{n+1} = \\frac{1}{2} \\left(u_i ^n + u_i ^* - \\frac{\\Delta t}{\\Delta x} (F_i ^* - F_{i-1} ^*)\\right)$ (corrector)"
   ]
  },
  {
   "cell_type": "code",
   "execution_count": 13,
   "metadata": {
    "collapsed": true
   },
   "outputs": [],
   "source": [
    "def maccormack(u, nt, dt, dx):\n",
    "    un = numpy.zeros((nt,len(u)))\n",
    "    un[:] = u.copy()\n",
    "    ustar = u.copy()\n",
    "    \n",
    "    for t in range(1,nt):\n",
    "        F = computeF(u)\n",
    "        \n",
    "        ustar[:-1] = un[:-1] - dt/dx*(F[1:] - F[:-1])\n",
    "        \n",
    "        Fstar = computeF(ustar)\n",
    "        \n",
    "        un[t,1:] =  .5*(un[t-1,1:] + ustar[1:] - dt/dx*(Fstar[1:] - Fstar[:-1]))\n",
    "        \n",
    "        u = un[t].copy()\n",
    "        \n",
    "    return un"
   ]
  },
  {
   "cell_type": "code",
   "execution_count": 14,
   "metadata": {
    "collapsed": true
   },
   "outputs": [],
   "source": [
    "#CFL = 1\n",
    "def animate(data):\n",
    "    x = numpy.linspace(0,4,nx)\n",
    "    y = data\n",
    "    line.step_data(x,y)\n",
    "    return line,"
   ]
  },
  {
   "cell_type": "code",
   "execution_count": null,
   "metadata": {
    "collapsed": true
   },
   "outputs": [],
   "source": []
  }
 ],
 "metadata": {
  "kernelspec": {
   "display_name": "Python 3",
   "language": "python",
   "name": "python3"
  },
  "language_info": {
   "codemirror_mode": {
    "name": "ipython",
    "version": 3
   },
   "file_extension": ".py",
   "mimetype": "text/x-python",
   "name": "python",
   "nbconvert_exporter": "python",
   "pygments_lexer": "ipython3",
   "version": "3.4.3"
  }
 },
 "nbformat": 4,
 "nbformat_minor": 0
}
