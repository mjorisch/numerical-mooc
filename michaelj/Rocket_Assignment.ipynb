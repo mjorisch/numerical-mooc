{
 "cells": [
  {
   "cell_type": "code",
   "execution_count": 67,
   "metadata": {
    "collapsed": true
   },
   "outputs": [],
   "source": [
    "from math import sin, cos, log, ceil, pi\n",
    "import numpy\n",
    "from matplotlib import pyplot\n",
    "%matplotlib inline\n",
    "from matplotlib import rcParams\n",
    "rcParams['font.family'] = 'serif'\n",
    "rcParams['font.size'] = 16"
   ]
  },
  {
   "cell_type": "code",
   "execution_count": 68,
   "metadata": {
    "collapsed": true
   },
   "outputs": [],
   "source": [
    "#Model parameters:\n",
    "\n",
    "g = 9.81\n",
    "v_e = 325.0         #Exhaust speed in m/s\n",
    "m_s = 50.0            #Mass of rocket shell in kg\n",
    "r = 0.5             #Radius of rocket\n",
    "rho = 1.091         #Average density of air throughout the flight in kg/m^3\n",
    "C_D = 0.15          #Coefficient of drag\n",
    "mdotp_0 = 20.0        #Initial burn rate in kg/s\n",
    "A = numpy.pi*(r**2) #Area of the cross section in m^2\n",
    "\n",
    "#Initial conditions\n",
    "h0 = 0.0\n",
    "v0 = 0.0\n",
    "m_p0 = 100.0   #Initial rocket propellant weight in kg at t = 0"
   ]
  },
  {
   "cell_type": "code",
   "execution_count": 69,
   "metadata": {
    "collapsed": true
   },
   "outputs": [],
   "source": [
    "def f(u):\n",
    "    v = u[0]\n",
    "    h = u[1]\n",
    "    \n",
    "    return numpy.array([v, -g + (((mdotp_values*v_e)/(m_s+m_p0)) - (0.5*rho*v*abs(v)*A*C_D))])"
   ]
  },
  {
   "cell_type": "code",
   "execution_count": 70,
   "metadata": {
    "collapsed": true
   },
   "outputs": [],
   "source": [
    "def euler_step(u, f, dt):\n",
    "    \n",
    "    return u + dt * f(u)"
   ]
  },
  {
   "cell_type": "code",
   "execution_count": 71,
   "metadata": {
    "collapsed": false
   },
   "outputs": [
    {
     "ename": "TypeError",
     "evalue": "unsupported operand type(s) for *: 'NoneType' and 'float'",
     "output_type": "error",
     "traceback": [
      "\u001b[1;31m---------------------------------------------------------------------------\u001b[0m",
      "\u001b[1;31mTypeError\u001b[0m                                 Traceback (most recent call last)",
      "\u001b[1;32m<ipython-input-71-eec40d3af0ba>\u001b[0m in \u001b[0;36m<module>\u001b[1;34m()\u001b[0m\n\u001b[0;32m     18\u001b[0m     \u001b[0mmdotp_values\u001b[0m \u001b[1;33m=\u001b[0m \u001b[0mmdotp\u001b[0m\u001b[1;33m[\u001b[0m\u001b[0mn\u001b[0m\u001b[1;33m]\u001b[0m\u001b[1;33m\u001b[0m\u001b[0m\n\u001b[0;32m     19\u001b[0m     \u001b[0mm_p\u001b[0m\u001b[1;33m[\u001b[0m\u001b[0mn\u001b[0m\u001b[1;33m]\u001b[0m \u001b[1;33m=\u001b[0m \u001b[0mm_p0\u001b[0m \u001b[1;33m-\u001b[0m \u001b[0mmdotp_integral\u001b[0m\u001b[1;33m[\u001b[0m\u001b[0mn\u001b[0m\u001b[1;33m]\u001b[0m\u001b[1;33m\u001b[0m\u001b[0m\n\u001b[1;32m---> 20\u001b[1;33m     \u001b[0mu\u001b[0m\u001b[1;33m[\u001b[0m\u001b[0mn\u001b[0m\u001b[1;33m+\u001b[0m\u001b[1;36m1\u001b[0m\u001b[1;33m]\u001b[0m \u001b[1;33m=\u001b[0m \u001b[0meuler_step\u001b[0m\u001b[1;33m(\u001b[0m\u001b[0mu\u001b[0m\u001b[1;33m[\u001b[0m\u001b[0mn\u001b[0m\u001b[1;33m]\u001b[0m\u001b[1;33m,\u001b[0m \u001b[0mf\u001b[0m\u001b[1;33m,\u001b[0m \u001b[0mdt\u001b[0m\u001b[1;33m)\u001b[0m\u001b[1;33m\u001b[0m\u001b[0m\n\u001b[0m",
      "\u001b[1;32m<ipython-input-70-4aff7763dd2a>\u001b[0m in \u001b[0;36meuler_step\u001b[1;34m(u, f, dt)\u001b[0m\n\u001b[0;32m      1\u001b[0m \u001b[1;32mdef\u001b[0m \u001b[0meuler_step\u001b[0m\u001b[1;33m(\u001b[0m\u001b[0mu\u001b[0m\u001b[1;33m,\u001b[0m \u001b[0mf\u001b[0m\u001b[1;33m,\u001b[0m \u001b[0mdt\u001b[0m\u001b[1;33m)\u001b[0m\u001b[1;33m:\u001b[0m\u001b[1;33m\u001b[0m\u001b[0m\n\u001b[0;32m      2\u001b[0m \u001b[1;33m\u001b[0m\u001b[0m\n\u001b[1;32m----> 3\u001b[1;33m     \u001b[1;32mreturn\u001b[0m \u001b[0mu\u001b[0m \u001b[1;33m+\u001b[0m \u001b[0mdt\u001b[0m \u001b[1;33m*\u001b[0m \u001b[0mf\u001b[0m\u001b[1;33m(\u001b[0m\u001b[0mu\u001b[0m\u001b[1;33m)\u001b[0m\u001b[1;33m\u001b[0m\u001b[0m\n\u001b[0m",
      "\u001b[1;32m<ipython-input-69-248e601399cf>\u001b[0m in \u001b[0;36mf\u001b[1;34m(u)\u001b[0m\n\u001b[0;32m      3\u001b[0m     \u001b[0mh\u001b[0m \u001b[1;33m=\u001b[0m \u001b[0mu\u001b[0m\u001b[1;33m[\u001b[0m\u001b[1;36m1\u001b[0m\u001b[1;33m]\u001b[0m\u001b[1;33m\u001b[0m\u001b[0m\n\u001b[0;32m      4\u001b[0m \u001b[1;33m\u001b[0m\u001b[0m\n\u001b[1;32m----> 5\u001b[1;33m     \u001b[1;32mreturn\u001b[0m \u001b[0mnumpy\u001b[0m\u001b[1;33m.\u001b[0m\u001b[0marray\u001b[0m\u001b[1;33m(\u001b[0m\u001b[1;33m[\u001b[0m\u001b[0mv\u001b[0m\u001b[1;33m,\u001b[0m \u001b[1;33m-\u001b[0m\u001b[0mg\u001b[0m \u001b[1;33m+\u001b[0m \u001b[1;33m(\u001b[0m\u001b[1;33m(\u001b[0m\u001b[1;33m(\u001b[0m\u001b[0mmdotp_values\u001b[0m\u001b[1;33m*\u001b[0m\u001b[0mv_e\u001b[0m\u001b[1;33m)\u001b[0m\u001b[1;33m/\u001b[0m\u001b[1;33m(\u001b[0m\u001b[0mm_s\u001b[0m\u001b[1;33m+\u001b[0m\u001b[0mm_p0\u001b[0m\u001b[1;33m)\u001b[0m\u001b[1;33m)\u001b[0m \u001b[1;33m-\u001b[0m \u001b[1;33m(\u001b[0m\u001b[1;36m0.5\u001b[0m\u001b[1;33m*\u001b[0m\u001b[0mrho\u001b[0m\u001b[1;33m*\u001b[0m\u001b[0mv\u001b[0m\u001b[1;33m*\u001b[0m\u001b[0mabs\u001b[0m\u001b[1;33m(\u001b[0m\u001b[0mv\u001b[0m\u001b[1;33m)\u001b[0m\u001b[1;33m*\u001b[0m\u001b[0mA\u001b[0m\u001b[1;33m*\u001b[0m\u001b[0mC_D\u001b[0m\u001b[1;33m)\u001b[0m\u001b[1;33m)\u001b[0m\u001b[1;33m]\u001b[0m\u001b[1;33m)\u001b[0m\u001b[1;33m\u001b[0m\u001b[0m\n\u001b[0m",
      "\u001b[1;31mTypeError\u001b[0m: unsupported operand type(s) for *: 'NoneType' and 'float'"
     ]
    }
   ],
   "source": [
    "T = 40.0 #Final time\n",
    "dt = 0.1 #Time step\n",
    "N = int(T/dt) + 1 #Number of time-steps\n",
    "t = numpy.linspace(0.0,T,N) #Time-discretization\n",
    "\n",
    "m_p = numpy.empty_like(t, dtype=numpy.ndarray)\n",
    "mdotp = numpy.empty_like(t, dtype=numpy.ndarray)\n",
    "mdotp[0:(5/dt)] = 20 #Setting the first 5 seconds to 20 kg/s\n",
    "mdotp_integral = 100.0*numpy.ones_like(t, dtype=numpy.ndarray)\n",
    "mdotp_integral[0:(5/dt)] = 20*t[0:(5/dt)] #constant burn rate for the first 5 seconds\n",
    "\n",
    "#Initialize the array that contains the solutions for each time-step\n",
    "u = numpy.empty((N,2))\n",
    "u[0] = numpy.array([v0,h0])\n",
    "\n",
    "#Euler method - time loop\n",
    "for n in range(N-1):\n",
    "    mdotp_values = mdotp[n]\n",
    "    m_p[n] = m_p0 - mdotp_integral[n]\n",
    "    u[n+1] = euler_step(u[n], f, dt)\n"
   ]
  },
  {
   "cell_type": "code",
   "execution_count": null,
   "metadata": {
    "collapsed": false
   },
   "outputs": [],
   "source": [
    "#Get position and velocity with respect to time\n",
    "v = u[:,0]\n",
    "h = u[:,1]"
   ]
  },
  {
   "cell_type": "code",
   "execution_count": null,
   "metadata": {
    "collapsed": true
   },
   "outputs": [],
   "source": [
    "#Visualization of the path\n",
    "pyplot.figure(figsize=(8,6))\n",
    "pyplot.grid(True)\n",
    "pyplot.xlabel(r'Time', fontsize=18)\n",
    "pyplot.ylabel(r'Velocity', fontsize=18)\n",
    "pyplot.title('Rocket Velocity vs Time, Flight Time = %.2f' % T, fontsize=18)\n",
    "pyplot.plot(t,v,'k-',lw=2)\n",
    "\n",
    "pyplot.figure(figsize=(8,6))\n",
    "pyplot.grid(True)\n",
    "pyplot.xlabel(r'Time', fontsize=18)\n",
    "pyplot.ylabel(r'Height', fontsize=18)\n",
    "pyplot.title('Rocket Height vs Time, Flight Time = %.2f' % T, fontsize=18)\n",
    "pyplot.plot(t,h,'k-',lw=2)\n",
    "\n",
    "pyplot.figure(figsize=(8,6))\n",
    "pyplot.grid(True)\n",
    "pyplot.xlabel(r'Time', fontsize=18)\n",
    "pyplot.ylabel(r'Height', fontsize=18)\n",
    "pyplot.title('Weight of Rocket Propellant vs Time, Flight Time = %.2f' % T, fontsize=18)\n",
    "pyplot.plot(t,mdotp,'k-',lw=2)"
   ]
  }
 ],
 "metadata": {
  "kernelspec": {
   "display_name": "Python 3",
   "language": "python",
   "name": "python3"
  },
  "language_info": {
   "codemirror_mode": {
    "name": "ipython",
    "version": 3
   },
   "file_extension": ".py",
   "mimetype": "text/x-python",
   "name": "python",
   "nbconvert_exporter": "python",
   "pygments_lexer": "ipython3",
   "version": "3.4.3"
  }
 },
 "nbformat": 4,
 "nbformat_minor": 0
}
