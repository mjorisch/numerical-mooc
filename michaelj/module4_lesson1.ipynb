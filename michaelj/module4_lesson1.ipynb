{
 "cells": [
  {
   "cell_type": "markdown",
   "metadata": {},
   "source": [
    "# Spreading Out\n",
    "Drop of food dye in a cup of water that slowly spreads in all directions until all of the liquid is the color of the dye.  Diffusion spreads it around but it is not directional.  We need numerical methods that are isotropic."
   ]
  },
  {
   "cell_type": "markdown",
   "metadata": {},
   "source": [
    "## Parabolic PDEs\n",
    "\n",
    "1D Diffusion equation.  Main feature: Second-order derivative in space.\n",
    "$$\\frac{\\partial u}{\\partial t} = \\alpha \\frac{\\partial ^2 u}{\\partial x^2}$$"
   ]
  },
  {
   "cell_type": "markdown",
   "metadata": {},
   "source": [
    "## Heat Conduction\n",
    "\n",
    "Diffusive process.  Heat equation in one spatial dimension:\n",
    "$$\\frac{\\partial T}{\\partial t} = \\alpha \\frac{\\partial ^2 T}{\\partial x^2}$$\n",
    "\n",
    "Where $\\alpha$ is the thermal diffusivity which is a property of the material and $T$ is the temperature.\n",
    "\n",
    "In Mod2_Les3 we discretized the diffusion equation with a forward time, and centered space scheme which was subject to the following stability constraint:\n",
    "$$\\alpha \\frac{\\Delta t}{(\\Delta x)^2} \\leq \\frac{1}{2}$$\n",
    "\n",
    "Gotta look at a 1D temperature evolution problem"
   ]
  },
  {
   "cell_type": "markdown",
   "metadata": {},
   "source": [
    "### Problem set up\n",
    "\n",
    "We have a graphite rod with a thermal diffusivity $\\alpha = 1.22 x 10^{-3} m^2/s$ at length $L = 1m$ and temperature $T = 0^{\\circ} C$ everywhere.  At time $t = 0$, we raise the temperature on the left-side end, $x = 0$ to $T = 100^{\\circ} C$ and hold it there. How will the temperature evolve in the rod?\n",
    "\n",
    "We will begin with a spatial grid of 51 points and using 100 time steps with a forward time/centered space scheme."
   ]
  },
  {
   "cell_type": "code",
   "execution_count": 1,
   "metadata": {
    "collapsed": true
   },
   "outputs": [],
   "source": [
    "import numpy\n",
    "from matplotlib import pyplot\n",
    "%matplotlib inline\n",
    "from matplotlib import rcParams\n",
    "rcParams['font.family'] = 'serif'\n",
    "rcParams['font.size'] = 16"
   ]
  },
  {
   "cell_type": "code",
   "execution_count": 2,
   "metadata": {
    "collapsed": true
   },
   "outputs": [],
   "source": [
    "#Initial Conditions\n",
    "L = 1\n",
    "nt = 100\n",
    "nx = 51\n",
    "alpha = 1.22e-3\n",
    "\n",
    "dx = L/(nx-1)\n",
    "\n",
    "Ti = numpy.zeros(nx)\n",
    "Ti[0] = 100"
   ]
  },
  {
   "cell_type": "markdown",
   "metadata": {},
   "source": [
    "Forward-time, Centered-space discretization\n",
    "$$\\frac{T_i ^{n+1} - T_i ^n}{\\Delta t} = \\alpha \\frac{T_{i+1} ^n - 2T_i ^n + T_{i-1} ^n}{\\Delta x^2}$$\n",
    "\n",
    "To obtain the temperature at the next time step $T_i ^{n+1}$ from the known information at the current time step we get:\n",
    "$$T_i ^{n+1} = T_i ^n + \\frac{\\alpha \\Delta t}{\\Delta x^2} (T_{i+1} ^n - 2T_i ^n + T_{i-1} ^n)$$"
   ]
  },
  {
   "cell_type": "code",
   "execution_count": 3,
   "metadata": {
    "collapsed": true
   },
   "outputs": [],
   "source": [
    "def ftcs(T, nt, dt, dx, alpha):\n",
    "    \"\"\"Solves the diffusion equation with forward-time, centererd scheme\n",
    "    \n",
    "    Parameters\n",
    "    ----------\n",
    "    T : array of float\n",
    "        Initial temperature profile\n",
    "    nt : int\n",
    "        Number of time steps\n",
    "    dt : float\n",
    "        Time step size\n",
    "    dx : float\n",
    "        Mesh size\n",
    "    alpha : float\n",
    "        Diffusion coefficient (thermal diffusivity)\n",
    "        \n",
    "    Returns:\n",
    "    -------\n",
    "    T : array of float\n",
    "        Temperature profile after nt time steps with a forward in the time scheme\n",
    "    \"\"\"\n",
    "    for n in range(nt):\n",
    "        Tn = T.copy()\n",
    "        T[1:-1] = Tn[1:-1] + alpha * dt / dx ** 2 * (Tn[2:] - 2 * Tn[1:-1] + Tn[0:-2])\n",
    "        \n",
    "    return T"
   ]
  },
  {
   "cell_type": "code",
   "execution_count": 4,
   "metadata": {
    "collapsed": true
   },
   "outputs": [],
   "source": [
    "sigma = 1/2.0\n",
    "dt = sigma * dx * dx / alpha\n",
    "T = ftcs(Ti.copy(), nt, dt, dx, alpha)"
   ]
  },
  {
   "cell_type": "code",
   "execution_count": 5,
   "metadata": {
    "collapsed": false
   },
   "outputs": [
    {
     "data": {
      "image/png": "[encoded data removed]",
      "text/plain": [
       "<matplotlib.figure.Figure at 0x1058d2550>"
      ]
     },
     "metadata": {},
     "output_type": "display_data"
    }
   ],
   "source": [
    "pyplot.plot(numpy.linspace(0, 1, nx), T, color = '#003366', ls = '-', lw = 3)\n",
    "pyplot.ylim(0, 100)\n",
    "pyplot.xlabel('Length of Rod')\n",
    "pyplot.ylabel('Temperature');"
   ]
  },
  {
   "cell_type": "markdown",
   "metadata": {},
   "source": [
    "## Boundary Conditions\n",
    "\n",
    "We stated that the left-hand side of the rod is held to a temp of $T = 100^{\\circ} C$.  This is an example of a boundary condition which is a rule that defines how the problem interacts with the borders of the domain.  In the case of this problem the domain spans the length of the rod from $0 \\leq x \\leq 1$"
   ]
  },
  {
   "cell_type": "markdown",
   "metadata": {},
   "source": [
    "### Dirichlet Boundary\n",
    "\n",
    "The rod example uses a Dirichlet BC on the left hand side.\n",
    "\n",
    "**Dirlichlet boundary** : the border is held to a specific value of the solution variable.\n",
    "\n",
    "What about the ride hand end?  In the discretization we set up the problem hasn't evolved for long enough time for the heat to travel the full length of the rod.  Let's increase the number of timesteps and see what hip-happens."
   ]
  },
  {
   "cell_type": "code",
   "execution_count": 6,
   "metadata": {
    "collapsed": true
   },
   "outputs": [],
   "source": [
    "nt = 1000\n",
    "T = ftcs(Ti.copy(), nt, dt, dx, alpha)"
   ]
  },
  {
   "cell_type": "code",
   "execution_count": 7,
   "metadata": {
    "collapsed": false
   },
   "outputs": [
    {
     "data": {
      "image/png": "[encoded data removed]",
      "text/plain": [
       "<matplotlib.figure.Figure at 0x105abb1d0>"
      ]
     },
     "metadata": {},
     "output_type": "display_data"
    }
   ],
   "source": [
    "pyplot.plot(numpy.linspace(0, 1, nx), T, color = '#003366', ls = '-', lw = 3)\n",
    "pyplot.ylim(0, 100)\n",
    "pyplot.xlabel('Length of Rod')\n",
    "pyplot.ylabel('Temperature');"
   ]
  },
  {
   "cell_type": "markdown",
   "metadata": {},
   "source": [
    "We're pinning to the right BC to the value $T = 0^{\\circ} C$\n",
    "\n",
    "This is because the value at $T[-1]$ never is updated which in the initial Ti array is set to zero and always stays zero.  This effectively creates a Dirichlet boundary at both ends.  Due to this, after enough time the distribution will 'relax' to a linear temperature gradient across the length of the rod.\n",
    "\n",
    "Once it is relaxed, no addition of timesteps will make it change.  This is an example of a steady-state solution.\n",
    "\n",
    "Dirichlet BCs show up in lots of engineering applications such as thermodynamics (setting a surface temp), and fluid dynamics (no-slip conditions at walls in viscous fluids)."
   ]
  },
  {
   "cell_type": "markdown",
   "metadata": {},
   "source": [
    "### Neumann boundary\n",
    "\n",
    "Another type of BC which specifies the derivative of the solution at the border rather than a specific value.\n",
    "\n",
    "In our example we can represent our Neumann boundary to the right hand end of the rod mathematically as:\n",
    "$$\\left. \\frac{\\partial T}{\\partial x} \\right|_{x = 1} = q(t)$$\n",
    "\n",
    "We can turn that into code using a finite-difference discretization of the derivative at the boundary.  At time step n, for N points:\n",
    "\n",
    "$$\\left. \\frac{\\partial T}{\\partial x} \\right|_{x = 1} \\approx \\frac{T_N ^n - T_{N-1} ^n}{\\Delta x} = q(t)$$\n",
    "\n",
    "The space derivative of the temperature is the heat flux density $q$ which is the amount of heat per unit time, per unit area.\n",
    "\n",
    "For example, if at x = 1 on the rod there is insulating material, no heat is going to be able to get out through that end, and the Neumann boundary condition is:\n",
    "\n",
    "$$\\left. \\frac{\\partial T}{\\partial x} \\right|_{x = 1} = 0$$\n",
    "\n",
    "This means that the change in temperature when moving in the x direction is zero at the right most edge of the rod, meaning that the temperature should be equal on the last two spatial grid points.\n",
    "\n",
    "To enforce this BC at the right hand end of the rode we add this to our code:\n",
    "\n",
    "$$T[-1] = T[-2]$$\n",
    "\n",
    "This means the temperature at the boundary $T[-1]$ is equal to the temperature directly to its left $T[-2]$.  The spatial gradient is zero and a Neumann condition is satisfied there.\n",
    "\n",
    "The Dirichlet conditions did not need any extra input, but the Neumann condition requires an update at each iteration of the loop.\n",
    "\n",
    "Sometimes Dirichlet and Neumann BCs can be mixed to better represent the physics of a problem.\n",
    "\n",
    "For the problem now at $x = 0$ the temp will be fixed at $T = 100^{\\circ} C$ - Dirichlet condition and a Neumann BC at $x = 1$"
   ]
  },
  {
   "cell_type": "code",
   "execution_count": 8,
   "metadata": {
    "collapsed": true
   },
   "outputs": [],
   "source": [
    "def ftcs_mixed(T, nt, dt, dx, alpha):\n",
    "    \"\"\"Solves the diffusion equation with forward-time, centered scheme using Dirichlet BC at the left boundary and Neumann BC at the right boundary\n",
    "    \n",
    "    Parameters:\n",
    "    ----------\n",
    "    u : array of float\n",
    "        Initial temperature profile\n",
    "    nt : int\n",
    "        Number of time steps\n",
    "    dt : float\n",
    "        Time step size\n",
    "    dx : float\n",
    "        Mesh size\n",
    "    alpha : float\n",
    "        Diffusion coefficient (thermal diffusivity)\n",
    "        \n",
    "    Returns:\n",
    "    -------\n",
    "    u : array of float\n",
    "        Temperature profile after nt time steps with forward in time scheme\n",
    "    \"\"\"\n",
    "    \n",
    "    for n in range(nt):\n",
    "        Tn = T.copy()\n",
    "        T[1:-1] = Tn[1:-1] + alpha * dt / dx ** 2 * (Tn[2:] - 2 * Tn[1:-1] + Tn[0:-2])\n",
    "        T[-1] = T[-2]\n",
    "        \n",
    "    return T"
   ]
  },
  {
   "cell_type": "code",
   "execution_count": 15,
   "metadata": {
    "collapsed": true
   },
   "outputs": [],
   "source": [
    "nt = 1000\n",
    "T = ftcs_mixed(Ti.copy(), nt, dt, dx, alpha)"
   ]
  },
  {
   "cell_type": "code",
   "execution_count": 16,
   "metadata": {
    "collapsed": false
   },
   "outputs": [
    {
     "data": {
      "image/png": "[encoded data removed]",
      "text/plain": [
       "<matplotlib.figure.Figure at 0x105f5cb00>"
      ]
     },
     "metadata": {},
     "output_type": "display_data"
    }
   ],
   "source": [
    "pyplot.plot(numpy.linspace(0, 1, nx), T, color = '#003366', ls = '-', lw = 3)\n",
    "pyplot.ylim(0, 100)\n",
    "pyplot.title('Rod with LHS Dirichlet BC and RHS Neumann BC \\n')\n",
    "pyplot.xlabel('Length of Rod')\n",
    "pyplot.ylabel('Temperature');"
   ]
  },
  {
   "cell_type": "markdown",
   "metadata": {},
   "source": [
    "### Explicit schemes and BCs\n",
    "\n",
    "The numerical schemes we have used so far are called explicit because we compute the updated solution at $t^{n+1}$ using only known information at $t^n$. It has limitations mostly with the small size of time steps necessary to obtain stability.\n",
    "\n",
    "Another issue is that at the boundary, any change will feed into the  solution only at the next time step, not immediately.  This contradicts the physics of the problem, because any change on the boundary should be felt right away under the diffusion equation.\n",
    "\n",
    "To include boundary effects an implicit update is used."
   ]
  },
  {
   "cell_type": "code",
   "execution_count": null,
   "metadata": {
    "collapsed": true
   },
   "outputs": [],
   "source": []
  }
 ],
 "metadata": {
  "kernelspec": {
   "display_name": "Python 3",
   "language": "python",
   "name": "python3"
  },
  "language_info": {
   "codemirror_mode": {
    "name": "ipython",
    "version": 3
   },
   "file_extension": ".py",
   "mimetype": "text/x-python",
   "name": "python",
   "nbconvert_exporter": "python",
   "pygments_lexer": "ipython3",
   "version": "3.4.3"
  }
 },
 "nbformat": 4,
 "nbformat_minor": 0
}
