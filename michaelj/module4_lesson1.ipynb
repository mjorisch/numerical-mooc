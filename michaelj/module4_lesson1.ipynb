{
 "cells": [
  {
   "cell_type": "markdown",
   "metadata": {},
   "source": [
    "# Spreading Out\n",
    "Drop of food dye in a cup of water that slowly spreads in all directions until all of the liquid is the color of the dye.  Diffusion spreads it around but it is not directional.  We need numerical methods that are isotropic."
   ]
  },
  {
   "cell_type": "markdown",
   "metadata": {},
   "source": [
    "## Parabolic PDEs\n",
    "\n",
    "1D Diffusion equation.  Main feature: Second-order derivative in space.\n",
    "$$\\frac{\\partial u}{\\partial t} = \\alpha \\frac{\\partial ^2 u}{\\partial x^2}$$"
   ]
  },
  {
   "cell_type": "markdown",
   "metadata": {},
   "source": [
    "## Heat Conduction\n",
    "\n",
    "Diffusive process.  Heat equation in one spatial dimension:\n",
    "$$\\frac{\\partial T}{\\partial t} = \\alpha \\frac{\\partial ^2 T}{\\partial x^2}$$\n",
    "\n",
    "Where $\\alpha$ is the thermal diffusivity which is a property of the material and $T$ is the temperature.\n",
    "\n",
    "In Mod2_Les3 we discretized the diffusion equation with a forward time, and centered space scheme which was subject to the following stability constraint:\n",
    "$$\\alpha \\frac{\\Delta t}{(\\Delta x)^2} \\leq \\frac{1}{2}$$\n",
    "\n",
    "Gotta look at a 1D temperature evolution problem"
   ]
  },
  {
   "cell_type": "markdown",
   "metadata": {},
   "source": [
    "### Problem set up\n",
    "\n",
    "We have a graphite rod with a thermal diffusivity $\\alpha = 1.22 x 10^{-3} m^2/s$ at length $L = 1m$ and temperature $T = 0^o C$ everywhere.  At time $t = 0$, we raise the temperature on the left-side end, $x = 0$ to $T = 100^o C$ and hold it there. How will the temperature evolve in the rod?\n",
    "\n",
    "We will begin with a spatial grid of 51 points and using 100 time steps with a forward time/centered space scheme."
   ]
  },
  {
   "cell_type": "code",
   "execution_count": null,
   "metadata": {
    "collapsed": true
   },
   "outputs": [],
   "source": [
    "import numpy\n",
    "from matplotlib import pyplot\n",
    "%matplotlib inline\n",
    "from matplotlib import rcParams\n",
    "rcParams['font.family'] = 'serif'\n",
    "rcParams['font.size'] = 16"
   ]
  },
  {
   "cell_type": "code",
   "execution_count": null,
   "metadata": {
    "collapsed": true
   },
   "outputs": [],
   "source": []
  }
 ],
 "metadata": {
  "kernelspec": {
   "display_name": "Python 3",
   "language": "python",
   "name": "python3"
  },
  "language_info": {
   "codemirror_mode": {
    "name": "ipython",
    "version": 3
   },
   "file_extension": ".py",
   "mimetype": "text/x-python",
   "name": "python",
   "nbconvert_exporter": "python",
   "pygments_lexer": "ipython3",
   "version": "3.4.3"
  }
 },
 "nbformat": 4,
 "nbformat_minor": 0
}
