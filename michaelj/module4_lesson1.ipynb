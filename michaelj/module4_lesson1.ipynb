{
 "cells": [
  {
   "cell_type": "markdown",
   "metadata": {},
   "source": [
    "# Spreading Out\n",
    "Drop of food dye in a cup of water that slowly spreads in all directions until all of the liquid is the color of the dye.  Diffusion spreads it around but it is not directional.  We need numerical methods that are isotropic."
   ]
  },
  {
   "cell_type": "markdown",
   "metadata": {},
   "source": [
    "## Parabolic PDEs\n",
    "\n",
    "1D Diffusion equation.  Main feature: Second-order derivative in space.\n",
    "$$\\frac{\\partial u}{\\partial t} = \\alpha \\frac{\\partial ^2 u}{\\partial x^2}$$"
   ]
  },
  {
   "cell_type": "code",
   "execution_count": null,
   "metadata": {
    "collapsed": true
   },
   "outputs": [],
   "source": []
  }
 ],
 "metadata": {
  "kernelspec": {
   "display_name": "Python 3",
   "language": "python",
   "name": "python3"
  },
  "language_info": {
   "codemirror_mode": {
    "name": "ipython",
    "version": 3
   },
   "file_extension": ".py",
   "mimetype": "text/x-python",
   "name": "python",
   "nbconvert_exporter": "python",
   "pygments_lexer": "ipython3",
   "version": "3.4.3"
  }
 },
 "nbformat": 4,
 "nbformat_minor": 0
}
