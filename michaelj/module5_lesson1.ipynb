{
 "cells": [
  {
   "cell_type": "markdown",
   "metadata": {},
   "source": [
    "Poisson's equation:\n",
    "\n",
    "$$\\nabla ^2 u = f$$\n",
    "\n",
    "$u$ and $f$ are functions of space in a domain $\\Omega$.  To find the solution, boundary conditions are required.\n",
    "\n",
    "Could be Dirichlet BC:\n",
    "\n",
    "$$u = b_1 \\ on\\ \\partial \\Omega$$\n",
    "\n",
    "or Neumann BC:\n",
    "\n",
    "$$\\frac{\\partial u}{\\partial n} = b_2 \\ on\\ \\partial \\Omega$$\n",
    "\n",
    "Boundary prob consists of finding $u$ given the above info.  Numerically this can be done with _relaxation methods_ which uses an initial guess for $u$ and then interating towards the solution"
   ]
  },
  {
   "cell_type": "markdown",
   "metadata": {
    "collapsed": true
   },
   "source": [
    "## Laplace's Equation\n",
    "\n",
    "When $f = 0$ which is the homogeneous case, it results in Laplace's equation:\n",
    "\n",
    "$$\\nabla ^2 u = 0$$\n",
    "\n",
    "Laplace equation models the equilibrium state of a system under the supplied boundary conditions.\n",
    "\n",
    "Study of Laplace's eqn is called potential theory.  The solutions are usually potential fields.  $p$ will represent the dependent variable.\n",
    "\n",
    "$$\\frac{\\partial ^2 p}{\\partial x^2} + \\frac{\\partial ^2 p}{\\partial y^2} = 0$$\n",
    "\n",
    "Discretized with central differences\n",
    "\n",
    "$$\\frac{p_{i+1,j} - 2p_{i,j} + p_{i-1,j}}{\\Delta x^2} + \\frac{p_{i,j+1} - 2p_{i,j} + p_{i,j-1}}{\\Delta y^2} = 0$$\n",
    "\n",
    "When $\\Delta x = \\Delta y$ we get:\n",
    "\n",
    "$$p_{i+1,j} + p_{i-1,j} + p_{i,j+1} + p_{i,j-1} - 4p_{i,j} = 0$$\n",
    "\n",
    "The eqn is valid for every interior point in the domain.\n",
    "\n",
    "Start with an initial guess for the solution $p^0 _{i,j} and use that to get an update.\n",
    "\n",
    "Most intuitive iterative solution is the Jacobi method:\n",
    "\n",
    "$$p^{k+1} _{i,j} = \\frac{1}{4} \\left( p^k _{i,j-1} + p^k _{i,j+1} + p^k _{i-1,j} + p^k _{i+1,j} \\right) $$"
   ]
  },
  {
   "cell_type": "markdown",
   "metadata": {},
   "source": [
    "### Boundary conditions and relaxation\n",
    "\n",
    "Will solve Laplace's eqn numerically with the following BCs:\n",
    "\n",
    "$p = 0$ at $x = 0$\n",
    "\n",
    "$\\frac{\\partial p}{\\partial x} = 0$ at $x = L$\n",
    "\n",
    "$p = 0$ at $y = 0$\n",
    "\n",
    "$p = sin \\left( \\frac{\\frac{3}{2} \\pi x}{L} \\right)$ at $y = H$\n",
    "\n",
    "Where $L = 1$ and $H = 1$ are the sizes of the domain in the x and y directions respectively\n",
    "\n",
    "**Defining feature of elliptic PDEs:** they are \"driven\" by the BCs.  The boundaries are set to specific values and the solution relaxes to join the boundaries together.\n",
    "\n",
    "We'll use an initial guess of $p = 0$ everywhere to start the relaxation."
   ]
  },
  {
   "cell_type": "code",
   "execution_count": 1,
   "metadata": {
    "collapsed": true
   },
   "outputs": [],
   "source": [
    "from matplotlib import pyplot\n",
    "import numpy\n",
    "%matplotlib inline\n",
    "from matplotlib import rcParams\n",
    "rcParams['font.family'] = 'serif'\n",
    "rcParams['font.size'] = 16"
   ]
  },
  {
   "cell_type": "code",
   "execution_count": 2,
   "metadata": {
    "collapsed": true
   },
   "outputs": [],
   "source": [
    "from mpl_toolkits.mplot3d import Axes3D\n",
    "from matplotlib import cm"
   ]
  },
  {
   "cell_type": "code",
   "execution_count": 3,
   "metadata": {
    "collapsed": true
   },
   "outputs": [],
   "source": [
    "def plot_3D(x, y, p):\n",
    "    \"\"\"Creates 3D plot with appropriate limits and viewing angle\n",
    "    \n",
    "    Parameters:\n",
    "    ----------\n",
    "    x : array of float\n",
    "        nodal coordinates in x\n",
    "    y : array of float\n",
    "        nodal coordinates in y\n",
    "    p : 2D array of float\n",
    "        calculated potential field\n",
    "        \n",
    "    \"\"\"\n",
    "    \n",
    "    fig = pyplot.figure(figsize = (11, 7), dpi = 100)\n",
    "    ax = fig.gca(projection = '3d')\n",
    "    X, Y = numpy.meshgrid(x, y)\n",
    "    surf = ax.plot_surface(X, Y, p[:], rstride = 1, cstride = 1, cmap = cm.viridis, linewidth = 0, antialiased = False)\n",
    "    \n",
    "    ax.set_xlim(0, 1)\n",
    "    ax.set_ylim(0, 1)\n",
    "    ax.set_xlabel('$x$')\n",
    "    ax.set_ylabel('$y$')\n",
    "    ax.set_zlabel('$z$')\n",
    "    ax.view_init(30, 45)"
   ]
  },
  {
   "cell_type": "markdown",
   "metadata": {},
   "source": [
    "### Analytical solution\n",
    "\n",
    "The analytical solution is given by:\n",
    "\n",
    "$$p(x, y) = \\frac{sinh(\\frac{\\frac{3}{2} \\pi y}{L})}{sinh(\\frac{\\frac{3}{2} \\pi H}{L})} sin(\\frac{\\frac{3}{2} \\pi x}{L})$$\n",
    "\n",
    "$L$ and $H$ are the length of the domain in the x and y directions.\n",
    "\n",
    "We used numpy.meshgrid to plot our 2D solutions to the heat eqn.  We'll use it again for this.  We want the analytical solution plotted for every point in our domain.  To do this we'll use in the analytical solution the 2D arrays generated by numpy.meshgrid."
   ]
  },
  {
   "cell_type": "code",
   "execution_count": 4,
   "metadata": {
    "collapsed": true
   },
   "outputs": [],
   "source": [
    "def p_analytical(x, y):\n",
    "    X, Y = numpy.meshgrid(x, y)\n",
    "    \n",
    "    p_an = numpy.sinh(1.5 * numpy.pi * Y / x[-1]) / (numpy.sinh(1.5 * numpy.pi * y[-1] / x[-1])) * numpy.sin(1.5 * numpy.pi * X / x[-1])\n",
    "    \n",
    "    return p_an"
   ]
  },
  {
   "cell_type": "code",
   "execution_count": 5,
   "metadata": {
    "collapsed": true
   },
   "outputs": [],
   "source": [
    "nx = 41\n",
    "ny = 41\n",
    "\n",
    "x = numpy.linspace(0, 1, nx)\n",
    "y = numpy.linspace(0, 1, ny)\n",
    "\n",
    "p_an = p_analytical(x, y)"
   ]
  },
  {
   "cell_type": "code",
   "execution_count": null,
   "metadata": {
    "collapsed": true
   },
   "outputs": [],
   "source": []
  }
 ],
 "metadata": {
  "kernelspec": {
   "display_name": "Python 3",
   "language": "python",
   "name": "python3"
  },
  "language_info": {
   "codemirror_mode": {
    "name": "ipython",
    "version": 3
   },
   "file_extension": ".py",
   "mimetype": "text/x-python",
   "name": "python",
   "nbconvert_exporter": "python",
   "pygments_lexer": "ipython3",
   "version": "3.4.3"
  }
 },
 "nbformat": 4,
 "nbformat_minor": 0
}
