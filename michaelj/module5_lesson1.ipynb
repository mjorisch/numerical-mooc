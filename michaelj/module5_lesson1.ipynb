{
 "cells": [
  {
   "cell_type": "markdown",
   "metadata": {},
   "source": [
    "Poisson's equation:\n",
    "\n",
    "$$\\nabla ^2 u = f$$\n",
    "\n",
    "$u$ and $f$ are functions of space in a domain $\\Omega$.  To find the solution, boundary conditions are required.\n",
    "\n",
    "Could be Dirichlet BC:\n",
    "\n",
    "$$u = b_1 \\ on\\ \\partial \\Omega$$\n",
    "\n",
    "or Neumann BC:\n",
    "\n",
    "$$\\frac{\\partial u}{\\partial n} = b_2 \\ on\\ \\partial \\Omega$$\n",
    "\n",
    "Boundary prob consists of finding $u$ given the above info.  Numerically this can be done with _relaxation methods_ which uses an initial guess for $u$ and then interating towards the solution"
   ]
  },
  {
   "cell_type": "markdown",
   "metadata": {
    "collapsed": true
   },
   "source": [
    "## Laplace's Equation\n",
    "\n",
    "When $f = 0$ which is the homogeneous case, it results in Laplace's equation:\n",
    "\n",
    "$$\\nabla ^2 u = 0$$\n",
    "\n",
    "Laplace equation models the equilibrium state of a system under the supplied boundary conditions.\n",
    "\n",
    "Study of Laplace's eqn is called potential theory.  The solutions are usually potential fields.  $p$ will represent the dependent variable.\n",
    "\n",
    "$$\\frac{\\partial ^2 p}{\\partial x^2} + \\frac{\\partial ^2 p}{\\partial y^2} = 0$$\n",
    "\n",
    "Discretized with central differences\n",
    "\n",
    "$$\\frac{p_{i+1,j} - 2p_{i,j} + p_{i-1,j}}{\\Delta x^2} + \\frac{p_{i,j+1} - 2p_{i,j} + p_{i,j-1}}{\\Delta y^2} = 0$$\n",
    "\n",
    "When $\\Delta x = \\Delta y$ we get:\n",
    "\n",
    "$$p_{i+1,j} + p_{i-1,j} + p_{i,j+1} + p_{i,j-1} - 4p_{i,j} = 0$$\n",
    "\n",
    "The eqn is valid for every interior point in the domain.\n",
    "\n",
    "Start with an initial guess for the solution $p^0 _{i,j} and use that to get an update.\n",
    "\n",
    "Most intuitive iterative solution is the Jacobi method:\n",
    "\n",
    "$$p^{k+1} _{i,j} = \\frac{1}{4} \\left( p^k _{i,j-1} + p^k _{i,j+1} + p^k _{i-1,j} + p^k _{i+1,j} \\right) $$"
   ]
  },
  {
   "cell_type": "markdown",
   "metadata": {},
   "source": [
    "### Boundary conditions and relaxation\n",
    "\n",
    "Will solve Laplace's eqn numerically with the following BCs:\n",
    "\n",
    "$p = 0$ at $x = 0$\n",
    "\n",
    "$\\frac{\\partial p}{\\partial x} = 0$ at $x = L$\n",
    "\n",
    "$p = 0$ at $y = 0$\n",
    "\n",
    "$p = sin \\left( \\frac{\\frac{3}{2} \\pi x}{L} \\right)$ at $y = H$\n",
    "\n",
    "Where $L = 1$ and $H = 1$ are the sizes of the domain in the x and y directions respectively\n",
    "\n",
    "**Defining feature of elliptic PDEs:** they are \"driven\" by the BCs.  The boundaries are set to specific values and the solution relaxes to join the boundaries together.\n",
    "\n",
    "We'll use an initial guess of $p = 0$ everywhere to start the relaxation."
   ]
  },
  {
   "cell_type": "code",
   "execution_count": 1,
   "metadata": {
    "collapsed": true
   },
   "outputs": [],
   "source": [
    "from matplotlib import pyplot\n",
    "import numpy\n",
    "%matplotlib inline\n",
    "from matplotlib import rcParams\n",
    "rcParams['font.family'] = 'serif'\n",
    "rcParams['font.size'] = 16"
   ]
  },
  {
   "cell_type": "code",
   "execution_count": 2,
   "metadata": {
    "collapsed": true
   },
   "outputs": [],
   "source": [
    "from mpl_toolkits.mplot3d import Axes3D\n",
    "from matplotlib import cm"
   ]
  },
  {
   "cell_type": "code",
   "execution_count": null,
   "metadata": {
    "collapsed": true
   },
   "outputs": [],
   "source": []
  }
 ],
 "metadata": {
  "kernelspec": {
   "display_name": "Python 3",
   "language": "python",
   "name": "python3"
  },
  "language_info": {
   "codemirror_mode": {
    "name": "ipython",
    "version": 3
   },
   "file_extension": ".py",
   "mimetype": "text/x-python",
   "name": "python",
   "nbconvert_exporter": "python",
   "pygments_lexer": "ipython3",
   "version": "3.4.3"
  }
 },
 "nbformat": 4,
 "nbformat_minor": 0
}
