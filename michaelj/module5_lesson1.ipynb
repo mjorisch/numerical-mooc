{
 "cells": [
  {
   "cell_type": "markdown",
   "metadata": {},
   "source": [
    "Poisson's equation:\n",
    "\n",
    "$$\\nabla ^2 u = f$$\n",
    "\n",
    "$u$ and $f$ are functions of space in a domain $\\omega$.  To find the solution, boundary conditions are required.\n",
    "\n",
    "Could be Dirichlet BC:\n",
    "\n",
    "$$u = b_1 \\ on\\ \\partial \\omega$$\n",
    "\n",
    "or Neumann BC:\n",
    "\n",
    "$$\\frac{\\partial u}{\\partial n} = b_2 \\ on\\ \\partial \\omega$$\n",
    "\n",
    "Boundary prob consists of finding $u$ given the above info.  Numerically this can be done with _relaxation methods_ which uses an initial guess for $u$ and then interating towards the solution"
   ]
  },
  {
   "cell_type": "code",
   "execution_count": null,
   "metadata": {
    "collapsed": true
   },
   "outputs": [],
   "source": []
  }
 ],
 "metadata": {
  "kernelspec": {
   "display_name": "Python 3",
   "language": "python",
   "name": "python3"
  },
  "language_info": {
   "codemirror_mode": {
    "name": "ipython",
    "version": 3
   },
   "file_extension": ".py",
   "mimetype": "text/x-python",
   "name": "python",
   "nbconvert_exporter": "python",
   "pygments_lexer": "ipython3",
   "version": "3.4.3"
  }
 },
 "nbformat": 4,
 "nbformat_minor": 0
}
