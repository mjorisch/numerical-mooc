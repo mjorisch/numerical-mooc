{
 "cells": [
  {
   "cell_type": "markdown",
   "metadata": {},
   "source": [
    "## Gray-Scott Model\n",
    "\n",
    "Represents the reaction and diffusion of two generic chemical species U and V.  The concentration of each in space is represented by u and v.\n",
    "\n",
    "* Each chemical diffuses through space at its own rate\n",
    "* U is added at a const feed rate into the system\n",
    "* Two units of species V can turn a unit of U into V: $$2V + U \\rightarrow 3V$$\n",
    "* Const kill rate removing V"
   ]
  },
  {
   "cell_type": "code",
   "execution_count": null,
   "metadata": {
    "collapsed": true
   },
   "outputs": [],
   "source": []
  }
 ],
 "metadata": {
  "kernelspec": {
   "display_name": "Python 3",
   "language": "python",
   "name": "python3"
  },
  "language_info": {
   "codemirror_mode": {
    "name": "ipython",
    "version": 3
   },
   "file_extension": ".py",
   "mimetype": "text/x-python",
   "name": "python",
   "nbconvert_exporter": "python",
   "pygments_lexer": "ipython3",
   "version": "3.4.3"
  }
 },
 "nbformat": 4,
 "nbformat_minor": 0
}
