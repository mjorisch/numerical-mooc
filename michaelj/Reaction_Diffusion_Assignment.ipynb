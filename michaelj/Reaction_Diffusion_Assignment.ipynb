{
 "cells": [
  {
   "cell_type": "markdown",
   "metadata": {},
   "source": [
    "## Gray-Scott Model\n",
    "\n",
    "Represents the reaction and diffusion of two generic chemical species U and V.  The concentration of each in space is represented by u and v.\n",
    "\n",
    "* Each chemical diffuses through space at its own rate\n",
    "* U is added at a const feed rate into the system\n",
    "* Two units of species V can turn a unit of U into V: $$2V + U \\rightarrow 3V$$\n",
    "* Const kill rate removing V"
   ]
  },
  {
   "cell_type": "markdown",
   "metadata": {},
   "source": [
    "Represented by PDE for the concentrations of $u(x, y, t)$ and $v(x, y, t)$:\n",
    "\n",
    "$$\\frac{\\partial u}{\\partial t} = D_u \\nabla ^2 u - uv^2 + F(1 - u)$$\n",
    "$$\\frac{\\partial v}{\\partial t} = D_v \\nabla ^2 v + uv^2 - (F + k)v$$"
   ]
  },
  {
   "cell_type": "markdown",
   "metadata": {},
   "source": [
    "$\\nabla ^2$ is the Laplacian:\n",
    "\n",
    "$$\\nabla ^2 u = \\frac{\\partial ^2 u}{\\partial x^2} + \\frac{\\partial ^2 u}{\\partial y^2}$$\n",
    "\n",
    "$D_u \\nabla ^2 u$ and $D_v \\nabla ^2 v$ correspond to the spatial diffusion of the concentrations.  $D_u$ and $D_v$ are the rates of diffusion.\n",
    "\n",
    "$uv^2$ corresponds to the reaction which requires one unit of U and two of V.\n",
    "\n",
    "$F(1 - u)$ is the feed rate and $-(F + k)v$ is the kill rate.  The feed rate replenishes U and the kill rate diminishes V."
   ]
  },
  {
   "cell_type": "markdown",
   "metadata": {},
   "source": [
    "### Problem setup\n",
    "\n",
    "* Discretize reaction-diffusion using FTCS and assume $\\Delta x = \\Delta y = \\delta$\n",
    "* For the timestep set $\\Delta t = \\frac{9}{40} \\frac{\\delta ^2}{max(D_u, D_v)}$\n",
    "* Use zero Neumann BC on all sides of the domain\n",
    "* Use given ICs\n",
    "    * Grid of pointswith dimension 192 by 192 points\n",
    "    * Domain is 5m by 5m\n",
    "    * Final time is 8000s"
   ]
  },
  {
   "cell_type": "code",
   "execution_count": null,
   "metadata": {
    "collapsed": true
   },
   "outputs": [],
   "source": [
    "import numpy\n",
    "from matplotlib import pyplot\n",
    "import matplotlib.cm as cm\n",
    "%matplotlib inline"
   ]
  },
  {
   "cell_type": "code",
   "execution_count": null,
   "metadata": {
    "collapsed": true
   },
   "outputs": [],
   "source": [
    "n = 192\n",
    "\n",
    "Du, Dv, F, k = 0.00016, 0.00008, 0.035, 0.065 #Bacteria 1\n",
    "\n",
    "dh = 5 / (n - 1)\n",
    "\n",
    "T = 8000\n",
    "\n",
    "dt = .9 * dh ** 2 / (40 * max(Du, Dv))\n",
    "\n",
    "nt = int(T / dt)"
   ]
  },
  {
   "cell_type": "code",
   "execution_count": null,
   "metadata": {
    "collapsed": false
   },
   "outputs": [],
   "source": [
    "uvinitial = numpy.load('./uvinitial.npz')\n",
    "U = uvinitial['U']\n",
    "V = uvinitial['V']"
   ]
  },
  {
   "cell_type": "code",
   "execution_count": null,
   "metadata": {
    "collapsed": false
   },
   "outputs": [],
   "source": [
    "fig = pyplot.figure(figsize = (8, 5))\n",
    "pyplot.subplot(121)\n",
    "pyplot.imshow(U, cmap = cm.RdBu)\n",
    "pyplot.xticks([]), pyplot.yticks([]);\n",
    "pyplot.subplot(122)\n",
    "pyplot.imshow(V, cmap = cm.RdBu)\n",
    "pyplot.xticks([]), pyplot.yticks([]);"
   ]
  },
  {
   "cell_type": "markdown",
   "metadata": {},
   "source": [
    "### Discretization with forward time and central space"
   ]
  },
  {
   "cell_type": "markdown",
   "metadata": {},
   "source": [
    "$$\\Delta x = \\Delta y = \\delta$$\n",
    "$$\\delta = dh$$\n",
    "\n",
    "$$\\frac{u_{i,j} ^{n+1} - u_{i,j} ^n}{\\Delta t} = D_u \\frac{\\left( u_{i-1,j} ^n - 2u_{i,j} ^n + u_{i+1,j} ^n \\right) }{dh^2} + D_u \\frac{ \\left( u_{i,j-1} ^n - 2u_{i,j} ^n + u_{i,j+1} ^n \\right) }{dh^2} - \\left( u_{i,j} ^n \\circ v_{i,j} ^n \\circ v_{i,j} ^n \\right) + F(1 - u_{i,j}^n)$$\n",
    "\n",
    "$$\\frac{v_{i,j} ^{n+1} - v_{i,j} ^n}{\\Delta t} = D_v \\frac{\\left( v_{i-1,j} ^n - 2v_{i,j} ^n + v_{i+1,j} ^n \\right) }{dh^2} + D_v \\frac{ \\left( v_{i,j-1} ^n - 2v_{i,j} ^n + v_{i,j+1} ^n \\right) }{dh^2} + \\left( u_{i,j} ^n \\circ v_{i,j} ^n \\circ v_{i,j} ^n \\right) - (F + k) \\circ (v_{i,j} ^n)$$"
   ]
  },
  {
   "cell_type": "markdown",
   "metadata": {},
   "source": [
    "Put everything except $u_{i,j} ^{n+1}$ and $v_{i,j} ^{n+1}$ on the right side\n",
    "\n",
    "$$u_{i,j} ^{n+1} = u_{i,j} ^n + \\Delta t \\left[ D_u \\frac{\\left( u_{i-1,j} ^n - 2u_{i,j} ^n + u_{i+1,j} ^n \\right) }{dh^2} + D_u \\frac{ \\left( u_{i,j-1} ^n - 2u_{i,j} ^n + u_{i,j+1} ^n \\right) }{dh^2} - \\left( u_{i,j} ^n \\circ v_{i,j} ^n \\circ v_{i,j} ^n \\right) + F(1 - u_{i,j}^n) \\right]$$\n",
    "\n",
    "$$v_{i,j} ^{n+1} = v_{i,j} ^n + \\Delta t \\left[ D_v \\frac{\\left( v_{i-1,j} ^n - 2v_{i,j} ^n + v_{i+1,j} ^n \\right) }{dh^2} + D_v \\frac{ \\left( v_{i,j-1} ^n - 2v_{i,j} ^n + v_{i,j+1} ^n \\right) }{dh^2} + \\left( u_{i,j} ^n \\circ v_{i,j} ^n \\circ v_{i,j} ^n \\right) - (F + k) \\circ (v_{i,j} ^n) \\right]$$"
   ]
  },
  {
   "cell_type": "code",
   "execution_count": null,
   "metadata": {
    "collapsed": false
   },
   "outputs": [],
   "source": [
    "#def ftcs(U, V, dt, dh, Du, Dv, F, k):\n",
    "    \n",
    "for n in range(nt):\n",
    "        \n",
    "    un = U.copy()\n",
    "    vn = V.copy()\n",
    "        \n",
    "    U[1:-1, 1:-1] = un[1:-1, 1:-1] + dt * ((Du * (un[:-2, 1:-1] - 2 * un[1:-1, 1:-1] + un[2:, 1:-1]) / dh ** 2) + (Du * (un[1:-1, :-2] - 2 * un[1:-1, 1:-1] + un[1:-1, 2:]) / dh ** 2) - (un[1:-1, 1:-1] * vn[1:-1, 1:-1] * vn[1:-1, 1:-1]) + F * (1 - un[1:-1, 1:-1]))\n",
    "        \n",
    "    V[1:-1, 1:-1] = vn[1:-1, 1:-1] + dt * ((Dv * (vn[:-2, 1:-1] - 2 * vn[1:-1, 1:-1] + vn[2:, 1:-1]) / dh ** 2) + (Dv * (vn[1:-1, :-2] - 2 * vn[1:-1, 1:-1] + vn[1:-1, 2:]) / dh ** 2) + (un[1:-1, 1:-1] * vn[1:-1, 1:-1] * vn[1:-1, 1:-1]) - (F + k) * vn[1:-1, 1:-1])\n",
    "        \n",
    "    #Neumann BC\n",
    "        \n",
    "    U[0, :] = U[1, :]\n",
    "    U[:, 0] = U[:, 1]\n",
    "    U[-1, :] = U[-2, :]\n",
    "    U[:, -1] = U[:, -2]\n",
    "        \n",
    "    V[0, :] = V[1, :]\n",
    "    V[:, 0] = V[:, 1]\n",
    "    V[-1, :] = V[-2, :]\n",
    "    V[:, -1] = V[:, -2]\n",
    "        \n",
    "    #return U, V"
   ]
  },
  {
   "cell_type": "code",
   "execution_count": null,
   "metadata": {
    "collapsed": true
   },
   "outputs": [],
   "source": [
    "x = numpy.linspace(0, 5, n)\n",
    "\n",
    "y = numpy.linspace(0, 5, n)\n",
    "\n",
    "mx, my = numpy.meshgrid(x, y)\n",
    "\n",
    "#U, V = ftcs(U, V, dt, dh, Du, Dv, F, k)"
   ]
  },
  {
   "cell_type": "code",
   "execution_count": null,
   "metadata": {
    "collapsed": true
   },
   "outputs": [],
   "source": [
    "#pyplot.figure(figsize = (8,5))\n",
    "#pyplot.subplot(121)\n",
    "#pyplot.contourf(mx, my, U);\n",
    "#pyplot.subplot(122)\n",
    "#pyplot.contourf(mx, my, V);"
   ]
  },
  {
   "cell_type": "code",
   "execution_count": null,
   "metadata": {
    "collapsed": true
   },
   "outputs": [],
   "source": [
    "pyplot.figure(figsize = (8, 5))\n",
    "pyplot.subplot(121)\n",
    "pyplot.imshow(U, cmap = cm.RdBu)\n",
    "pyplot.xticks([]), pyplot.yticks([]);\n",
    "pyplot.subplot(122)\n",
    "pyplot.imshow(V, cmap = cm.RdBu)\n",
    "pyplot.xticks([]), pyplot.yticks([]);"
   ]
  },
  {
   "cell_type": "code",
   "execution_count": null,
   "metadata": {
    "collapsed": true
   },
   "outputs": [],
   "source": []
  }
 ],
 "metadata": {
  "kernelspec": {
   "display_name": "Python 3",
   "language": "python",
   "name": "python3"
  },
  "language_info": {
   "codemirror_mode": {
    "name": "ipython",
    "version": 3
   },
   "file_extension": ".py",
   "mimetype": "text/x-python",
   "name": "python",
   "nbconvert_exporter": "python",
   "pygments_lexer": "ipython3",
   "version": "3.4.3"
  }
 },
 "nbformat": 4,
 "nbformat_minor": 0
}
