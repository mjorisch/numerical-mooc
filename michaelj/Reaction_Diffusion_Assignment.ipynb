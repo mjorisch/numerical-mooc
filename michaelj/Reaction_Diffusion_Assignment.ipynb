{
 "cells": [
  {
   "cell_type": "markdown",
   "metadata": {},
   "source": [
    "## Gray-Scott Model\n",
    "\n",
    "Represents the reaction and diffusion of two generic chemical species U and V.  The concentration of each in space is represented by u and v.\n",
    "\n",
    "* Each chemical diffuses through space at its own rate\n",
    "* U is added at a const feed rate into the system\n",
    "* Two units of species V can turn a unit of U into V: $$2V + U \\rightarrow 3V$$\n",
    "* Const kill rate removing V"
   ]
  },
  {
   "cell_type": "markdown",
   "metadata": {},
   "source": [
    "Represented by PDE for the concentrations of $u(x, y, t)$ and $v(x, y, t)$:\n",
    "\n",
    "$$\\frac{\\partial u}{\\partial t} = D_u \\nabla ^2 u - uv^2 + F(1 - u)$$\n",
    "$$\\frac{\\partial v}{\\partial t} = D_v \\nabla ^2 v + uv^2 - (F + k)v$$"
   ]
  },
  {
   "cell_type": "markdown",
   "metadata": {},
   "source": [
    "\\nabla ^2 is the Laplacian:\n",
    "\n",
    "$$\\nabla ^2 u = \\frac{\\partial ^2 u}{\\partial x^2} + \\frac{\\partial ^2 u}{\\partial y^2}$$\n",
    "\n",
    "$D_u \\nabla ^2 u$ and $D_v \\nabla ^2 v$ correspond to the spatial diffusion of the concentrations.  $D_u$ and $D_v$ are the rates of diffusion.\n",
    "\n",
    "$uv^2$ corresponds to the reaction which requires one unit of U and two of V.\n",
    "\n",
    "$F(1 - u)$ is the feed rate and $-(F + k)v$ is the kill rate.  The feed rate replenishes U and the kill rate diminishes V."
   ]
  },
  {
   "cell_type": "markdown",
   "metadata": {},
   "source": [
    "### Problem setup\n",
    "\n",
    "* Discretize reaction-diffusion using FTCS and assume $\\Delta x = \\Delta y = \\delta$\n",
    "* For the timestep set $\\Delta t = \\frac{9}{40} \\frac{\\delta ^2}{max(D_u, D_v)}$\n",
    "* Use zero Neumann BC on all sides of the domain\n",
    "* Use given ICs\n",
    "    * Grid of pointswith dimension 192 by 192 points\n",
    "    * Domain is 5m by 5m\n",
    "    * Final time is 8000s"
   ]
  },
  {
   "cell_type": "code",
   "execution_count": 1,
   "metadata": {
    "collapsed": true
   },
   "outputs": [],
   "source": [
    "import numpy\n",
    "from matplotlib import pyplot\n",
    "import matplotlib.cm as cm\n",
    "%matplotlib inline"
   ]
  },
  {
   "cell_type": "code",
   "execution_count": 2,
   "metadata": {
    "collapsed": true
   },
   "outputs": [],
   "source": [
    "n = 192\n",
    "\n",
    "Du, Dv, F, k = 0.00016, 0.00008, 0.035, 0.065 #Bacteria 1\n",
    "\n",
    "dh = 5 / (n - 1)\n",
    "\n",
    "T = 8000\n",
    "\n",
    "dt = .9 * dh ** 2 / (4 * max(Du, Dv))\n",
    "\n",
    "nt = int(T / dt)"
   ]
  },
  {
   "cell_type": "code",
   "execution_count": 13,
   "metadata": {
    "collapsed": false
   },
   "outputs": [],
   "source": [
    "uvinitial = numpy.load('./uvinitial.npz')\n",
    "U = uvinitial['U']\n",
    "V = uvinitial['V']"
   ]
  },
  {
   "cell_type": "code",
   "execution_count": null,
   "metadata": {
    "collapsed": true
   },
   "outputs": [],
   "source": []
  }
 ],
 "metadata": {
  "kernelspec": {
   "display_name": "Python 3",
   "language": "python",
   "name": "python3"
  },
  "language_info": {
   "codemirror_mode": {
    "name": "ipython",
    "version": 3
   },
   "file_extension": ".py",
   "mimetype": "text/x-python",
   "name": "python",
   "nbconvert_exporter": "python",
   "pygments_lexer": "ipython3",
   "version": "3.4.3"
  }
 },
 "nbformat": 4,
 "nbformat_minor": 0
}
