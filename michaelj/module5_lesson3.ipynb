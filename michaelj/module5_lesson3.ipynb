{
 "cells": [
  {
   "cell_type": "markdown",
   "metadata": {},
   "source": [
    "### Test Problem\n",
    "\n",
    "Same as in Lesson 1 Laplace with BCs:\n",
    "\n",
    "$p = 0$ at $x = 0$\n",
    "\n",
    "$\\frac{\\partial p}{\\partial x} = 0$ at $x = L$\n",
    "\n",
    "$p = 0$ at $y = 0$\n",
    "\n",
    "$p = 0$ at $y = 0$\n",
    "\n",
    "$p = \\sin(\\frac{\\frac{3}{2} \\pi x}{L})$ at $y = H$"
   ]
  },
  {
   "cell_type": "code",
   "execution_count": 2,
   "metadata": {
    "collapsed": false
   },
   "outputs": [],
   "source": [
    "import numpy\n",
    "from matplotlib import pyplot, cm\n",
    "from mpl_toolkits.mplot3d import Axes3D\n",
    "%matplotlib inline\n",
    "from matplotlib import rcParams\n",
    "rcParams['font.family'] = 'serif'\n",
    "rcParams['font.size'] = 16"
   ]
  },
  {
   "cell_type": "code",
   "execution_count": 3,
   "metadata": {
    "collapsed": true
   },
   "outputs": [],
   "source": [
    "from laplace_helper import p_analytical, plot_3D, L2_rel_error"
   ]
  },
  {
   "cell_type": "code",
   "execution_count": 4,
   "metadata": {
    "collapsed": true
   },
   "outputs": [],
   "source": [
    "nx = 128\n",
    "ny = 128\n",
    "\n",
    "L = 5\n",
    "H = 5\n",
    "\n",
    "x = numpy.linspace(0, L, nx)\n",
    "y = numpy.linspace(0, H, ny)\n",
    "\n",
    "dx = L / (nx - 1)\n",
    "dy = H / (ny - 1)\n",
    "\n",
    "p0 = numpy.zeros((ny, nx))\n",
    "\n",
    "p0[-1, :] = numpy.sin(1.5 * numpy.pi * x / x[-1])"
   ]
  },
  {
   "cell_type": "code",
   "execution_count": 5,
   "metadata": {
    "collapsed": true
   },
   "outputs": [],
   "source": [
    "def laplace2d(p, l2_target):\n",
    "    \"\"\"Solves the Laplace equation using the Jacobi method with a 5-point stencil\n",
    "    \n",
    "    Parameters:\n",
    "    ----------\n",
    "    p : 2D array of float\n",
    "        Initial potential distribution\n",
    "    l2_target: float\n",
    "        Stopping criterion\n",
    "    \n",
    "    Returns:\n",
    "    -------\n",
    "    p : 2D array of float\n",
    "        Potential distribution after relaxation\n",
    "    \"\"\"\n",
    "    \n",
    "    l2norm = 1\n",
    "    pn = numpy.empty_like(p)\n",
    "    iterations = 0\n",
    "    \n",
    "    while l2norm > l2_target:\n",
    "        pn = p.copy()\n",
    "        p[1:-1, 1:-1] = .25 * (pn[1:-1, 2:] + pn[1:-1, :-2] + pn[2:, 1:-1] + pn[:-2, 1:-1])\n",
    "        \n",
    "        #Neumann BC along x = L\n",
    "        p[1:-1, -1] = .25 * (2 * pn[1:-1, -2] + pn[2:, -1] + pn[:-2, -1])\n",
    "        \n",
    "        l2norm = numpy.sqrt(numpy.sum((p - pn) ** 2) / numpy.sum(pn ** 2))\n",
    "        iterations += 1\n",
    "        \n",
    "    return p, iterations"
   ]
  },
  {
   "cell_type": "code",
   "execution_count": 6,
   "metadata": {
    "collapsed": false
   },
   "outputs": [
    {
     "name": "stdout",
     "output_type": "stream",
     "text": [
      "Jacobi method took 19993 iterations at tolerance 1e-08\n"
     ]
    }
   ],
   "source": [
    "l2_target = 1e-8\n",
    "p, iterations = laplace2d(p0.copy(), l2_target)\n",
    "\n",
    "print(\"Jacobi method took {} iterations at tolerance {}\".format(iterations, l2_target))"
   ]
  },
  {
   "cell_type": "code",
   "execution_count": 7,
   "metadata": {
    "collapsed": false
   },
   "outputs": [
    {
     "name": "stdout",
     "output_type": "stream",
     "text": [
      "1 loops, best of 3: 7.05 s per loop\n"
     ]
    }
   ],
   "source": [
    "%%timeit\n",
    "laplace2d(p0.copy(), l2_target)"
   ]
  },
  {
   "cell_type": "code",
   "execution_count": 8,
   "metadata": {
    "collapsed": true
   },
   "outputs": [],
   "source": [
    "pan = p_analytical(x, y)"
   ]
  },
  {
   "cell_type": "code",
   "execution_count": 9,
   "metadata": {
    "collapsed": false
   },
   "outputs": [
    {
     "data": {
      "text/plain": [
       "6.1735513352884566e-05"
      ]
     },
     "execution_count": 9,
     "metadata": {},
     "output_type": "execute_result"
    }
   ],
   "source": [
    "L2_rel_error(p, pan)"
   ]
  },
  {
   "cell_type": "markdown",
   "metadata": {},
   "source": [
    "## Gauss-Seidel\n",
    "\n",
    "Single jacobi:\n",
    "\n",
    "$$p_{i,j} ^{k+1} = \\frac{1}{4} \\left( p_{i,j-1} ^k + p_{i,j+1} ^k + p_{i-1,j} ^k + p_{i+1,j} ^k \\right) $$\n",
    "\n",
    "Gauss-Seidel is a simple tweak to this: use updated values of the solution as soon as they are available instead of waiting for the whole grid to be updated.\n",
    "\n",
    "Gauss-Seidel:\n",
    "\n",
    "$$p_{i,j} ^{k+1} = \\frac{1}{4} \\left( p_{i,j-1} ^ {k+1} + p_{i,j+1} ^k + p_{i-1,j} ^{k+1} + p_{i+1,j} ^k \\right) $$\n",
    "\n",
    "Can't use NumPy's array operations to evaluate the solution updates though.  GS requires using values immediately after they're updated, so we have to use nested for loops."
   ]
  },
  {
   "cell_type": "code",
   "execution_count": 10,
   "metadata": {
    "collapsed": true
   },
   "outputs": [],
   "source": [
    "def laplace2d_gauss_seidel(p, nx, ny, l2_target):\n",
    "    \n",
    "    iterations = 0\n",
    "    iter_diff = l2_target + 1 #init iter_diff to be larger than l2_target\n",
    "    \n",
    "    while iter_diff > l2_target:\n",
    "        pn = p.copy()\n",
    "        iter_diff = 0.0\n",
    "        for j in range(1, ny - 1):\n",
    "            for i in range(1, nx - 1):\n",
    "                p[j, i] = .25 * (p[j, i - 1] + p[j, i + 1] + p[j - 1, i] + p[j + 1, i])\n",
    "                iter_diff += (p[j, i] - pn[j, i]) ** 2\n",
    "                \n",
    "        #Neumann 2nd order BC\n",
    "        for j in range(1, ny - 1):\n",
    "            p[j, -1] = .25 * (2 * p[j, -2] + p[j + 1, -1] + p[j - 1, -1])\n",
    "            \n",
    "        iter_diff = numpy.sqrt(iter_diff / numpy.sum(pn ** 2))\n",
    "        iterations += 1\n",
    "        \n",
    "    return p, iterations"
   ]
  },
  {
   "cell_type": "code",
   "execution_count": 11,
   "metadata": {
    "collapsed": true
   },
   "outputs": [],
   "source": [
    "import numba\n",
    "from numba import jit"
   ]
  },
  {
   "cell_type": "code",
   "execution_count": 12,
   "metadata": {
    "collapsed": true
   },
   "outputs": [],
   "source": [
    "def fib_it(n):\n",
    "    a = 1\n",
    "    b = 1\n",
    "    for i in range(n - 2):\n",
    "        a, b = b, a + b\n",
    "        \n",
    "    return b"
   ]
  },
  {
   "cell_type": "code",
   "execution_count": 13,
   "metadata": {
    "collapsed": false
   },
   "outputs": [
    {
     "name": "stdout",
     "output_type": "stream",
     "text": [
      "1 loops, best of 3: 5.08 s per loop\n"
     ]
    }
   ],
   "source": [
    "%%timeit\n",
    "fib_it(500000)"
   ]
  },
  {
   "cell_type": "code",
   "execution_count": 14,
   "metadata": {
    "collapsed": true
   },
   "outputs": [],
   "source": [
    "@jit\n",
    "def fib_it(n):\n",
    "    a = 1\n",
    "    b = 1\n",
    "    for i in range(n - 2):\n",
    "        a, b = b, a + b\n",
    "        \n",
    "    return b"
   ]
  },
  {
   "cell_type": "code",
   "execution_count": 15,
   "metadata": {
    "collapsed": false
   },
   "outputs": [
    {
     "name": "stdout",
     "output_type": "stream",
     "text": [
      "The slowest run took 223.11 times longer than the fastest. This could mean that an intermediate result is being cached \n",
      "1000 loops, best of 3: 601 µs per loop\n"
     ]
    }
   ],
   "source": [
    "%%timeit\n",
    "fib_it(500000)"
   ]
  },
  {
   "cell_type": "code",
   "execution_count": 16,
   "metadata": {
    "collapsed": false
   },
   "outputs": [
    {
     "name": "stdout",
     "output_type": "stream",
     "text": [
      "1000 loops, best of 3: 621 µs per loop\n"
     ]
    }
   ],
   "source": [
    "%%timeit\n",
    "fib_it(500000)"
   ]
  },
  {
   "cell_type": "code",
   "execution_count": 17,
   "metadata": {
    "collapsed": false
   },
   "outputs": [
    {
     "name": "stdout",
     "output_type": "stream",
     "text": [
      "1.10.1\n"
     ]
    }
   ],
   "source": [
    "print(numpy.__version__)"
   ]
  },
  {
   "cell_type": "markdown",
   "metadata": {},
   "source": [
    "Can't can't optimize everything.  When it can't, instead of failing it runs in regular python.  To avoid this you can add @jit(nopython=True) so that it fails instead of just running in regular python.  Fast or nothing"
   ]
  },
  {
   "cell_type": "code",
   "execution_count": 18,
   "metadata": {
    "collapsed": true
   },
   "outputs": [],
   "source": [
    "@jit(nopython=True)\n",
    "def laplace2d_jacobi(p, pn, l2_target):\n",
    "    \"\"\"Solves the Laplace equation using the Jacobi method with a 5-point stencil\n",
    "    \n",
    "    Parameters:\n",
    "    ----------\n",
    "    p : 2D array of float\n",
    "        Initial potential distribution\n",
    "    pn : 2D array of float\n",
    "        Allocated array for previous potential distribution\n",
    "    l2_target : float\n",
    "        Stopping criterion\n",
    "    \n",
    "    Returns:\n",
    "    -------\n",
    "    p : 2D array of float\n",
    "        Potential distribution after relaxation\n",
    "    \"\"\"\n",
    "    \n",
    "    iterations = 0\n",
    "    iter_diff = l2_target + 1 #init iter_diff to be larger than l2_target\n",
    "    denominator = 0.0\n",
    "    ny, nx = p.shape\n",
    "    l2_diff = numpy.zeros(20000)\n",
    "    \n",
    "    while iter_diff > l2_target:\n",
    "        for j in range(ny):\n",
    "            for i in range(nx):\n",
    "                pn[j, i] = p[j, i]\n",
    "                \n",
    "        iter_diff = 0.0\n",
    "        denominator = 0.0\n",
    "        \n",
    "        for j in range(1, ny - 1):\n",
    "            for i in range(1, nx - 1):\n",
    "                p[j, i] = .25 * (pn[j, i - 1] + pn[j, i + 1] + pn[j - 1, i] + pn[j + 1, i])\n",
    "                \n",
    "                \n",
    "        #Neumann 2nd order BC\n",
    "        for j in range(1, ny - 1):\n",
    "            p[j, -1] = .25 * (2 * pn[j, -2] + pn[j + 1, -1] + pn[j - 1, -1])\n",
    "            \n",
    "        for j in range(ny):\n",
    "            for i in range(nx):\n",
    "                iter_diff += (p[j, i] - pn[j, i]) ** 2\n",
    "                denominator += (pn[j, i] * pn[j, i])\n",
    "                \n",
    "        \n",
    "        iter_diff /= denominator\n",
    "        iter_diff = iter_diff ** 0.5\n",
    "        l2_diff[iterations] = iter_diff\n",
    "        iterations += 1\n",
    "        \n",
    "    return p, iterations, l2_diff"
   ]
  },
  {
   "cell_type": "code",
   "execution_count": null,
   "metadata": {
    "collapsed": true
   },
   "outputs": [],
   "source": []
  }
 ],
 "metadata": {
  "kernelspec": {
   "display_name": "Python 3",
   "language": "python",
   "name": "python3"
  },
  "language_info": {
   "codemirror_mode": {
    "name": "ipython",
    "version": 3
   },
   "file_extension": ".py",
   "mimetype": "text/x-python",
   "name": "python",
   "nbconvert_exporter": "python",
   "pygments_lexer": "ipython3",
   "version": "3.4.3"
  }
 },
 "nbformat": 4,
 "nbformat_minor": 0
}
