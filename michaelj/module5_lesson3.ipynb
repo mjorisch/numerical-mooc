{
 "cells": [
  {
   "cell_type": "markdown",
   "metadata": {},
   "source": [
    "### Test Problem\n",
    "\n",
    "Same as in Lesson 1 Laplace with BCs:\n",
    "\n",
    "$p = 0$ at $x = 0$\n",
    "\n",
    "$\\frac{\\partial p}{\\partial x} = 0$ at $x = L$\n",
    "\n",
    "$p = 0$ at $y = 0$\n",
    "\n",
    "$p = 0$ at $y = 0$\n",
    "\n",
    "$p = \\sin(\\frac{\\frac{3}{2} \\pi x}{L})$ at $y = H$"
   ]
  },
  {
   "cell_type": "code",
   "execution_count": null,
   "metadata": {
    "collapsed": true
   },
   "outputs": [],
   "source": []
  }
 ],
 "metadata": {
  "kernelspec": {
   "display_name": "Python 3",
   "language": "python",
   "name": "python3"
  },
  "language_info": {
   "codemirror_mode": {
    "name": "ipython",
    "version": 3
   },
   "file_extension": ".py",
   "mimetype": "text/x-python",
   "name": "python",
   "nbconvert_exporter": "python",
   "pygments_lexer": "ipython3",
   "version": "3.4.3"
  }
 },
 "nbformat": 4,
 "nbformat_minor": 0
}
