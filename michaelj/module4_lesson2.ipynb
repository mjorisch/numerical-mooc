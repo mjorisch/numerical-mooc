{
 "cells": [
  {
   "cell_type": "markdown",
   "metadata": {},
   "source": [
    "Heat equation in one spatial dimension:\n",
    "$$\\frac{\\partial T}{\\partial t} = \\alpha \\frac{\\partial ^2 T}{\\partial x^2}$$\n",
    "\n",
    "Where $\\alpha$ is the thermal diffusivity and $T$ is the temperature.\n",
    "\n",
    "Implicit works differently than what we used.  It will use more data from the \"future\" in the update including several values of $T$ at $t^{n+1}$.  It will make the scheme more difficult to apply."
   ]
  },
  {
   "cell_type": "markdown",
   "metadata": {},
   "source": [
    "## Implicit Schemes\n",
    "\n",
    "Combine Euler time step with an evaluation of the spatial derivative on the updated solution at $t^{n+1}$.  Discretized gives:\n",
    "\n",
    "$$\\frac{T_i ^{n+1} - T_i ^n}{\\Delta t} = \\alpha \\frac{T_{i+1} ^{n+1} - 2T_i ^{n+1} + T_{i-1} ^{n+1}}{\\Delta x^2}$$\n",
    "\n",
    "From the previous time step we only know $T_i ^n$ but what about $T_i ^{n+1}$, $T_{i-1} ^{n+1}$ and $T_{i+1} ^{n+1}$\n",
    "\n",
    "Put what we know on the RHS and what we don't know on the LHS, which gives:\n",
    "\n",
    "$$-T_{i-1} ^{n+1} + \\left( 2 + \\frac{\\Delta x^2}{\\alpha \\Delta t} \\right) T_i ^{n+1} - T_{i+1} ^{n+1} = T_i ^n \\frac{\\Delta x^2}{\\alpha \\Delta t}$$\n",
    "\n",
    "What does it look like with $i = 1$?\n",
    "\n",
    "$$-T_0 ^{n+1} + \\left( 2 + \\frac{\\Delta x^2}{\\alpha \\Delta t} \\right) T_1 ^{n+1} - T_2 ^{n+1} = T_1 ^n \\frac{\\Delta x^2}{\\alpha \\Delta t}$$\n",
    "\n",
    "and $i = 2$?\n",
    "\n",
    "$$-T_1 ^{n+1} + \\left( 2 + \\frac{\\Delta x^2}{\\alpha \\Delta t} \\right) T_2 ^{n+1} - T_3 ^{n+1} = T_2 ^n \\frac{\\Delta x^2}{\\alpha \\Delta t}$$\n",
    "\n",
    "What about $i = 3$?\n",
    "\n",
    "$$-T_2 ^{n+1} + \\left( 2 + \\frac{\\Delta x^2}{\\alpha \\Delta t} \\right) T_3 ^{n+1} - T_4 ^{n+1} = T_3 ^n \\frac{\\Delta x^2}{\\alpha \\Delta t}$$\n",
    "\n",
    "Common element for these 3 at least $T_2 ^{n+1}$"
   ]
  },
  {
   "cell_type": "code",
   "execution_count": null,
   "metadata": {
    "collapsed": true
   },
   "outputs": [],
   "source": []
  }
 ],
 "metadata": {
  "kernelspec": {
   "display_name": "Python 3",
   "language": "python",
   "name": "python3"
  },
  "language_info": {
   "codemirror_mode": {
    "name": "ipython",
    "version": 3
   },
   "file_extension": ".py",
   "mimetype": "text/x-python",
   "name": "python",
   "nbconvert_exporter": "python",
   "pygments_lexer": "ipython3",
   "version": "3.4.3"
  }
 },
 "nbformat": 4,
 "nbformat_minor": 0
}
