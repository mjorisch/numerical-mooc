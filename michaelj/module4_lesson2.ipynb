{
 "cells": [
  {
   "cell_type": "markdown",
   "metadata": {},
   "source": [
    "Heat equation in one spatial dimension:\n",
    "$$\\frac{\\partial T}{\\partial t} = \\alpha \\frac{\\partial ^2 T}{\\partial x^2}$$\n",
    "\n",
    "Where $\\alpha$ is the thermal diffusivity and $T$ is the temperature.\n",
    "\n",
    "Implicit works differently than what we used.  It will use more data from the \"future\" in the update including several values of $T$ at $t^{n+1}$.  It will make the scheme more difficult to apply."
   ]
  },
  {
   "cell_type": "markdown",
   "metadata": {},
   "source": [
    "## Implicit Schemes\n",
    "\n",
    "Combine Euler time step with an evaluation of the spatial derivative on the updated solution at $t^{n+1}$.  Discretized gives:\n",
    "\n",
    "$$\\frac{T_i ^{n+1} - T_i ^n}{\\Delta t} = \\alpha \\frac{T_{i+1} ^{n+1} - 2T_i ^{n+1} + T_{i-1} ^{n+1}}{\\Delta x^2}$$\n",
    "\n",
    "From the previous time step we only know $T_i ^n$ but what about $T_i ^{n+1}$, $T_{i-1} ^{n+1}$ and $T_{i+1} ^{n+1}$\n",
    "\n",
    "Put what we know on the RHS and what we don't know on the LHS, which gives:\n",
    "\n",
    "$$-T_{i-1} ^{n+1} + \\left( 2 + \\frac{\\Delta x^2}{\\alpha \\Delta t} \\right) T_i ^{n+1} - T_{i+1} ^{n+1} = T_i ^n \\frac{\\Delta x^2}{\\alpha \\Delta t}$$\n",
    "\n",
    "What does it look like with $i = 1$?\n",
    "\n",
    "$$-T_0 ^{n+1} + \\left( 2 + \\frac{\\Delta x^2}{\\alpha \\Delta t} \\right) T_1 ^{n+1} - T_2 ^{n+1} = T_1 ^n \\frac{\\Delta x^2}{\\alpha \\Delta t}$$\n",
    "\n",
    "and $i = 2$?\n",
    "\n",
    "$$-T_1 ^{n+1} + \\left( 2 + \\frac{\\Delta x^2}{\\alpha \\Delta t} \\right) T_2 ^{n+1} - T_3 ^{n+1} = T_2 ^n \\frac{\\Delta x^2}{\\alpha \\Delta t}$$\n",
    "\n",
    "What about $i = 3$?\n",
    "\n",
    "$$-T_2 ^{n+1} + \\left( 2 + \\frac{\\Delta x^2}{\\alpha \\Delta t} \\right) T_3 ^{n+1} - T_4 ^{n+1} = T_3 ^n \\frac{\\Delta x^2}{\\alpha \\Delta t}$$\n",
    "\n",
    "Common element for these 3 at least $T_2 ^{n+1}$"
   ]
  },
  {
   "cell_type": "markdown",
   "metadata": {},
   "source": [
    "### Boundary Conditions??\n",
    "\n",
    "The value of $T_0 ^{n+1}$ is known at every time-step from the BC.  All unknown terms on the LHS and known on the RHS for $i = 1$:\n",
    "\n",
    "$$-T_2 ^{n+1} + \\left( 2 + \\frac{\\Delta x^2}{\\alpha \\Delta t} \\right) T_1 ^{n+1} = T_1 ^n \\frac{\\Delta x^2}{\\alpha \\Delta t} + T_0 ^{n+1}$$\n",
    "\n",
    "For $i = N - 2$:\n",
    "\n",
    "$$-T_{N-3} ^{n+1} + \\left( 2 + \\frac{\\Delta x^2}{\\alpha \\Delta t} \\right) T_{N-2} ^{n+1} - T_{N-1} ^{n+1} = T_{N-2} ^n \\frac{\\Delta x^2}{\\alpha \\Delta t}$$\n",
    "\n",
    "Discretized Neumann BC on the RHS of the rod is:\n",
    "\n",
    "$$\\frac{T_{N-1} ^n - T_{N-2} ^n}{\\Delta x} = q$$\n",
    "\n",
    "We can easily write that at time step $n + 1$(the boundary conditions apply at every time-step):\n",
    "\n",
    "$$\\frac{T_{N-1} ^{n+1} - T_{N-2} ^{n+1}}{\\Delta x} = q$$\n",
    "\n",
    "Inserting the Neumann BC in the equation for $i = N - 2$ gives:\n",
    "\n",
    "$$-T_{N-3} ^{n+1} + \\left( 1 + \\frac{\\Delta x^2}{\\alpha \\Delta t} \\right) T_{N-2} ^{n+1} = T_{N-2} ^n \\frac{\\Delta x^2}{\\alpha \\Delta t} + \\Delta xq$$\n",
    "\n",
    "Now the linear system of eqs in matrix form are:\n",
    "\n",
    "$$[A][x] = [b] + [b]_{b.c.}$$\n",
    "\n",
    "Where the matrix of coefficients $[A]$ is a sparse matrix."
   ]
  },
  {
   "cell_type": "code",
   "execution_count": 1,
   "metadata": {
    "collapsed": true
   },
   "outputs": [],
   "source": [
    "import numpy\n",
    "from matplotlib import pyplot\n",
    "%matplotlib inline\n",
    "from matplotlib import rcParams\n",
    "rcParams['font.family'] = 'serif'\n",
    "rcParams['font.size'] = 16"
   ]
  },
  {
   "cell_type": "code",
   "execution_count": 2,
   "metadata": {
    "collapsed": false
   },
   "outputs": [
    {
     "name": "stderr",
     "output_type": "stream",
     "text": [
      "/Users/Michael/Applications/anaconda/lib/python3.4/site-packages/ipykernel/__main__.py:13: DeprecationWarning: using a non-integer number instead of an integer will result in an error in the future\n"
     ]
    }
   ],
   "source": [
    "# Initial conditions\n",
    "L = 1.\n",
    "nt = 100\n",
    "nx = 51.\n",
    "alpha = 1.22e-3\n",
    "\n",
    "q = 0.\n",
    "\n",
    "dx = L / (nx - 1)\n",
    "\n",
    "qdx = q * dx\n",
    "\n",
    "Ti = numpy.zeros(nx)\n",
    "Ti[0] = 100"
   ]
  },
  {
   "cell_type": "markdown",
   "metadata": {},
   "source": [
    "### Solving a linear system\n",
    "\n",
    "Need to solve a linear sys of equations above to advance the solution in time.  Can use SciPy which has linear solvers.\n",
    "\n",
    "From scipy.linalg we can improve **solve**\n",
    "\n",
    "**solve**: Function that solves linear systems"
   ]
  },
  {
   "cell_type": "code",
   "execution_count": 3,
   "metadata": {
    "collapsed": true
   },
   "outputs": [],
   "source": [
    "from scipy.linalg import solve"
   ]
  },
  {
   "cell_type": "code",
   "execution_count": 4,
   "metadata": {
    "collapsed": true
   },
   "outputs": [],
   "source": [
    "def generateMatrix(N, sigma):\n",
    "    \"\"\"Computes the matrix for the diffusion equation with backward Euler Dirichlet condition at i=0, Neumann at i=-1\n",
    "    \n",
    "    Parameters:\n",
    "    ----------\n",
    "    T : array of float\n",
    "        Temperature at current time step\n",
    "    sigma : float\n",
    "        alpha * dt / dx ^ 2\n",
    "        \n",
    "    Returns:\n",
    "    -------\n",
    "    A : 2D numpy array of float\n",
    "        Matrix for diffusion equation\n",
    "    \"\"\"\n",
    "    \n",
    "    # Set up the diagonal\n",
    "    d = numpy.diag(numpy.ones(N-2) * (2 + 1. / sigma))\n",
    "    \n",
    "    # Consider Neumann BC\n",
    "    d[-1, -1] = 1 + 1. / sigma\n",
    "    \n",
    "    # Setup upper diagonal\n",
    "    ud = numpy.diag(numpy.ones(N - 3) * -1, 1)\n",
    "    \n",
    "    # Setup lower diagonal\n",
    "    ld = numpy.diag(numpy.ones(N - 3) * -1, -1)\n",
    "    \n",
    "    A = d + ud + ld\n",
    "    \n",
    "    return A"
   ]
  },
  {
   "cell_type": "code",
   "execution_count": 5,
   "metadata": {
    "collapsed": true
   },
   "outputs": [],
   "source": [
    "def generateRHS(T, sigma, qdx):\n",
    "    \"\"\"Computes right-hand side of linear system for diffusion equation with backward Euler\n",
    "    \n",
    "    Parameters:\n",
    "    ----------\n",
    "    T : array of float\n",
    "        Temperature at current time step\n",
    "    sigma : float\n",
    "        alpha * dt / dx ^ 2\n",
    "    qdx : float\n",
    "        flux at right boundary * dx\n",
    "        \n",
    "    Returns:\n",
    "    -------\n",
    "    b : array of float\n",
    "        Right-hand side of diffusion equation with backward Euler\n",
    "    \"\"\"\n",
    "    \n",
    "    b = numpy.zeros_like(T)\n",
    "    \n",
    "    b = T[1:-1] * 1. / sigma\n",
    "    \n",
    "    # Consider Dirichlet BC\n",
    "    b[0] += T[0]\n",
    "    \n",
    "    # Consider Neumann BC\n",
    "    b[-2] += qdx\n",
    "    \n",
    "    return b"
   ]
  },
  {
   "cell_type": "code",
   "execution_count": 6,
   "metadata": {
    "collapsed": true
   },
   "outputs": [],
   "source": [
    "def implicit_ftcs(T, A, nt, sigma, qdx):\n",
    "    \"\"\"Advances diffusion equation in time with implicit central scheme\n",
    "    \n",
    "    Parameters:\n",
    "    ----------\n",
    "    T : array of float\n",
    "        initial temperature profile\n",
    "    A : 2D array of float\n",
    "        Matrix with discretized diffusion equation\n",
    "    nt : int\n",
    "        number of time steps\n",
    "    sigma : float\n",
    "        alpha * dt / dx ^2\n",
    "    qdx : float\n",
    "        flux at right boundary * dx\n",
    "    \n",
    "    Returns:\n",
    "    -------\n",
    "    T : array of floats\n",
    "        temperature profile after nt time steps\n",
    "    \"\"\"\n",
    "    \n",
    "    for t in range(nt):\n",
    "        Tn = T.copy()\n",
    "        b = generateRHS(Tn, sigma, qdx)\n",
    "        # Use numpy.linalg.solve\n",
    "        T_interior = solve(A,b)\n",
    "        T[1:-1] = T_interior\n",
    "        # Enforce Neumann BC (Dirichlet is enforced automatically)\n",
    "        T[-1] = T[-2] + qdx\n",
    "        \n",
    "    return T\n",
    "        "
   ]
  },
  {
   "cell_type": "code",
   "execution_count": 7,
   "metadata": {
    "collapsed": true
   },
   "outputs": [],
   "source": [
    "#Solves the lin sys for every time step but matrix A doesn't change. You can only generate it once and then use it as an input parameters to the time stepping function\n",
    "\n",
    "sigma = 0.5\n",
    "dt = sigma * dx * dx / alpha\n",
    "nt = 1000\n",
    "\n",
    "A = generateMatrix(nx , sigma)"
   ]
  },
  {
   "cell_type": "code",
   "execution_count": 8,
   "metadata": {
    "collapsed": false
   },
   "outputs": [
    {
     "name": "stdout",
     "output_type": "stream",
     "text": [
      "[[ 4. -1.  0. ...,  0.  0.  0.]\n",
      " [-1.  4. -1. ...,  0.  0.  0.]\n",
      " [ 0. -1.  4. ...,  0.  0.  0.]\n",
      " ..., \n",
      " [ 0.  0.  0. ...,  4. -1.  0.]\n",
      " [ 0.  0.  0. ..., -1.  4. -1.]\n",
      " [ 0.  0.  0. ...,  0. -1.  3.]]\n"
     ]
    }
   ],
   "source": [
    "print(A)"
   ]
  },
  {
   "cell_type": "code",
   "execution_count": null,
   "metadata": {
    "collapsed": true
   },
   "outputs": [],
   "source": []
  }
 ],
 "metadata": {
  "kernelspec": {
   "display_name": "Python 3",
   "language": "python",
   "name": "python3"
  },
  "language_info": {
   "codemirror_mode": {
    "name": "ipython",
    "version": 3
   },
   "file_extension": ".py",
   "mimetype": "text/x-python",
   "name": "python",
   "nbconvert_exporter": "python",
   "pygments_lexer": "ipython3",
   "version": "3.4.3"
  }
 },
 "nbformat": 4,
 "nbformat_minor": 0
}
