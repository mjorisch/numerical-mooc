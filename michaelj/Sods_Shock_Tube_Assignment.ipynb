{
 "cells": [
  {
   "cell_type": "markdown",
   "metadata": {
    "collapsed": true
   },
   "source": [
    "# Sod's Shock Tube\n",
    "\n",
    "An example of a Riemann problem and has an analytical solution."
   ]
  },
  {
   "cell_type": "markdown",
   "metadata": {},
   "source": [
    "![shocktube](./figures/shocktube.png)\n",
    "#### Figure 1. The shock-tube problem."
   ]
  },
  {
   "cell_type": "markdown",
   "metadata": {},
   "source": [
    "## Euler Equations\n",
    "\n",
    "Consist of conservation laws of mass and momentum and the energy equation\n",
    "\n",
    "Consider a 1D flow with velocity u in the x-direction.  For density $\\rho$ and pressure $p$:\n",
    "$$\\frac{\\partial \\rho}{\\partial t} + \\frac{\\partial}{\\partial x} (\\rho u) = 0$$\n",
    "$$\\frac{\\partial}{\\partial t} (\\rho u) + \\frac{\\partial}{\\partial x} (\\rho u^2 + p) = 0$$\n",
    "\n",
    "Plus the energy equation which can be written as:\n",
    "$$\\frac{\\partial}{\\partial t} (\\rho e_T) + \\frac{\\partial}{\\partial x} (\\rho u e_T + p u) = 0$$\n",
    "Where $e_T = e + u^2/2$ is the total energy per unit mass equal to the internal energy plus the potential energy\n",
    "\n",
    "In vector form:\n",
    "$$\\frac{\\partial }{\\partial t} \\underline{\\mathbf{u}} + \\frac{\\partial }{\\partial x} \\underline{\\mathbf{f}} = 0$$"
   ]
  },
  {
   "cell_type": "markdown",
   "metadata": {},
   "source": [
    "## The conservative form\n",
    "\n",
    "$$\\underline{\\mathbf{u}} = \\left[ \\begin{array}{c} \n",
    "\\rho \\\\\n",
    "\\rho u \\\\\n",
    "\\rho e_T \\\\\n",
    "\\end{array} \\right]$$\n",
    "\n",
    "$$\\underline{\\mathbf{f}} = \\left[\\begin{array}{c}\n",
    "\\rho u \\\\\n",
    "\\rho u^2 + p \\\\\n",
    "(\\rho e_T + p) u \\\\\n",
    "\\end{array} \\right]$$\n",
    "\n",
    "Then we get:\n",
    "$$\\frac{\\partial}{\\partial t} \\left[\\begin{array}{c}\n",
    "\\rho \\\\\n",
    "\\rho u\\\\\n",
    "\\rho e_T \\\\\n",
    "\\end{array} \\right] + \\frac{\\partial}{\\partial x} \\left[\\begin{array}{c}\n",
    "\\rho u \\\\\n",
    "\\rho u^2 + p \\\\\n",
    "(\\rho e_T + p) u \\\\\n",
    "\\end{array} \\right] = 0$$"
   ]
  },
  {
   "cell_type": "markdown",
   "metadata": {},
   "source": [
    "## Calculating pressure\n",
    "\n",
    "Ideal gas:\n",
    "$$e = e(\\rho , p) = \\frac{p}{(\\gamma - 1)\\rho}$$\n",
    "$$\\therefore p = (\\gamma - 1)\\rho e$$\n",
    "$$e_T = e + \\frac{1}{2} u^2$$\n",
    "$$\\therefore e = e_T - \\frac{1}{2} u^2$$\n",
    "$$p = (\\gamma - 1) \\left( \\rho e_T - \\frac{\\rho u^2}{2} \\right)$$"
   ]
  },
  {
   "cell_type": "markdown",
   "metadata": {},
   "source": [
    "## Flux in terms of u\n",
    "\n",
    "$$\\underline{\\mathbf{f}} = f(\\underline{\\mathbf{u}})$$\n",
    "\n",
    "Need to represent f in terms of u:\n",
    "$$\\underline{\\mathbf{u}} = \\left[ \\begin{array}{c}\n",
    "u_1 \\\\\n",
    "u_2 \\\\\n",
    "u_3 \\\\\n",
    "\\end{array} \\right] =\n",
    "\\left[ \\begin{array}{c}\n",
    "\\rho \\\\\n",
    "\\rho u \\\\\n",
    "\\rho e_T \\\\\n",
    "\\end{array} \\right]$$\n",
    "\n",
    "$$\\underline{\\mathbf{f}} = \\left[ \\begin{array}{c}\n",
    "f_1 \\\\\n",
    "f_2 \\\\\n",
    "f_3 \\\\\n",
    "\\end{array} \\right] =\n",
    "\\left[ \\begin{array}{c}\n",
    "\\rho u \\\\\n",
    "\\rho u^2 + p \\\\\n",
    "(\\rho e_T + p) u \\\\\n",
    "\\end{array} \\right]$$\n",
    "\n",
    "In terms of the vector u the pressure vector is:\n",
    "$$p = (\\gamma - 1) \\left( u_3 - \\frac{1}{2} \\frac{u_2^2}{u_1} \\right)$$\n",
    "\n",
    "$$\\underline{\\mathbf{f}} = \\left[ \\begin{array}{c}\n",
    "f_1 \\\\\n",
    "f_2 \\\\\n",
    "f_3 \\\\ \\end{array} \\right] =\n",
    "\\left[ \\begin{array}{c}\n",
    "u_2\\\\\n",
    "\\frac{u^2_2}{u_1} + (\\gamma -1)\\left(u_3 - \\frac{1}{2} \\frac{u^2_2}{u_1} \\right) \\\\\n",
    "\\left(u_3 + (\\gamma -1)\\left(u_3 - \\frac{1}{2} \\frac{u^2_2}{u_1}\\right) \\right) \\frac{u_2}{u_1}\\\\ \\end{array}\n",
    "\\right]$$"
   ]
  },
  {
   "cell_type": "markdown",
   "metadata": {},
   "source": [
    "# Test conditions\n",
    "\n",
    "Tube spanning from x = -10m to x = 10m with a rigid membrane at x = 0m.\n",
    "\n",
    "$$\\underline{IC}_L = \\left[ \\begin{array}{c}\n",
    "\\rho_L \\\\ u_L \\\\ p_L \\\\ \\end{array}\\right] = \n",
    "\\left[ \\begin{array}{c}\n",
    "1\\ kg/m^3 \\\\ 0\\ m/s \\\\ 100\\ kN/m^2 \\\\ \\end{array}\\right]$$\n",
    "\n",
    "$$\\underline{IC}_R = \\left[ \\begin{array}{c}\n",
    "\\rho_R \\\\ u_R \\\\ p_R \\\\ \\end{array}\\right] = \n",
    "\\left[ \\begin{array}{c}\n",
    "0.125\\ kg/m^3 \\\\ 0\\ m/s \\\\ 10\\ kN/m^2 \\\\ \\end{array}\\right]$$\n",
    "\n",
    "IC_L is the initial density velocity and pressure on the left side of the tube membrane and IC_R is the initial density velocity and pressure on the right side of the tube membrane."
   ]
  },
  {
   "cell_type": "markdown",
   "metadata": {},
   "source": [
    "![shock_analytic](./figures/shock_tube_.01.png)\n",
    "\n",
    "#### Figure 2. Analytical solution for Sod's first test."
   ]
  },
  {
   "cell_type": "markdown",
   "metadata": {},
   "source": [
    "## The Richtmyer method\n",
    "\n",
    "Two step method using\n",
    "$$\\underline{\\mathbf{u}}^{n+\\frac{1}{2}}_{i+\\frac{1}{2}} = \\frac{1}{2} \\left( \\underline{\\mathbf{u}}^n_{i+1} +  \\underline{\\mathbf{u}}^n_i \\right) - \n",
    "\\frac{\\Delta t}{2 \\Delta x} \\left( \\underline{\\mathbf{f}}^n_{i+1} - \\underline{\\mathbf{f}}^n_i\\right)$$\n",
    "\n",
    "$$\\underline{\\mathbf{u}}^{n+1}_i = \\underline{\\mathbf{u}}^n_i - \\frac{\\Delta t}{\\Delta x} \\left(\\underline{\\mathbf{f}}^{n+\\frac{1}{2}}_{i+\\frac{1}{2}} - \\underline{\\mathbf{f}}^{n+\\frac{1}{2}}_{i-\\frac{1}{2}} \\right)$$\n",
    "\n",
    "$$\\underline{\\mathbf{f}}^{n+\\frac{1}{2}}_{i+\\frac{1}{2}} = \\underline{\\mathbf{f}}\\left(\\underline{\\mathbf{u}}^{n+\\frac{1}{2}}_{i+\\frac{1}{2}}\\right)$$\n",
    "\n",
    "The first step is a predictor and the second is a corrector."
   ]
  },
  {
   "cell_type": "markdown",
   "metadata": {},
   "source": [
    "# Assignment\n",
    "\n",
    "Calculate the pressure density and velocity across the shock tube at time t = 0.01 s using the Richtmyer method\n",
    "\n",
    "nx = 81\n",
    "dx = .25\n",
    "dt = .0002\n",
    "gamma = 1.4"
   ]
  },
  {
   "cell_type": "code",
   "execution_count": 26,
   "metadata": {
    "collapsed": true
   },
   "outputs": [],
   "source": [
    "import numpy\n",
    "from matplotlib import pyplot\n",
    "%matplotlib inline\n",
    "from matplotlib import rcParams\n",
    "rcParams['font.family'] = 'serif'\n",
    "rcParams['font.size'] = 16\n",
    "from matplotlib import animation\n",
    "from JSAnimation.IPython_display import display_animation"
   ]
  },
  {
   "cell_type": "code",
   "execution_count": 27,
   "metadata": {
    "collapsed": true
   },
   "outputs": [],
   "source": [
    "#nx = 81\n",
    "#dx = .25\n",
    "#dt = .0002\n",
    "#gamma = 1.4"
   ]
  },
  {
   "cell_type": "code",
   "execution_count": 28,
   "metadata": {
    "collapsed": false
   },
   "outputs": [],
   "source": [
    "#Set initial conditions\n",
    "\n",
    "ICL = numpy.zeros((3,1))\n",
    "ICR = numpy.zeros_like(ICL)\n",
    "\n",
    "ICL[0] = 1.\n",
    "ICL[1] = 0.\n",
    "ICL[2] = 100.*1000.\n",
    "\n",
    "ICR[0] = 0.125\n",
    "ICR[1] = 0.\n",
    "ICR[2] = 10.*1000."
   ]
  },
  {
   "cell_type": "markdown",
   "metadata": {},
   "source": [
    "Solve for $e_T$ in terms of $p$, $u$, $\\rho$, and $\\gamma$\n",
    "$$p = (\\gamma - 1) \\left( \\rho e_T - \\frac{\\rho u^2}{2} \\right)$$"
   ]
  },
  {
   "cell_type": "markdown",
   "metadata": {},
   "source": [
    "$$\\frac{p}{\\gamma -1} + \\frac{\\rho u^2}{2} = \\rho e_T$$\n",
    "$$e_T = \\frac{p}{\\rho (\\gamma -1)} + \\frac{u^2}{2}$$\n",
    "$$\\rho e_T = \\frac{p}{\\gamma -1} + \\frac{u^2 \\rho}{2}$$"
   ]
  },
  {
   "cell_type": "code",
   "execution_count": 29,
   "metadata": {
    "collapsed": false
   },
   "outputs": [],
   "source": [
    "# U in terms of initial condtions\n",
    "def computeU(ICL, ICR):\n",
    "\n",
    "    u = numpy.zeros((3,nx))\n",
    "\n",
    "    u[0, :nx / 2] = ICL[0]\n",
    "    u[1, :nx / 2] = ICL[0] * ICL[1]\n",
    "    u[2, :nx / 2] = ICL[2] / (gamma - 1) + .5 * ICL[1] ** 2 * ICL[0]\n",
    "\n",
    "    u[0, nx / 2:] = ICR[0]\n",
    "    u[1, nx / 2:] = ICR[0] * ICR[1]\n",
    "    u[2, nx / 2:] = ICR[2] / (gamma - 1) + .5 * ICR[1] ** 2 * ICR[0]\n",
    "\n",
    "    u_given = numpy.zeros((3, nx, nt))\n",
    "\n",
    "    u_given[:, :, 0] = u[:, :]\n",
    "    \n",
    "    return u_given"
   ]
  },
  {
   "cell_type": "code",
   "execution_count": 30,
   "metadata": {
    "collapsed": false
   },
   "outputs": [],
   "source": [
    "# F in terms of u\n",
    "def computeF(u):\n",
    "\n",
    "    u1 = u[0]\n",
    "    u2 = u[1]\n",
    "    u3 = u[2]\n",
    "\n",
    "    f = numpy.array([u2, u2 ** 2 / u1 + (gamma - 1) * (u3 - u2 ** 2 / (2 * u1)), ((gamma - 1) * (u3 - u2 ** 2 / (2 * u1)) + u3) * (u2 / u1)])\n",
    "\n",
    "    return f"
   ]
  },
  {
   "cell_type": "code",
   "execution_count": 31,
   "metadata": {
    "collapsed": true
   },
   "outputs": [],
   "source": [
    "#Richtmyer method\n",
    "\n",
    "def richtmyer(u_init, nt, dt, dx, nx):\n",
    "    \"\"\"Computes the solution with the Richtmyer method\n",
    "    \n",
    "    Parameters\n",
    "    ----------\n",
    "    u_init : array of floats\n",
    "        Initial set of u values\n",
    "    nt : int\n",
    "        Number of time-steps\n",
    "    dt : float\n",
    "        Time-step size\n",
    "    dx : float\n",
    "        Mesh spacing\n",
    "    nx : float\n",
    "        Number of mesh-spaces\n",
    "    \n",
    "    Returns\n",
    "    -------\n",
    "    u_init : array of floats\n",
    "        u after nt time steps at every point x\n",
    "    \"\"\"\n",
    "    \n",
    "    un = u_init[:, :, 0]\n",
    "    \n",
    "    un_plus = numpy.zeros((3, nx))\n",
    "    \n",
    "    un_minus = numpy.zeros_like(un_plus)\n",
    "    \n",
    "    for i in range(nt):\n",
    "        \n",
    "        un_plus[:, :-1] = .5 * (un[:, 1:] + un[:, :-1]) - dt / (2 * dx) * (computeF(un[:, 1:]) - computeF(un[:, :-1]))\n",
    "        \n",
    "        un_minus[:, 1:] = un_plus[:, :-1]\n",
    "        \n",
    "        un[:, 1:-1] = un[:, 1:-1] - dt / dx * (computeF(un_plus[:, 1:-1]) - computeF(un_minus[:, 1:-1]))\n",
    "        \n",
    "        un[:, 0] = un[:, 1]\n",
    "        \n",
    "        un[:, -1] = un[:, -2]\n",
    "        \n",
    "        u_init[:, :, i] = un[:, :]\n",
    "        \n",
    "    return u_init\n",
    "    \n",
    "    "
   ]
  },
  {
   "cell_type": "code",
   "execution_count": 32,
   "metadata": {
    "collapsed": true
   },
   "outputs": [],
   "source": [
    "# Get velocity pressure and density\n",
    "\n",
    "def get_rho_v_p(u):\n",
    "    \n",
    "    rho = u[0, :, :]\n",
    "    \n",
    "    velocity = u[1, :, :] / u[0, :, :]\n",
    "\n",
    "    pressure = (gamma - 1) * ( u[2, :, :] - .5 * u[1, :, :] ** 2 / u[0, :, :])\n",
    "\n",
    "    return rho, velocity, pressure"
   ]
  },
  {
   "cell_type": "code",
   "execution_count": 33,
   "metadata": {
    "collapsed": false
   },
   "outputs": [
    {
     "name": "stderr",
     "output_type": "stream",
     "text": [
      "/Users/Michael/Applications/anaconda/lib/python3.4/site-packages/ipykernel/__main__.py:6: DeprecationWarning: using a non-integer number instead of an integer will result in an error in the future\n",
      "/Users/Michael/Applications/anaconda/lib/python3.4/site-packages/ipykernel/__main__.py:7: DeprecationWarning: using a non-integer number instead of an integer will result in an error in the future\n",
      "/Users/Michael/Applications/anaconda/lib/python3.4/site-packages/ipykernel/__main__.py:8: DeprecationWarning: using a non-integer number instead of an integer will result in an error in the future\n",
      "/Users/Michael/Applications/anaconda/lib/python3.4/site-packages/ipykernel/__main__.py:10: DeprecationWarning: using a non-integer number instead of an integer will result in an error in the future\n",
      "/Users/Michael/Applications/anaconda/lib/python3.4/site-packages/ipykernel/__main__.py:11: DeprecationWarning: using a non-integer number instead of an integer will result in an error in the future\n",
      "/Users/Michael/Applications/anaconda/lib/python3.4/site-packages/ipykernel/__main__.py:12: DeprecationWarning: using a non-integer number instead of an integer will result in an error in the future\n"
     ]
    }
   ],
   "source": [
    "nx = 81\n",
    "dx = .25\n",
    "dt = .0002\n",
    "nt = 101\n",
    "gamma = 1.4\n",
    "\n",
    "u_given = computeU(ICL,ICR)\n",
    "\n",
    "u_get = richtmyer(u_given, nt, dt, dx, nx)\n",
    "\n",
    "rho, velocity, pressure = get_rho_v_p(u_get) "
   ]
  },
  {
   "cell_type": "code",
   "execution_count": 49,
   "metadata": {
    "collapsed": false
   },
   "outputs": [
    {
     "name": "stdout",
     "output_type": "stream",
     "text": [
      "The density at .01 seconds and 2.5m is 0.37\n",
      "The velocity at .01 seconds and 2.5m is 292.61\n",
      "The pressure at .01 seconds and 2.5m is 30250.89\n"
     ]
    }
   ],
   "source": [
    "print(\"The density at .01 seconds and 2.5m is {:.2f}\".format(rho[int(2.5 / dx + nx / 2), int(.01 / dt - 1)]))\n",
    "print(\"The velocity at .01 seconds and 2.5m is {:.2f}\".format(velocity[int(2.5 / dx + nx / 2), int(.01 / dt - 1)]))\n",
    "print(\"The pressure at .01 seconds and 2.5m is {:.2f}\".format(pressure[int(2.5 / dx + nx / 2), int(.01 / dt - 1)]))"
   ]
  },
  {
   "cell_type": "code",
   "execution_count": null,
   "metadata": {
    "collapsed": true
   },
   "outputs": [],
   "source": []
  }
 ],
 "metadata": {
  "kernelspec": {
   "display_name": "Python 3",
   "language": "python",
   "name": "python3"
  },
  "language_info": {
   "codemirror_mode": {
    "name": "ipython",
    "version": 3
   },
   "file_extension": ".py",
   "mimetype": "text/x-python",
   "name": "python",
   "nbconvert_exporter": "python",
   "pygments_lexer": "ipython3",
   "version": "3.4.3"
  }
 },
 "nbformat": 4,
 "nbformat_minor": 0
}
