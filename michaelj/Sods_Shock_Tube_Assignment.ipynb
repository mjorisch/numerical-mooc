{
 "cells": [
  {
   "cell_type": "markdown",
   "metadata": {
    "collapsed": true
   },
   "source": [
    "# Sod's Shock Tube\n",
    "\n",
    "An example of a Riemann problem and has an analytical solution."
   ]
  },
  {
   "cell_type": "markdown",
   "metadata": {},
   "source": [
    "![shocktube](./figures/shocktube.png)\n",
    "#### Figure 1. The shock-tube problem."
   ]
  },
  {
   "cell_type": "markdown",
   "metadata": {},
   "source": [
    "## Euler Equations\n",
    "\n",
    "Consist of conservation laws of mass and momentum and the energy equation\n",
    "\n",
    "Consider a 1D flow with velocity u in the x-direction.  For density $\\rho$ and pressure $p$:\n",
    "$$\\frac{\\partial \\rho}{\\partial t} + \\frac{\\partial}{\\partial x} (\\rho u) = 0$$\n",
    "$$\\frac{\\partial}{\\partial t} (\\rho u) + \\frac{\\partial}{\\partial x} (\\rho u^2 + p) = 0$$\n",
    "\n",
    "Plus the energy equation which can be written as:\n",
    "$$\\frac{\\partial}{\\partial t} (\\rho e_T) + \\frac{\\partial}{\\partial x} (\\rho u e_T + p u) = 0$$\n",
    "Where $e_T = e + u^2/2$ is the total energy per unit mass equal to the internal energy plus the potential energy\n",
    "\n",
    "In vector form:\n",
    "$$\\frac{\\partial }{\\partial t} \\underline{\\mathbf{u}} + \\frac{\\partial }{\\partial x} \\underline{\\mathbf{f}} = 0$$"
   ]
  },
  {
   "cell_type": "code",
   "execution_count": null,
   "metadata": {
    "collapsed": true
   },
   "outputs": [],
   "source": []
  }
 ],
 "metadata": {
  "kernelspec": {
   "display_name": "Python 3",
   "language": "python",
   "name": "python3"
  },
  "language_info": {
   "codemirror_mode": {
    "name": "ipython",
    "version": 3
   },
   "file_extension": ".py",
   "mimetype": "text/x-python",
   "name": "python",
   "nbconvert_exporter": "python",
   "pygments_lexer": "ipython3",
   "version": "3.4.3"
  }
 },
 "nbformat": 4,
 "nbformat_minor": 0
}
