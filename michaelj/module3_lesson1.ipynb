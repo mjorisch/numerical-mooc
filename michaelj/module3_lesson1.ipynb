{
 "cells": [
  {
   "cell_type": "code",
   "execution_count": 1,
   "metadata": {
    "collapsed": true
   },
   "outputs": [],
   "source": [
    "%matplotlib inline\n",
    "import numpy\n",
    "from matplotlib import pyplot\n",
    "from matplotlib import rcParams\n",
    "rcParams['font.family'] = 'serif'\n",
    "rcParams['font.size'] = 16"
   ]
  },
  {
   "cell_type": "code",
   "execution_count": 7,
   "metadata": {
    "collapsed": true
   },
   "outputs": [],
   "source": [
    "def rho_green_light(nx,rho_light):\n",
    "    \"\"\"Computes \"green light\" initial condition with shock, and linear distribution behind\n",
    "    \n",
    "    Parameters\n",
    "    ----------\n",
    "    nx : int\n",
    "        Number of grid points in x\n",
    "    rho_light: float\n",
    "        Density of cars at stoplight\n",
    "    \n",
    "    Returns\n",
    "    -------\n",
    "    rho: array of floats\n",
    "        Array with initial values of density\n",
    "    \"\"\"\n",
    "    rho = numpy.arange(nx)*2./nx*rho_light #before stoplight\n",
    "    rho[(nx-1)/2:]=0\n",
    "    \n",
    "    return rho"
   ]
  },
  {
   "cell_type": "markdown",
   "metadata": {},
   "source": [
    "Numpy.arange creates an array with even steps with length nx\n",
    "The array is then divided by 2/nx*rho_light\n",
    "Then you have the density of the traffic set to zero after the (nx-1)/2 point"
   ]
  },
  {
   "cell_type": "code",
   "execution_count": 8,
   "metadata": {
    "collapsed": false
   },
   "outputs": [
    {
     "name": "stderr",
     "output_type": "stream",
     "text": [
      "/Users/Michael/Applications/anaconda/lib/python3.4/site-packages/ipykernel/__main__.py:17: DeprecationWarning: using a non-integer number instead of an integer will result in an error in the future\n"
     ]
    }
   ],
   "source": [
    "#Basic initial condition parameters\n",
    "#defining grid size, and time steps\n",
    "nx = 81\n",
    "nt = 30\n",
    "dx = 4.0/(nx-1)\n",
    "\n",
    "x = numpy.linspace(0,4,nx)\n",
    "\n",
    "rho_max = 10.\n",
    "u_max = 1.\n",
    "rho_light = 10.\n",
    "\n",
    "rho = rho_green_light(nx, rho_light)"
   ]
  },
  {
   "cell_type": "code",
   "execution_count": 9,
   "metadata": {
    "collapsed": false
   },
   "outputs": [
    {
     "data": {
      "image/png": "[encoded data removed]",
      "text/plain": [
       "<matplotlib.figure.Figure at 0x105a724e0>"
      ]
     },
     "metadata": {},
     "output_type": "display_data"
    }
   ],
   "source": [
    "pyplot.plot(x, rho, color='#003366', ls='-',lw=3)\n",
    "pyplot.ylabel('Traffic Density')\n",
    "pyplot.xlabel('Distance')\n",
    "pyplot.ylim(-0.5,11.);"
   ]
  },
  {
   "cell_type": "code",
   "execution_count": null,
   "metadata": {
    "collapsed": true
   },
   "outputs": [],
   "source": []
  }
 ],
 "metadata": {
  "kernelspec": {
   "display_name": "Python 3",
   "language": "python",
   "name": "python3"
  },
  "language_info": {
   "codemirror_mode": {
    "name": "ipython",
    "version": 3
   },
   "file_extension": ".py",
   "mimetype": "text/x-python",
   "name": "python",
   "nbconvert_exporter": "python",
   "pygments_lexer": "ipython3",
   "version": "3.4.3"
  }
 },
 "nbformat": 4,
 "nbformat_minor": 0
}
