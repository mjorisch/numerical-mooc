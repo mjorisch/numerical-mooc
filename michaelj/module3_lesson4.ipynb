{
 "cells": [
  {
   "cell_type": "markdown",
   "metadata": {},
   "source": [
    "Finite-Volume Method\n",
    "\n",
    "Most popular method in computational fluid dynamics (everyone loves it)\n",
    "\n",
    "* FVM discretizations are very general and are very flexible\n",
    "\n",
    "* FVM gives a conservative discretization automatically by directly using the conservation laws in integral form.\n",
    "\n",
    "Conservation:\n",
    "$$\\frac{\\partial}{\\partial t} \\int_{\\text{cv}} e dV + \\oint_{\\text{cs}} \\vec{F} \\cdot d\\vec{A} = 0$$"
   ]
  },
  {
   "cell_type": "markdown",
   "metadata": {},
   "source": [
    "Why not make the control volume itself our computational cell?\n",
    "\n",
    "$$e_i = \\frac{1}{\\Delta x} int_{x_i - \\Delta x/2}^{x_i + \\Delta x/2} e(x,t) dx$$\n",
    "\n",
    "If we know the flux terms at the boundaries, the general conservation law gives:\n",
    "\n",
    "$$\\frac{\\partial}{\\partial t} e_i + \\frac{1}{\\Delta x} \\left[ F(x_{i + 1/2},t) - F(x_{i-1/2},t)\\right] = 0$$"
   ]
  },
  {
   "cell_type": "markdown",
   "metadata": {},
   "source": [
    "Godunov's Method (1959)\n",
    "\n",
    "Uses integral form of the conservation laws and a piecewise constant representation of the solution\n",
    "\n",
    "Use Riemann solution at each cell boundary (what a smart guy)\n",
    "\n",
    "Need to solve Riemann from $t$ to $\\Delta t$ one on each cell boundary\n",
    "\n",
    "$$F_{i+1/2} = \\frac{1}{\\Delta t} \\int_{t^n}^{t^{n+1}} F(e(x_{i+1/2},t)) dt$$"
   ]
  },
  {
   "cell_type": "markdown",
   "metadata": {},
   "source": [
    "Rusanov flux aka Lax-Friedrichs flux\n",
    "\n",
    "$$F_{i+1/2} = \\frac{1}{2} [F(e_L) + F(e_R)] - \\frac{1}{2} max |F'(e)| (e_R - e_L)$$\n",
    "\n",
    "F'(e) is the Jacobian of the flux function and max|F'(e)| is the local propagation speed of the fastest traveling wave.\n",
    "\n",
    "The Riemann solutions at each cell boundary don't interact if $max|F'(e)| \\leq \\frac{\\Delta x}{\\Delta t}$ which leads to:\n",
    "$$F_{i+1/2} = \\frac{1}{2} \\left( F(e_i) + F(e_{i+1}) - \\frac{\\Delta x}{\\Delta t} (e_{i+1} - e_i) \\right)$$"
   ]
  },
  {
   "cell_type": "code",
   "execution_count": 3,
   "metadata": {
    "collapsed": false
   },
   "outputs": [],
   "source": [
    "from traffic import rho_red_light, computeF"
   ]
  },
  {
   "cell_type": "code",
   "execution_count": null,
   "metadata": {
    "collapsed": true
   },
   "outputs": [],
   "source": []
  }
 ],
 "metadata": {
  "kernelspec": {
   "display_name": "Python 3",
   "language": "python",
   "name": "python3"
  },
  "language_info": {
   "codemirror_mode": {
    "name": "ipython",
    "version": 3
   },
   "file_extension": ".py",
   "mimetype": "text/x-python",
   "name": "python",
   "nbconvert_exporter": "python",
   "pygments_lexer": "ipython3",
   "version": "3.4.3"
  }
 },
 "nbformat": 4,
 "nbformat_minor": 0
}
