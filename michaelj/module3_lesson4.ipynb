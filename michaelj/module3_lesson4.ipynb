{
 "cells": [
  {
   "cell_type": "markdown",
   "metadata": {},
   "source": [
    "Finite-Volume Method\n",
    "\n",
    "Most popular method in computational fluid dynamics (everyone loves it)\n",
    "\n",
    "* FVM discretizations are very general and are very flexible\n",
    "\n",
    "* FVM gives a conservative discretization automatically by directly using the conservation laws in integral form.\n",
    "\n",
    "Conservation:\n",
    "$$\\frac{\\partial}{\\partial t} \\int_{\\text{cv}} e dV + \\oint_{\\text{cs}} \\vec{F} \\cdot d\\vec{A} = 0$$"
   ]
  },
  {
   "cell_type": "code",
   "execution_count": null,
   "metadata": {
    "collapsed": true
   },
   "outputs": [],
   "source": []
  }
 ],
 "metadata": {
  "kernelspec": {
   "display_name": "Python 3",
   "language": "python",
   "name": "python3"
  },
  "language_info": {
   "codemirror_mode": {
    "name": "ipython",
    "version": 3
   },
   "file_extension": ".py",
   "mimetype": "text/x-python",
   "name": "python",
   "nbconvert_exporter": "python",
   "pygments_lexer": "ipython3",
   "version": "3.4.3"
  }
 },
 "nbformat": 4,
 "nbformat_minor": 0
}
