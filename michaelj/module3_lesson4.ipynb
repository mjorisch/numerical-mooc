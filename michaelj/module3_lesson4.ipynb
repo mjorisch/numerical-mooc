{
 "cells": [
  {
   "cell_type": "markdown",
   "metadata": {},
   "source": [
    "Finite-Volume Method\n",
    "\n",
    "Most popular method in computational fluid dynamics (everyone loves it)\n",
    "\n",
    "* FVM discretizations are very general and are very flexible\n",
    "\n",
    "* FVM gives a conservative discretization automatically by directly using the conservation laws in integral form.\n",
    "\n",
    "Conservation:\n",
    "$$\\frac{\\partial}{\\partial t} \\int_{\\text{cv}} e dV + \\oint_{\\text{cs}} \\vec{F} \\cdot d\\vec{A} = 0$$"
   ]
  },
  {
   "cell_type": "markdown",
   "metadata": {},
   "source": [
    "Why not make the control volume itself our computational cell?\n",
    "\n",
    "$$e_i = \\frac{1}{\\Delta x} int_{x_i - \\Delta x/2}^{x_i + \\Delta x/2} e(x,t) dx$$\n",
    "\n",
    "If we know the flux terms at the boundaries, the general conservation law gives:\n",
    "\n",
    "$$\\frac{\\partial}{\\partial t} e_i + \\frac{1}{\\Delta x} \\left[ F(x_{i + 1/2},t) - F(x_{i-1/2},t)\\right] = 0$$"
   ]
  },
  {
   "cell_type": "markdown",
   "metadata": {},
   "source": [
    "Godunov's Method (1959)\n",
    "\n",
    "Uses integral form of the conservation laws and a piecewise constant representation of the solution\n",
    "\n",
    "Use Riemann solution at each cell boundary (what a smart guy)\n",
    "\n",
    "Need to solve Riemann from $t$ to $\\Delta t$ one on each cell boundary\n",
    "\n",
    "$$F_{i+1/2} = \\frac{1}{\\Delta t} \\int_{t^n}^{t^{n+1}} F(e(x_{i+1/2},t)) dt$$"
   ]
  },
  {
   "cell_type": "markdown",
   "metadata": {},
   "source": [
    "Rusanov flux aka Lax-Friedrichs flux\n",
    "\n",
    "$$F_{i+1/2} = \\frac{1}{2} [F(e_L) + F(e_R)] - \\frac{1}{2} max |F'(e)| (e_R - e_L)$$\n",
    "\n",
    "F'(e) is the Jacobian of the flux function and max|F'(e)| is the local propagation speed of the fastest traveling wave.\n",
    "\n",
    "The Riemann solutions at each cell boundary don't interact if $max|F'(e)| \\leq \\frac{\\Delta x}{\\Delta t}$ which leads to:\n",
    "$$F_{i+1/2} = \\frac{1}{2} \\left( F(e_i) + F(e_{i+1}) - \\frac{\\Delta x}{\\Delta t} (e_{i+1} - e_i) \\right)$$"
   ]
  },
  {
   "cell_type": "code",
   "execution_count": 3,
   "metadata": {
    "collapsed": false
   },
   "outputs": [],
   "source": [
    "from traffic import rho_red_light, computeF"
   ]
  },
  {
   "cell_type": "code",
   "execution_count": 5,
   "metadata": {
    "collapsed": false
   },
   "outputs": [],
   "source": [
    "%matplotlib inline\n",
    "import numpy\n",
    "from matplotlib import pyplot\n",
    "from matplotlib import rcParams\n",
    "rcParams['font.family'] = 'serif'\n",
    "rcParams['font.size'] = 16\n",
    "from matplotlib import animation\n",
    "from JSAnimation.IPython_display import display_animation"
   ]
  },
  {
   "cell_type": "code",
   "execution_count": 6,
   "metadata": {
    "collapsed": true
   },
   "outputs": [],
   "source": [
    "#Basic initial condition parameters\n",
    "#defining grid size, time steps, CFL condition, etc...\n",
    "nx = 101\n",
    "nt = 30\n",
    "dx = 4.0/(nx-2)\n",
    "\n",
    "rho_in = 5.\n",
    "rho_max = 10.\n",
    "\n",
    "V_max = 1.\n",
    "\n",
    "x = numpy.linspace(0,4,nx-1)\n",
    "\n",
    "rho = rho_red_light(nx-1, rho_max, rho_in)"
   ]
  },
  {
   "cell_type": "code",
   "execution_count": 7,
   "metadata": {
    "collapsed": true
   },
   "outputs": [],
   "source": [
    "def animate(data):\n",
    "    x = numpy.linspace(0,4,nx-1)\n",
    "    y = data\n",
    "    line.set_data(x,y)\n",
    "    return line,"
   ]
  },
  {
   "cell_type": "code",
   "execution_count": 8,
   "metadata": {
    "collapsed": true
   },
   "outputs": [],
   "source": [
    "def godunov(rho, nt, dt, dx, rho_max, V_max):\n",
    "    \"\"\"Computes the solution with the Godunov scheme using the Lax-Friedrichs flux.\n",
    "    \n",
    "    Parameters\n",
    "    ----------\n",
    "    rho : array of floats\n",
    "        Density at current time-step\n",
    "    nt : int\n",
    "        Number of time steps\n",
    "    dt : float\n",
    "        Time-step size\n",
    "    dx : float\n",
    "        Mesh spacing\n",
    "    rho_max : float\n",
    "        Maximum allowed car density\n",
    "    V_max : float\n",
    "        Speed limit\n",
    "        \n",
    "    Returns\n",
    "    -------\n",
    "    rho_n : array of floats\n",
    "        Density after nt time steps at every point x\n",
    "    \"\"\"\n",
    "    \n",
    "    #initialize our results array with dimensions nt by nx\n",
    "    rho_n = numpy.zeros((nt,len(rho)))\n",
    "    #copy the initial u array into each row of our new array\n",
    "    rho_n[:,:] = rho.copy()\n",
    "    \n",
    "    #setup some temporary arrays\n",
    "    rho_plus = numpy.zeros_like(rho)\n",
    "    rho_minus = numpy.zeros_like(rho)\n",
    "    flux = numpy.zeros_like(rho)\n",
    "    \n",
    "    for t in range(1,nt):\n",
    "        \n",
    "        rho_plus[:-1] = rho[1:] #can't do i+1/2 indices so cell boundary\n",
    "        rho_minus = rho.copy() #arrays at index i are at location i+1/2\n",
    "        flux = 0.5 * (computeF(V_max, rho_max, rho_minus) + computeF(V_max, rho_max, rho_plus) + dx/dt * (rho_minus - rho_plus))\n",
    "        rho_n[t,1:-1] = rho[1:-1] + dt/dx*(flux[:-2]-flux[1:-1])\n",
    "        rho_n[t,0] = rho[0]\n",
    "        rho_n[t,-1] = rho[-1]\n",
    "        rho = rho_n[t].copy()\n",
    "        \n",
    "    return rho_n"
   ]
  },
  {
   "cell_type": "code",
   "execution_count": 9,
   "metadata": {
    "collapsed": true
   },
   "outputs": [],
   "source": [
    "sigma = 1.0\n",
    "dt = sigma*dx/V_max\n",
    "\n",
    "rho = rho_red_light(nx-1, rho_max, rho_in) # make sure that u is set to our expected initial conditions\n",
    "rho_n = godunov(rho, nt, dt, dx, rho_max, V_max)"
   ]
  },
  {
   "cell_type": "code",
   "execution_count": null,
   "metadata": {
    "collapsed": true
   },
   "outputs": [],
   "source": []
  }
 ],
 "metadata": {
  "kernelspec": {
   "display_name": "Python 3",
   "language": "python",
   "name": "python3"
  },
  "language_info": {
   "codemirror_mode": {
    "name": "ipython",
    "version": 3
   },
   "file_extension": ".py",
   "mimetype": "text/x-python",
   "name": "python",
   "nbconvert_exporter": "python",
   "pygments_lexer": "ipython3",
   "version": "3.4.3"
  }
 },
 "nbformat": 4,
 "nbformat_minor": 0
}
