{
 "cells": [
  {
   "cell_type": "code",
   "execution_count": 18,
   "metadata": {
    "collapsed": true
   },
   "outputs": [],
   "source": [
    "import numpy\n",
    "from matplotlib import pyplot\n",
    "%matplotlib inline"
   ]
  },
  {
   "cell_type": "code",
   "execution_count": 19,
   "metadata": {
    "collapsed": false
   },
   "outputs": [],
   "source": [
    "#initial conditions for Euler's method\n",
    "#global constants\n",
    "\n",
    "z0 = 100.0 #altitude\n",
    "b0 = 10.0 #upward velocity resulting from gust\n",
    "zt = 100.0\n",
    "g = 9.81\n",
    "\n",
    "#all numbers are floats"
   ]
  },
  {
   "cell_type": "code",
   "execution_count": 20,
   "metadata": {
    "collapsed": true
   },
   "outputs": [],
   "source": [
    "#Function for Numerical Solution of Euler Method\n",
    "def euler_function(T, dt):\n",
    "   \n",
    "    N = int(T/dt) + 1\n",
    "    t = numpy.linspace(0.0, T, N)\n",
    "    \n",
    "    global z0, b0, zt, g\n",
    "    \n",
    "    u = numpy.array([z0, b0])\n",
    "    z = numpy.zeros(N)\n",
    "    z[0] = z0\n",
    "    \n",
    "    #time-loop for Euler method\n",
    "    for n in range(1,N):\n",
    "        u = u + dt*numpy.array([u[1], g*(1-u[0]/zt)])\n",
    "        z[n] = u[0]\n",
    "        \n",
    "    return z, t"
   ]
  },
  {
   "cell_type": "code",
   "execution_count": 21,
   "metadata": {
    "collapsed": false
   },
   "outputs": [],
   "source": [
    "#Function for the Exact Solution of Euler Method\n",
    "def exact_sol(T, dt):\n",
    "    \n",
    "    N = int(T/dt) + 1\n",
    "    t = numpy.linspace(0.0, T, N)\n",
    "    \n",
    "    global z0, b0, zt, g\n",
    "    \n",
    "    z_exact = b0 * (zt/g)**.5 * numpy.sin((g/zt)**.5 * t) + (z0-zt) * numpy.cos((g/zt)**.5 * t) + zt\n",
    "    \n",
    "    return z_exact, t"
   ]
  },
  {
   "cell_type": "code",
   "execution_count": 22,
   "metadata": {
    "collapsed": false
   },
   "outputs": [],
   "source": [
    "#time-increment array\n",
    "dt_values = numpy.array([0.1, 0.05, 0.01, 0.005, 0.001, 0.0001])\n",
    "error_values = numpy.empty_like(dt_values)    \n",
    "\n",
    "N = len(dt_values)\n",
    "       \n",
    "for i in range(N):\n",
    "    [z,t] = euler_function(100.0, dt_values[i])\n",
    "    [z_exact,t] = exact_sol(100.0,dt_values[i])\n",
    "    error_values[i] = dt_values[i] * numpy.sum(numpy.abs(z-z_exact))\n"
   ]
  },
  {
   "cell_type": "code",
   "execution_count": 23,
   "metadata": {
    "collapsed": false
   },
   "outputs": [
    {
     "data": {
      "text/plain": [
       "(0.0001, 0.10000000000000001, 1.0, 10000.0)"
      ]
     },
     "execution_count": 23,
     "metadata": {},
     "output_type": "execute_result"
    },
    {
     "data": {
      "image/png": "[encoded data removed]",
      "text/plain": [
       "<matplotlib.figure.Figure at 0x10aaaa048>"
      ]
     },
     "metadata": {},
     "output_type": "display_data"
    }
   ],
   "source": [
    "#use loglog plot for plot delta t vs the error.  \n",
    "#Loglog plots are almost always used to asses the errors of a numerical scheme graphically\n",
    "\n",
    "pyplot.figure(figsize=(10,6))\n",
    "pyplot.tick_params(axis='both', labelsize=14) #increase tick font size\n",
    "pyplot.grid(True)                             #turn on grid lines\n",
    "pyplot.xlabel('$\\Delta t$', fontsize=16)      #xlabel with delta t symbol\n",
    "pyplot.ylabel('Error', fontsize=16)           #ylabel\n",
    "pyplot.loglog(dt_values, error_values, 'ko-') #log-log plot\n",
    "pyplot.axis('equal')                          #make axes scale equally"
   ]
  },
  {
   "cell_type": "code",
   "execution_count": null,
   "metadata": {
    "collapsed": true
   },
   "outputs": [],
   "source": []
  }
 ],
 "metadata": {
  "kernelspec": {
   "display_name": "Python 3",
   "language": "python",
   "name": "python3"
  }
 },
 "nbformat": 4,
 "nbformat_minor": 0
}
