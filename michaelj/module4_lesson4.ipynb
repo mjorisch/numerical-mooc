{
 "cells": [
  {
   "cell_type": "markdown",
   "metadata": {},
   "source": [
    "## 2D Heat Conduction\n",
    "\n",
    "Equation:\n",
    "$$\\frac{\\partial T}{\\partial t} = \\alpha \\left( \\frac{\\partial ^2 T}{\\partial x^2} + \\frac{\\partial ^2 T}{\\partial y^2} \\right)$$\n",
    "\n",
    "Previously used a Dirichlet BC on the left and bottom boundaries with $T(x = 0) = T(y = 0) = 100$ and a Neumann BC with zero flux on the top and right edges with $q_x = q_y = 0$\n",
    "\n",
    "$$\\left( \\left.\\frac{\\partial T}{\\partial y}\\right|_{y=0.1} = q_y \\right) \\quad \\text{and} \\quad \\left( \\left.\\frac{\\partial T}{\\partial x}\\right|_{x=0.1} = q_x \\right)$$"
   ]
  },
  {
   "cell_type": "markdown",
   "metadata": {},
   "source": []
  }
 ],
 "metadata": {
  "kernelspec": {
   "display_name": "Python 3",
   "language": "python",
   "name": "python3"
  },
  "language_info": {
   "codemirror_mode": {
    "name": "ipython",
    "version": 3
   },
   "file_extension": ".py",
   "mimetype": "text/x-python",
   "name": "python",
   "nbconvert_exporter": "python",
   "pygments_lexer": "ipython3",
   "version": "3.4.3"
  }
 },
 "nbformat": 4,
 "nbformat_minor": 0
}
