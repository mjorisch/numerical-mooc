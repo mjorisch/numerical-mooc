{
 "cells": [
  {
   "cell_type": "markdown",
   "metadata": {},
   "source": [
    "## 2D Heat Conduction\n",
    "\n",
    "Equation:\n",
    "$$\\frac{\\partial T}{\\partial t} = \\alpha \\left( \\frac{\\partial ^2 T}{\\partial x^2} + \\frac{\\partial ^2 T}{\\partial y^2} \\right)$$\n",
    "\n",
    "Previously used a Dirichlet BC on the left and bottom boundaries with $T(x = 0) = T(y = 0) = 100$ and a Neumann BC with zero flux on the top and right edges with $q_x = q_y = 0$\n",
    "\n",
    "$$\\left( \\left.\\frac{\\partial T}{\\partial y}\\right|_{y=0.1} = q_y \\right) \\quad \\text{and} \\quad \\left( \\left.\\frac{\\partial T}{\\partial x}\\right|_{x=0.1} = q_x \\right)$$"
   ]
  },
  {
   "cell_type": "markdown",
   "metadata": {},
   "source": [
    "### Implicit schemes in 2D\n",
    "\n",
    "Forward time and central in space\n",
    "\n",
    "$$\\frac{T_{i,j} ^{n+1} - T_{i,j} ^n}{\\Delta t} = \\alpha \\left( \\frac{T_{i+1,j} ^{n+1} - 2T_{i,j} ^{n+1} + T_{i-1,j} ^{n+1}}{\\Delta x^2} + \\frac{T_{i,j+1} ^{n+1} - 2T_{i,j} ^{n+1} + T_{i,j-1} ^{n+1}}{\\Delta y^2} \\right)$$\n",
    "\n",
    "Looks better with what we don't know on LHS and what we know on RHS.\n",
    "\n",
    "$$-\\frac{\\alpha \\Delta t}{\\Delta x^2} (T_{i-1,j} ^{n+1} + T_{i+1,j} ^{n+1}) + \\left( 1 + 2 \\frac{\\alpha \\Delta t}{\\Delta x^2} + 2 \\frac{\\alpha \\Delta t}{\\Delta y^2} \\right) T_{i,j} ^{n+1} - \\frac{\\alpha \\Delta t}{\\Delta y^2} (T_{i,j-1} ^{n+1} + T_{i,j+1} ^{n+1}) = T_{i,j} ^n$$\n",
    "\n",
    "We'll assume the mesh spacing is the same in both directions and $\\Delta x = \\Delta y = \\delta$ :\n",
    "\n",
    "$$-T_{i-1,j} ^{n+1} - T_{i+1,j} ^{n+1} + \\left( \\frac{\\delta ^2}{\\alpha \\Delta t} + 4 \\right) T_{i,j} ^{n+1} - T_{i,j-1} ^{n+1} -T_{i,j+1} ^{n+1} = \\frac{\\delta ^2}{\\alpha \\Delta t} T_{i,j} ^n$$\n",
    "\n",
    "Need to construct a matrix\n",
    "\n",
    "$L_x$ by $L_y$ matrix discretized in $n_x$ and $n_y$ points.\n",
    "\n",
    "Boundary nodes with indices $(i = 0,j), (i = n_x - 1,j), (i,j = 0)$ and $(i,j = n_y - 1)$\n",
    "\n",
    "With the BC notes there are $(n_x - 2) \\dot (n_y - 2)$ nodes that need to be updated at each time step.\n",
    "\n",
    "Will be iterated over the nodes in an x-major order: index $i$ will run faster."
   ]
  },
  {
   "cell_type": "markdown",
   "metadata": {},
   "source": [
    "### Boundary conditions\n",
    "\n",
    "**Bottom boundary:**\n",
    "\n",
    "Equation for j = 1 (interior points adjacent to the bottom boundary) which uses values from j = 0 which are known.\n",
    "\n",
    "$$-T_{i-1,1} ^{n+1} - T_{i+1,1} ^{n+1} + \\left( \\frac{\\delta ^2}{\\alpha \\Delta t} + 4 \\right) T_{i,1} ^{n+1} - T_{i,j+1} ^{n+1} = \\frac{\\delta ^2}{\\alpha \\Delta t} T_{i,j} ^n + T_{i,0} ^{n+1}$$\n",
    "\n",
    "**Left boundary:**\n",
    "\n",
    "Equation for i = 1. Values from i = 0.\n",
    "\n",
    "$$-T_{2,j} ^{n+1} + \\left( \\frac{\\delta ^2}{\\alpha \\Delta t} + 4 \\right) T_{1,j} ^{n+1} - T_{1,j-1} ^{n+1} - T_{1,j+1} ^{n+1} = \\frac{\\delta ^2}{\\alpha \\Delta t} T_{1,j} ^n + T_{0,j} ^{n+1}$$\n",
    "\n",
    "**Right boundary:**\n",
    "\n",
    "If the BC is $\\left. \\frac{\\partial T}{\\partial x} \\right|_{x=L_x} = q_x$ then the finite difference approx is:\n",
    "\n",
    "$$\\frac{T_{n_x - 1,j} ^{n+1} - T_{n_x - 2,j} ^{n+1}}{\\delta} = q_x$$\n",
    "\n",
    "Can write $T_{n_x -1,j} ^{n+!} = \\delta q_x + T_{n_x -2,j} ^{n+1}$ for $i = n_x -2$:\n",
    "\n",
    "$$-T_{n_x - 3,j} ^{n+1} + \\left( \\frac{\\delta ^2}{\\alpha \\Delta t} + 3 \\right) T_{n_x -2, j} ^{n+1} - T_{n_x -2,j-1} ^{n+1} - T_{n_x i 2,j+1} ^{n+1} = \\frac{\\delta ^2}{\\alpha \\Delta t} T_{n_x -2,j} ^n + \\delta q_x$$\n",
    "\n",
    "**Top boundary:**\n",
    "\n",
    "Neumann BC specify the deriv normal to the boundary: $\\left. \\frac{\\partial T}{\\partial x} \\right|_{x=L_x} = q_x$  No need to repeat what we did for the right boundary. For $j = n_y - 2$:\n",
    "\n",
    "$$-T_{i-1,n_y -2} ^{n+1} - T_{i+1,n_y -2} ^{n+1} + \\left( \\frac{\\delta ^2}{\\alpha \\Delta t} + 3 \\right) T_{i,n_y - 2} ^{n+1} - T_{i,n_y - 3} ^{n+1} = \\frac{\\delta ^2}{\\alpha \\Delta t} T_{i,n_y -2} ^n + \\delta q_y$$"
   ]
  },
  {
   "cell_type": "markdown",
   "metadata": {},
   "source": [
    "Need to do the corners too\n",
    "\n",
    "**Bottom-left corner:**\n",
    "At $T_{1,1}$ there is a Dirichlet BC at $i = 0$ and $j = 0$:\n",
    "\n",
    "$$-T_{2,1} ^{n+1} + \\left( \\frac{\\delta ^2}{\\alpha \\Delta t} + 4 \\right) T_{1,1} ^{n+1} - T_{1,2} ^{n+1} = \\frac{\\delta ^2}{\\alpha \\Delta t} T_{1,1} ^n + T_{0,1} ^{n+1} + T_{1,0} ^{n+1}$$\n",
    "\n",
    "**Top-left corner:**\n",
    "At $T_{1, n_y -2}$ Dirichlet BC at $i = 0$ and Neumann BC at $i = n_y - 1$:\n",
    "\n",
    "$$-T_{2,n_y -2} ^{n+1} + \\left( \\frac{\\delta ^2}{\\alpha \\Delta t} + 3 \\right) T_{1,n_y -2} ^{n+1} - T{1,n_y -3} ^{n+1} = \\frac{\\delta ^2}{\\alpha \\Delta t} T_{1,n_y -2} ^n + T_{0,n_y -2} ^{n+1} + \\delta q_y$$\n",
    "\n",
    "**Top-right corner:**\n",
    "At $T_{n_x -2,n_y -2}$ Neumann BC at $i = n_x -1$ and $j = n_y -1$:\n",
    "\n",
    "$$-T_{n_x -3,n_y -2} ^{n+1} + \\left( \\frac{\\delta ^2}{\\alpha \\Delta t} + 2 \\right) T_{n_x -2,n_y -2} ^{n+1} - T_{n_x -2,n_y -3} ^{n+1} = \\frac{\\delta ^2}{\\alpha \\Delta t} T_{n_x -2,n_y -2} ^n + \\delta (q_x + q_y)$$\n",
    "\n",
    "**Bottom-right corner:**\n",
    "For $T_{n_x -2,1}$ need to look at a Dirichlet BC to the bottom and a Neumann for the right.  Similar to top-left:\n",
    "\n",
    "$$-T_{n_x -3,1} ^{n+1} + \\left( \\frac{\\delta ^2}{\\alpha \\Delta t} + 3 \\right) T_{n_x -2,1} ^{n+1} - T_{n_x -2,2} ^{n+1} = \\frac{\\delta ^2}{\\alpha \\Delta t} T_{n_x -2,1} ^n + T_{n_x -2,0} ^{n+1} + \\delta q_x$$"
   ]
  },
  {
   "cell_type": "code",
   "execution_count": null,
   "metadata": {
    "collapsed": true
   },
   "outputs": [],
   "source": []
  }
 ],
 "metadata": {
  "kernelspec": {
   "display_name": "Python 3",
   "language": "python",
   "name": "python3"
  },
  "language_info": {
   "codemirror_mode": {
    "name": "ipython",
    "version": 3
   },
   "file_extension": ".py",
   "mimetype": "text/x-python",
   "name": "python",
   "nbconvert_exporter": "python",
   "pygments_lexer": "ipython3",
   "version": "3.4.3"
  }
 },
 "nbformat": 4,
 "nbformat_minor": 0
}
