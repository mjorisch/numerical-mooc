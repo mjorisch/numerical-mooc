{
 "cells": [
  {
   "cell_type": "markdown",
   "metadata": {},
   "source": [
    "## Poisson equation\n",
    "\n",
    "Has a forcing function that drives the solution to its steady state.\n",
    "\n",
    "$$\\frac{\\partial ^2 p}{\\partial x^2} + \\frac{\\partial ^2 p}{\\partial y^2} = b$$\n",
    "\n",
    "Discretized:\n",
    "\n",
    "$$\\frac{p_{i+1,j} ^k - 2p_{i,j} ^k + p_{i-1,j} ^k}{\\Delta x^2} + \\frac{p_{i,j+1} ^k - 2p_{i,j} ^k + p_{i,j-1} ^k}{\\Delta y^2} = b_{i,j} ^k$$\n",
    "\n",
    "Rearranged:\n",
    "\n",
    "$$p_{i,j} ^{k+1} = \\frac{(p_{i+1,j} ^k + p_{i-1,j} ^k) \\Delta y^2 + (p_{i,j+1} ^k = p_{i,j-1} ^k) \\Delta x^2 - b_{i,j} ^k \\Delta x^2 \\Delta y^2}{2(\\Delta x^2 + \\Delta y^2)}$$"
   ]
  },
  {
   "cell_type": "markdown",
   "metadata": {},
   "source": [
    "### Example problem\n",
    "\n",
    "Poisson equation:\n",
    "\n",
    "$$\\nabla ^2 p = -2(\\frac{\\pi}{2})^2 \\sin(\\frac{\\pi x}{L}) \\cos(\\frac{\\pi y}{L}$$\n",
    "\n",
    "In the domain:\n",
    "\n",
    "$0 \\leq x \\leq 1$ and $-0.5 \\leq y \\leq 0.5$\n",
    "\n",
    "Dirichlet BCs\n",
    "\n",
    "$p = 0$ at $x = 0$, $y = 0$, $y = -0.5$ and $y = 0.5$"
   ]
  },
  {
   "cell_type": "code",
   "execution_count": 1,
   "metadata": {
    "collapsed": true
   },
   "outputs": [],
   "source": [
    "from mpl_toolkits.mplot3d import Axes3D\n",
    "from matplotlib import pyplot, cm\n",
    "from math import pi\n",
    "import numpy\n",
    "%matplotlib inline\n",
    "from matplotlib import rcParams\n",
    "rcParams['font.family'] = 'serif'\n",
    "rcParams['font.size'] = 16"
   ]
  },
  {
   "cell_type": "code",
   "execution_count": 2,
   "metadata": {
    "collapsed": true
   },
   "outputs": [],
   "source": [
    "#Parameters\n",
    "\n",
    "nx = 41\n",
    "ny = 41\n",
    "xmin = 0\n",
    "xmax = 1\n",
    "ymin = -0.5\n",
    "ymax = 0.5\n",
    "\n",
    "l2_larget = 2e-7"
   ]
  },
  {
   "cell_type": "code",
   "execution_count": 3,
   "metadata": {
    "collapsed": true
   },
   "outputs": [],
   "source": [
    "def poisson_IG(nx, ny, xmax, xmin, ymax, ymin):\n",
    "    \"\"\"Initialize the Poisson problem initial guess and other variables\n",
    "    \n",
    "    Parameters:\n",
    "    ----------\n",
    "    nx : int\n",
    "        number of mesh points in x\n",
    "    ny : int\n",
    "        number of mesh points in y\n",
    "    xmax: float\n",
    "        maximum value of x in mesh\n",
    "    xmin : float\n",
    "        minimum value of x in mesh\n",
    "    ymax : float\n",
    "        maximum value of y in mesh\n",
    "    ymin : float\n",
    "        minimum value of y in mesh\n",
    "        \n",
    "    Returns:\n",
    "    -------\n",
    "    X : 2D array of floats\n",
    "        X-position of mesh\n",
    "    Y : 2D array of floats\n",
    "        Y-position of mesh\n",
    "    p_i : 2D array of floats\n",
    "        initial guess of p\n",
    "    b : 2D array of floats\n",
    "        forcing function\n",
    "    dx : float\n",
    "        mesh size in x direction\n",
    "    dy : float\n",
    "        mesh size in y direction\n",
    "    \"\"\"\n",
    "    \n",
    "    dx = (xmax - xmin) / (nx - 1)\n",
    "    dy = (ymax - ymin) / (ny - 1)\n",
    "    \n",
    "    #Mesh\n",
    "    x = numpy.linspace(xmin, xmax, nx)\n",
    "    y = numpy.linspace(ymin, ymax, ny)\n",
    "    X, Y = numpy.meshgrid(x, y)\n",
    "    \n",
    "    #Source\n",
    "    L = xmax - xmin\n",
    "    b = -2 * (pi / L) ** 2 * numpy.sin(pi * X / L) * numpy.cos(pi * Y / L)\n",
    "    \n",
    "    #Initialize\n",
    "    p_i = numpy.zeros((ny, nx))\n",
    "    \n",
    "    return X, Y, x, y, p_i, b, dx, dy, L"
   ]
  },
  {
   "cell_type": "code",
   "execution_count": null,
   "metadata": {
    "collapsed": true
   },
   "outputs": [],
   "source": []
  }
 ],
 "metadata": {
  "kernelspec": {
   "display_name": "Python 3",
   "language": "python",
   "name": "python3"
  },
  "language_info": {
   "codemirror_mode": {
    "name": "ipython",
    "version": 3
   },
   "file_extension": ".py",
   "mimetype": "text/x-python",
   "name": "python",
   "nbconvert_exporter": "python",
   "pygments_lexer": "ipython3",
   "version": "3.4.3"
  }
 },
 "nbformat": 4,
 "nbformat_minor": 0
}
