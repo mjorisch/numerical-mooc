{
 "cells": [
  {
   "cell_type": "markdown",
   "metadata": {},
   "source": [
    "## Poisson equation\n",
    "\n",
    "Has a forcing function that drives the solution to its steady state.\n",
    "\n",
    "$$\\frac{\\partial ^2 p}{\\partial x^2} + \\frac{\\partial ^2 p}{\\partial y^2} = b$$\n",
    "\n",
    "Discretized:\n",
    "\n",
    "$$\\frac{p_{i+1,j} ^k - 2p_{i,j} ^k + p_{i-1,j} ^k}{\\Delta x^2} + \\frac{p_{i,j+1} ^k - 2p_{i,j} ^k + p_{i,j-1} ^k}{\\Delta y^2} = b_{i,j} ^k$$\n",
    "\n",
    "Rearranged:\n",
    "\n",
    "$$p_{i,j} ^{k+1} = \\frac{(p_{i+1,j} ^k + p_{i-1,j} ^k) \\Delta y^2 + (p_{i,j+1} ^k = p_{i,j-1} ^k) \\Delta x^2 - b_{i,j} ^k \\Delta x^2 \\Delta y^2}{2(\\Delta x^2 + \\Delta y^2)}$$"
   ]
  },
  {
   "cell_type": "markdown",
   "metadata": {},
   "source": [
    "### Example problem\n",
    "\n",
    "Poisson equation:\n",
    "\n",
    "$$\\nabla ^2 p = -2(\\frac{\\pi}{2})^2 \\sin(\\frac{\\pi x}{L}) \\cos(\\frac{\\pi y}{L}$$\n",
    "\n",
    "In the domain:\n",
    "\n",
    "$0 \\leq x \\leq 1$ and $-0.5 \\leq y \\leq 0.5$\n",
    "\n",
    "Dirichlet BCs\n",
    "\n",
    "$p = 0$ at $x = 0$, $y = 0$, $y = -0.5$ and $y = 0.5$"
   ]
  },
  {
   "cell_type": "code",
   "execution_count": null,
   "metadata": {
    "collapsed": true
   },
   "outputs": [],
   "source": []
  }
 ],
 "metadata": {
  "kernelspec": {
   "display_name": "Python 3",
   "language": "python",
   "name": "python3"
  },
  "language_info": {
   "codemirror_mode": {
    "name": "ipython",
    "version": 3
   },
   "file_extension": ".py",
   "mimetype": "text/x-python",
   "name": "python",
   "nbconvert_exporter": "python",
   "pygments_lexer": "ipython3",
   "version": "3.4.3"
  }
 },
 "nbformat": 4,
 "nbformat_minor": 0
}
