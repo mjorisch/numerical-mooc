{
 "cells": [
  {
   "cell_type": "markdown",
   "metadata": {},
   "source": [
    "## Crank-Nicolson scheme\n",
    "\n",
    "Implicit method used with parabolic PDEs\n",
    "\n",
    "Main idea: Take the average between the solutions at $t^n$ and $t^{n+1}$ in evaluation of the spatial derivative.  This is so that the time derivative will be discretized with a centered scheme, thus giving it second order accuracy.\n",
    "\n",
    "1D Heat Equation:\n",
    "\n",
    "$$\\frac{\\partial T}{\\partial t} = \\alpha \\frac{\\partial ^2 T}{\\partial x^2}$$\n",
    "\n",
    "From this, Crank-Nicolson scheme leads to:\n",
    "\n",
    "$$\\frac{T_i ^{n+1} - T_i ^n}{\\Delta t} = \\alpha \\circ \\frac{1}{2} \\left( \\frac{T_{i+1} ^{n+1} - 2T_i ^{n+1} + T_{i-1} ^{n+1}}{\\Delta x^2} + \\frac{T_{i+1} ^n - 2T_i ^n + T_{i-1} ^n}{\\Delta x^2} \\right)$$\n",
    "\n",
    "n and n+1 both appear on the right hand side.  Gotta rearrange the equation.\n",
    "\n",
    "Everything we don't know is on the left and everything we know is on the right.\n",
    "\n",
    "$$-T_{i-1} ^{n+1} + 2 \\left( \\frac{\\Delta x^2}{\\alpha \\Delta t} + 1 \\right) T_i ^{n+1} - T_{i+1} ^{n+1} = T_{i-1} ^n + 2 \\left( \\frac{\\Delta x^2}{\\alpha \\Delta t} - 1 \\right) T_i ^n + T_{i+1} ^n$$\n",
    "\n",
    "LHS looks like the matrix from notebook 2.  Not much change for the boundary conditions either."
   ]
  },
  {
   "cell_type": "markdown",
   "metadata": {},
   "source": [
    "### The linear system\n",
    "\n",
    "Need to solve a linear system on every time step of the form:\n",
    "\n",
    "$$[A][T_{int} ^{n+1}] = [b] + [b]_{b.c.}$$\n",
    "\n",
    "Need a function that will create the coefficient matrix and the RHS for the heat conduction problem from notebook 2, with a Dirichlet BC at $x = 0$ and zero-flux boundary $(q = 0)$ at $x = L$"
   ]
  },
  {
   "cell_type": "code",
   "execution_count": 1,
   "metadata": {
    "collapsed": true
   },
   "outputs": [],
   "source": [
    "import numpy\n",
    "from scipy.linalg import solve"
   ]
  },
  {
   "cell_type": "code",
   "execution_count": 2,
   "metadata": {
    "collapsed": true
   },
   "outputs": [],
   "source": [
    "def generateMatrix(N, sigma):\n",
    "    \"\"\"Computes the matrix for the diffusion equation with Crack-Nicolson\n",
    "       Dirichlet condition at i = 0, Neumann at i = -1\n",
    "       \n",
    "    Parameters:\n",
    "    ----------\n",
    "    N : int\n",
    "        Number of discretization points\n",
    "    sigma : float\n",
    "        alpha * dt / dx ^2\n",
    "        \n",
    "    Returns:\n",
    "    -------\n",
    "    A : 2D numpy array of float\n",
    "        Matrix for diffusion equation\n",
    "    \"\"\"\n",
    "    \n",
    "    #Setup the diagonal\n",
    "    d = 2 * numpy.diag(numpy.ones(N - 2) * (1 + 1. / sigma))\n",
    "    \n",
    "    #Consider Neumann BC\n",
    "    d[-1, -1] = 1 + 2. / sigma\n",
    "    \n",
    "    #Setup upper diagonal\n",
    "    ud = numpy.diag(numpy.ones(N - 3) * -1, 1)\n",
    "    \n",
    "    #Setup lower diagonal\n",
    "    ld = numpy.diag(numpy.ones(N - 3) * -1, -1)\n",
    "    \n",
    "    A = d + ud + ld\n",
    "    \n",
    "    return A"
   ]
  },
  {
   "cell_type": "code",
   "execution_count": 3,
   "metadata": {
    "collapsed": true
   },
   "outputs": [],
   "source": [
    "def generateRHS(T, sigma):\n",
    "    \"\"\"Computes RHS of linear system for diffusion equation with backward Euler\n",
    "    \n",
    "    Parameters:\n",
    "    ----------\n",
    "    T : array of float\n",
    "        Temperature at current time-step\n",
    "    sigma : float\n",
    "        alpha * dt / dx ^ 2\n",
    "        \n",
    "    Returns:\n",
    "    -------\n",
    "    b : array of float\n",
    "        RHS of diffusion equation with backward Euler\n",
    "    \"\"\"\n",
    "    \n",
    "    b = T[1: - 1] * 2 * (1. / sigma - 1) + T[:-2] + T[2:]\n",
    "    \n",
    "    #Dirichlet BC\n",
    "    b[0] += T[0]\n",
    "    \n",
    "    return b"
   ]
  },
  {
   "cell_type": "code",
   "execution_count": 4,
   "metadata": {
    "collapsed": true
   },
   "outputs": [],
   "source": [
    "def CrankNicolson(T, A, nt, sigma):\n",
    "    \"\"\"Advances diffusion equation in time with Crank-Nicolson\n",
    "    \n",
    "    Parameters:\n",
    "    ----------\n",
    "    T : array of float\n",
    "        initial temperature profile\n",
    "    A : 2D array of float\n",
    "        Matrix with discretized diffusion equation\n",
    "    nt : int\n",
    "        Number of time-steps\n",
    "    sigma : float\n",
    "        alpha * dt / dx ^ 2\n",
    "        \n",
    "    Returns:\n",
    "    -------\n",
    "    T : array of floats\n",
    "        Temperature profile after nt time-steps\n",
    "    \"\"\"\n",
    "    \n",
    "    for t in range(nt):\n",
    "        Tn = T.copy()\n",
    "        b = generateRHS(Tn, sigma)\n",
    "        #Use numpy.linalg.solve\n",
    "        T_interior = solve(A,b)\n",
    "        T[1:-1] = T_interior\n",
    "        #Neumann BC (Dirichlet is auto)\n",
    "        T[-1] = T[-2]\n",
    "        \n",
    "    return T"
   ]
  },
  {
   "cell_type": "code",
   "execution_count": 5,
   "metadata": {
    "collapsed": true
   },
   "outputs": [],
   "source": [
    "L = 1\n",
    "nx = 21\n",
    "alpha = 1.22e-3\n",
    "\n",
    "dx = L / (nx - 1)\n",
    "\n",
    "Ti = numpy.zeros(nx)\n",
    "Ti[0] = 100\n",
    "\n",
    "sigma = 0.5\n",
    "dt = sigma * dx * dx / alpha\n",
    "nt = 10\n",
    "\n",
    "A = generateMatrix(nx, sigma)"
   ]
  },
  {
   "cell_type": "code",
   "execution_count": 6,
   "metadata": {
    "collapsed": false
   },
   "outputs": [
    {
     "name": "stdout",
     "output_type": "stream",
     "text": [
      "[[ 6. -1.  0.  0.  0.  0.  0.  0.  0.  0.  0.  0.  0.  0.  0.  0.  0.  0.\n",
      "   0.]\n",
      " [-1.  6. -1.  0.  0.  0.  0.  0.  0.  0.  0.  0.  0.  0.  0.  0.  0.  0.\n",
      "   0.]\n",
      " [ 0. -1.  6. -1.  0.  0.  0.  0.  0.  0.  0.  0.  0.  0.  0.  0.  0.  0.\n",
      "   0.]\n",
      " [ 0.  0. -1.  6. -1.  0.  0.  0.  0.  0.  0.  0.  0.  0.  0.  0.  0.  0.\n",
      "   0.]\n",
      " [ 0.  0.  0. -1.  6. -1.  0.  0.  0.  0.  0.  0.  0.  0.  0.  0.  0.  0.\n",
      "   0.]\n",
      " [ 0.  0.  0.  0. -1.  6. -1.  0.  0.  0.  0.  0.  0.  0.  0.  0.  0.  0.\n",
      "   0.]\n",
      " [ 0.  0.  0.  0.  0. -1.  6. -1.  0.  0.  0.  0.  0.  0.  0.  0.  0.  0.\n",
      "   0.]\n",
      " [ 0.  0.  0.  0.  0.  0. -1.  6. -1.  0.  0.  0.  0.  0.  0.  0.  0.  0.\n",
      "   0.]\n",
      " [ 0.  0.  0.  0.  0.  0.  0. -1.  6. -1.  0.  0.  0.  0.  0.  0.  0.  0.\n",
      "   0.]\n",
      " [ 0.  0.  0.  0.  0.  0.  0.  0. -1.  6. -1.  0.  0.  0.  0.  0.  0.  0.\n",
      "   0.]\n",
      " [ 0.  0.  0.  0.  0.  0.  0.  0.  0. -1.  6. -1.  0.  0.  0.  0.  0.  0.\n",
      "   0.]\n",
      " [ 0.  0.  0.  0.  0.  0.  0.  0.  0.  0. -1.  6. -1.  0.  0.  0.  0.  0.\n",
      "   0.]\n",
      " [ 0.  0.  0.  0.  0.  0.  0.  0.  0.  0.  0. -1.  6. -1.  0.  0.  0.  0.\n",
      "   0.]\n",
      " [ 0.  0.  0.  0.  0.  0.  0.  0.  0.  0.  0.  0. -1.  6. -1.  0.  0.  0.\n",
      "   0.]\n",
      " [ 0.  0.  0.  0.  0.  0.  0.  0.  0.  0.  0.  0.  0. -1.  6. -1.  0.  0.\n",
      "   0.]\n",
      " [ 0.  0.  0.  0.  0.  0.  0.  0.  0.  0.  0.  0.  0.  0. -1.  6. -1.  0.\n",
      "   0.]\n",
      " [ 0.  0.  0.  0.  0.  0.  0.  0.  0.  0.  0.  0.  0.  0.  0. -1.  6. -1.\n",
      "   0.]\n",
      " [ 0.  0.  0.  0.  0.  0.  0.  0.  0.  0.  0.  0.  0.  0.  0.  0. -1.  6.\n",
      "  -1.]\n",
      " [ 0.  0.  0.  0.  0.  0.  0.  0.  0.  0.  0.  0.  0.  0.  0.  0.  0. -1.\n",
      "   5.]]\n"
     ]
    }
   ],
   "source": [
    "print(A)"
   ]
  },
  {
   "cell_type": "code",
   "execution_count": 7,
   "metadata": {
    "collapsed": true
   },
   "outputs": [],
   "source": [
    "T = CrankNicolson(Ti.copy(), A, nt, sigma)"
   ]
  },
  {
   "cell_type": "code",
   "execution_count": 8,
   "metadata": {
    "collapsed": true
   },
   "outputs": [],
   "source": [
    "from matplotlib import pyplot\n",
    "%matplotlib inline\n",
    "from matplotlib import rcParams\n",
    "rcParams['font.family'] = 'serif'\n",
    "rcParams['font.size'] = 16"
   ]
  },
  {
   "cell_type": "code",
   "execution_count": 9,
   "metadata": {
    "collapsed": false
   },
   "outputs": [
    {
     "data": {
      "image/png": "[encoded data removed]",
      "text/plain": [
       "<matplotlib.figure.Figure at 0x1051a01d0>"
      ]
     },
     "metadata": {},
     "output_type": "display_data"
    }
   ],
   "source": [
    "x = numpy.linspace(0, L, nx)\n",
    "\n",
    "pyplot.plot(x, T, color = '#003366', ls = '-', lw = 3);"
   ]
  },
  {
   "cell_type": "markdown",
   "metadata": {},
   "source": [
    "Analytical solution of T\n",
    "\n",
    "$$T(x, t) = 100 - \\sum_{n=1}^{\\infty} \\frac{400}{(2n - 1)\\pi} sin \\left(\\frac{(2n - 1) \\pi}{2L} x \\right) exp \\left[ -\\alpha \\left( \\frac{(2n-1) \\pi}{2L} \\right) ^2 (2t) \\right]$$"
   ]
  },
  {
   "cell_type": "code",
   "execution_count": 10,
   "metadata": {
    "collapsed": true
   },
   "outputs": [],
   "source": [
    "from math import pi\n",
    "def T_analytical(x, t, n_max, alpha, L):\n",
    "    \"\"\"Compute the exact solution for 1D diffusion with T = 100 at x = 0 and dT/dx = 0 at x = L\n",
    "    \n",
    "    Parameters:\n",
    "    ----------\n",
    "    x : array of float\n",
    "        Spatial position\n",
    "    t : float\n",
    "        Evaluation time\n",
    "    n_max : int\n",
    "        Number of terms to evaluate expression\n",
    "    alpha : float\n",
    "        diffusion coefficient\n",
    "    L : float\n",
    "        Size of rod\n",
    "    \n",
    "    Returns:\n",
    "    -------\n",
    "    T : array of float\n",
    "        Temperature at each location x\n",
    "    \"\"\"\n",
    "    \n",
    "    T = 100\n",
    "    for n in range(1, n_max + 1):\n",
    "        k = (2 * n - 1) * pi / (2 * L)\n",
    "        \n",
    "        summation = 400 / ((2 * n - 1) * pi) * numpy.sin(k * x) * numpy.exp(-alpha * k * k * t)\n",
    "        T -= summation\n",
    "    \n",
    "    return T"
   ]
  },
  {
   "cell_type": "code",
   "execution_count": 11,
   "metadata": {
    "collapsed": false
   },
   "outputs": [
    {
     "data": {
      "image/png": "[encoded data removed]",
      "text/plain": [
       "<matplotlib.figure.Figure at 0x106108f60>"
      ]
     },
     "metadata": {},
     "output_type": "display_data"
    }
   ],
   "source": [
    "T_exact = T_analytical(x, dt * nt, 100, alpha, L)\n",
    "\n",
    "pyplot.plot(x, T_exact, color = '#003366', ls = '-', lw = 3);"
   ]
  },
  {
   "cell_type": "code",
   "execution_count": 12,
   "metadata": {
    "collapsed": false
   },
   "outputs": [
    {
     "data": {
      "text/plain": [
       "6.9279171182600926e-13"
      ]
     },
     "execution_count": 12,
     "metadata": {},
     "output_type": "execute_result"
    }
   ],
   "source": [
    "T1 = T_analytical(x, .2, 100, alpha, L)\n",
    "T2 = T_analytical(x, .2, 200, alpha, L)\n",
    "\n",
    "numpy.sqrt(numpy.sum((T1-T2) ** 2) / numpy.sum(T2 ** 2))"
   ]
  },
  {
   "cell_type": "markdown",
   "metadata": {},
   "source": [
    "### Time convergence\n",
    "\n",
    "Second order accurate.  Gotta check.\n",
    "\n",
    "Leave $\\Delta x$ constant. Run code for diff values of $\\Delta t$ and compare at $t = n_t \\circ \\Delta t = 10$ with the analytical expression.\n",
    "\n",
    "Initial conditions: Very sharp gradient: sudden jump from 0 to 100 at the boundary.  To make sure it doesn't affect time convergence we need a very fine mesh and computations would be slow.  To avoid this we'll start from $t = 1$ instead of $t = 0$.\n",
    "\n",
    "Need to compute $L_2$ norm of the error:"
   ]
  },
  {
   "cell_type": "code",
   "execution_count": 13,
   "metadata": {
    "collapsed": true
   },
   "outputs": [],
   "source": [
    "def L2_error(T, T_exact):\n",
    "    \"\"\"Computes L2 norm of error\n",
    "    \n",
    "    Parameters:\n",
    "    ----------\n",
    "    T : array of float\n",
    "        array with numerical solution\n",
    "    T_exact: array of float\n",
    "        array with exact solution\n",
    "    \n",
    "    Returns:\n",
    "    -------\n",
    "    e : L2 norm of error\n",
    "    \"\"\"\n",
    "    \n",
    "    e = numpy.sqrt(numpy.sum((T - T_exact) ** 2) / numpy.sum(T_exact) ** 2)\n",
    "    \n",
    "    return e"
   ]
  },
  {
   "cell_type": "code",
   "execution_count": 19,
   "metadata": {
    "collapsed": true
   },
   "outputs": [],
   "source": [
    "#For fun compare Crank-Nicolson with implicit backward Euler scheme\n",
    "\n",
    "def generateMatrix_btcs(N, sigma):\n",
    "    \"\"\"Computes the matrix for the diffusion equation with backward Euler\n",
    "       Dirichlet condition at i = 0 and Neumann at i = - 1\n",
    "    \n",
    "    Parameters:\n",
    "    ----------\n",
    "    T : array of float\n",
    "        Temperature at current time step\n",
    "    sigma : float\n",
    "        alpha * dt / dx ^ 2\n",
    "        \n",
    "    Returns:\n",
    "    -------\n",
    "    A : 2D numpy array of float\n",
    "        Matrix for diffusion equation\n",
    "    \"\"\"\n",
    "    \n",
    "    #Set up diagonal\n",
    "    d = numpy.diag(numpy.ones(N - 2) * (2 + 1. / sigma))\n",
    "    \n",
    "    #Neumann BC\n",
    "    d[-1, -1] = 1 + 1. / sigma\n",
    "    \n",
    "    #Set up upper diag\n",
    "    ud = numpy.diag(numpy.ones(N - 3) * -1, 1)\n",
    "    \n",
    "    #Set up lower diag\n",
    "    ld = numpy.diag(numpy.ones(N - 3) * -1, -1)\n",
    "    \n",
    "    A = d + ud + ld\n",
    "    \n",
    "    return A"
   ]
  },
  {
   "cell_type": "code",
   "execution_count": 20,
   "metadata": {
    "collapsed": true
   },
   "outputs": [],
   "source": [
    "def generateRHS_btcs(T, sigma):\n",
    "    \"\"\"Computes RHS of linear system for diffusion equation with backwards Euler\n",
    "    \n",
    "    Parameters:\n",
    "    ----------\n",
    "    T : array of float\n",
    "        Temperature at current time step\n",
    "    sigma : float\n",
    "        alpha * dt / dx ^2\n",
    "        \n",
    "    Returns:\n",
    "    -------\n",
    "    b : array of float\n",
    "        RHS of diffusion euqation with backward Euler\n",
    "    \"\"\"\n",
    "    \n",
    "    b = numpy.zeros_like(T)\n",
    "    \n",
    "    b = T[1:-1] * 1. / sigma\n",
    "    \n",
    "    #Dirichlet BC\n",
    "    b[0] += T[0]\n",
    "    \n",
    "    return b"
   ]
  },
  {
   "cell_type": "code",
   "execution_count": 21,
   "metadata": {
    "collapsed": true
   },
   "outputs": [],
   "source": [
    "def implicit_btcs(T, A, nt, sigma):\n",
    "    \"\"\"Advances diffusion equation in time with implicit central scheme\n",
    "    \n",
    "    Parameters:\n",
    "    ----------\n",
    "    T : array of float\n",
    "        initial temperature profile\n",
    "    A : 2D array of float\n",
    "        Matrix with discretized diffusion equation\n",
    "    nt : int\n",
    "        Number of time steps\n",
    "    sigma : float\n",
    "        alpha * dt / dx ^ 2\n",
    "    \n",
    "    Returns:\n",
    "    -------\n",
    "    T : array of floats\n",
    "        Temperature profile after nt time steps\n",
    "    \"\"\"\n",
    "    \n",
    "    for t in range(nt):\n",
    "        Tn = T.copy()\n",
    "        b = generateRHS_btcs(Tn, sigma)\n",
    "        \n",
    "        #Use numpy.linalg.solve\n",
    "        T_interior = solve(A, b)\n",
    "        T[1: -1] = T_interior\n",
    "        \n",
    "        #Neumann BC (Dirichlet auto)\n",
    "        T[-1] = T[-2]\n",
    "        \n",
    "    return T"
   ]
  },
  {
   "cell_type": "code",
   "execution_count": 22,
   "metadata": {
    "collapsed": false
   },
   "outputs": [],
   "source": [
    "nx = 1001\n",
    "dx = L / (nx - 1)\n",
    "\n",
    "dt_values = numpy.asarray([1.0, 0.5, 0.25, 0.125])\n",
    "error = numpy.zeros(len(dt_values))\n",
    "error_ftcs = numpy.zeros(len(dt_values))\n",
    "\n",
    "t_final = 10\n",
    "t_initial = 1\n",
    "\n",
    "x = numpy.linspace(0, L, nx)\n",
    "\n",
    "Ti = T_analytical(x, t_initial, 100, alpha, L)\n",
    "T_exact = T_analytical(x, t_final, 100, alpha, L)\n",
    "\n",
    "for i, dt in enumerate(dt_values):\n",
    "    sigma = alpha * dt / dx ** 2\n",
    "    \n",
    "    nt = int((t_final - t_initial) / dt)\n",
    "    \n",
    "    A = generateMatrix(nx, sigma)\n",
    "    \n",
    "    A_btcs = generateMatrix_btcs(nx, sigma)\n",
    "    \n",
    "    T = CrankNicolson(Ti.copy(), A, nt, sigma)\n",
    "    \n",
    "    error[i] = L2_error(T, T_exact)\n",
    "    \n",
    "    T = implicit_btcs(Ti.copy(), A_btcs, nt, sigma)\n",
    "    \n",
    "    error_ftcs[i] = L2_error(T, T_exact)"
   ]
  },
  {
   "cell_type": "code",
   "execution_count": 23,
   "metadata": {
    "collapsed": false
   },
   "outputs": [
    {
     "data": {
      "image/png": "[encoded data removed]",
      "text/plain": [
       "<matplotlib.figure.Figure at 0x1063a8160>"
      ]
     },
     "metadata": {},
     "output_type": "display_data"
    }
   ],
   "source": [
    "pyplot.figure(figsize = (8, 8))\n",
    "pyplot.grid(True)\n",
    "pyplot.xlabel(r'$\\Delta t$', fontsize = 18)\n",
    "pyplot.ylabel(r'$L_2$-norm of the error', fontsize = 18)\n",
    "pyplot.axis('equal')\n",
    "pyplot.loglog(dt_values, error, color = 'k', ls = '--', lw = 2, marker = 'o')\n",
    "pyplot.loglog(dt_values, error_ftcs, color = 'k', ls = '--', lw = 2, marker = 's')\n",
    "pyplot.legend(['Crank-Nicolson', 'FTCS']);"
   ]
  },
  {
   "cell_type": "code",
   "execution_count": 24,
   "metadata": {
    "collapsed": false
   },
   "outputs": [
    {
     "data": {
      "text/plain": [
       "array([  3.81125927e-05,   9.41813943e-06,   2.25089054e-06,\n",
       "         4.63970974e-07])"
      ]
     },
     "execution_count": 24,
     "metadata": {},
     "output_type": "execute_result"
    }
   ],
   "source": [
    "error"
   ]
  },
  {
   "cell_type": "markdown",
   "metadata": {},
   "source": [
    "Error drops four times when the time step is halved and is therefore second order in time.\n",
    "\n",
    "Crank-Nicolson converges faster than backward Euler and is more accurate."
   ]
  },
  {
   "cell_type": "markdown",
   "metadata": {},
   "source": [
    "### Spatial convergence\n",
    "\n",
    "To study spatial convergence the code will be run for meshes with 21, 41, 81, and 161 points and will be compared at the same non-dimentional time at $t = 20$"
   ]
  },
  {
   "cell_type": "code",
   "execution_count": 25,
   "metadata": {
    "collapsed": true
   },
   "outputs": [],
   "source": [
    "nx_values = numpy.asarray([11, 21, 41, 81, 161])\n",
    "\n",
    "dt = 0.1\n",
    "error = numpy.zeros(len(nx_values))\n",
    "\n",
    "t_final = 20\n",
    "\n",
    "x = numpy.linspace(0, L, nx)\n",
    "\n",
    "for i, nx in enumerate(nx_values):\n",
    "    \n",
    "    dx = L / (nx - 1)\n",
    "    \n",
    "    x = numpy.linspace(0, L, nx)\n",
    "    \n",
    "    sigma = alpha * dt / dx ** 2\n",
    "    \n",
    "    nt = int(t_final / dt)\n",
    "    \n",
    "    A = generateMatrix(nx, sigma)\n",
    "    \n",
    "    Ti = numpy.zeros(nx)\n",
    "    Ti[0] = 100\n",
    "    \n",
    "    T = CrankNicolson(Ti.copy(), A, nt, sigma)\n",
    "    \n",
    "    T_exact = T_analytical(x, t_final, 100, alpha, L)\n",
    "    \n",
    "    error[i] = L2_error(T, T_exact)"
   ]
  },
  {
   "cell_type": "code",
   "execution_count": null,
   "metadata": {
    "collapsed": true
   },
   "outputs": [],
   "source": []
  }
 ],
 "metadata": {
  "kernelspec": {
   "display_name": "Python 3",
   "language": "python",
   "name": "python3"
  },
  "language_info": {
   "codemirror_mode": {
    "name": "ipython",
    "version": 3
   },
   "file_extension": ".py",
   "mimetype": "text/x-python",
   "name": "python",
   "nbconvert_exporter": "python",
   "pygments_lexer": "ipython3",
   "version": "3.4.3"
  }
 },
 "nbformat": 4,
 "nbformat_minor": 0
}
