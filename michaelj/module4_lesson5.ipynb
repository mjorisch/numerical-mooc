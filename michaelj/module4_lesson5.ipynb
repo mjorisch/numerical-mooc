{
 "cells": [
  {
   "cell_type": "markdown",
   "metadata": {},
   "source": [
    "## Crank-Nicolson scheme\n",
    "\n",
    "Implicit method used with parabolic PDEs\n",
    "\n",
    "Main idea: Take the average between the solutions at $t^n$ and $t^{n+1}$ in evaluation of the spatial derivative.  This is so that the time derivative will be discretized with a centered scheme, thus giving it second order accuracy.\n",
    "\n",
    "1D Heat Equation:\n",
    "\n",
    "$$\\frac{\\partial T}{\\partial t} = \\alpha \\frac{\\partial ^2 T}{\\partial x^2}$$\n",
    "\n",
    "From this, Crank-Nicolson scheme leads to:\n",
    "\n",
    "$$\\frac{T_i ^{n+1} - T_i ^n}{\\Delta t} = \\alpha \\circ \\frac{1}{2} \\left( \\frac{T_{i+1} ^{n+1} - 2T_i ^{n+1} + T_{i-1} ^{n+1}}{\\Delta x^2} + \\frac{T_{i+1} ^n - 2T_i ^n + T_{i-1} ^n}{\\Delta x^2} \\right)$$\n",
    "\n",
    "n and n+1 both appear on the right hand side.  Gotta rearrange the equation.\n",
    "\n",
    "Everything we don't know is on the left and everything we know is on the right.\n",
    "\n",
    "$$-T_{i-1} ^{n+1} + 2 \\left( \\frac{\\Delta x^2}{\\alpha \\Delta t} + 1 \\right) T_i ^{n+1} - T_{i+1} ^{n+1} = T_{i-1} ^n + 2 \\left( \\frac{\\Delta x^2}{\\alpha \\Delta t} - 1 \\right) T_i ^n + T_{i+1} ^n$$\n",
    "\n",
    "LHS looks like the matrix from notebook 2.  Not much change for the boundary conditions either."
   ]
  },
  {
   "cell_type": "markdown",
   "metadata": {},
   "source": [
    "### The linear system\n",
    "\n",
    "Need to solve a linear system on every time step of the form:\n",
    "\n",
    "$$[A][T_{int} ^{n+1}] = [b] + [b]_{b.c.}$$\n",
    "\n",
    "Need a function that will create the coefficient matrix and the RHS for the heat conduction problem from notebook 2, with a Dirichlet BC at $x = 0$ and zero-flux boundary $(q = 0)$ at $x = L$"
   ]
  },
  {
   "cell_type": "code",
   "execution_count": 1,
   "metadata": {
    "collapsed": true
   },
   "outputs": [],
   "source": [
    "import numpy\n",
    "from scipy.linalg import solve"
   ]
  },
  {
   "cell_type": "code",
   "execution_count": 2,
   "metadata": {
    "collapsed": true
   },
   "outputs": [],
   "source": [
    "def generateMatrix(N, sigma):\n",
    "    \"\"\"Computes the matrix for the diffusion equation with Crack-Nicolson\n",
    "       Dirichlet condition at i = 0, Neumann at i = -1\n",
    "       \n",
    "    Parameters:\n",
    "    ----------\n",
    "    N : int\n",
    "        Number of discretization points\n",
    "    sigma : float\n",
    "        alpha * dt / dx ^2\n",
    "        \n",
    "    Returns:\n",
    "    -------\n",
    "    A : 2D numpy array of float\n",
    "        Matrix for diffusion equation\n",
    "    \"\"\"\n",
    "    \n",
    "    #Setup the diagonal\n",
    "    d = 2 * numpy.diag(numpy.ones(N - 2) * (1 + 1. / sigma))\n",
    "    \n",
    "    #Consider Neumann BC\n",
    "    d[-1, -1] = 1 + 2. / sigma\n",
    "    \n",
    "    #Setup upper diagonal\n",
    "    ud = numpy.diag(numpy.ones(N - 3) * -1, 1)\n",
    "    \n",
    "    #Setup lower diagonal\n",
    "    ld = numpy.diag(numpy.ones(N - 3) * -1, -1)\n",
    "    \n",
    "    A = d + ud + ld\n",
    "    \n",
    "    return A"
   ]
  },
  {
   "cell_type": "code",
   "execution_count": 3,
   "metadata": {
    "collapsed": true
   },
   "outputs": [],
   "source": [
    "def generateRHS(T, sigma):\n",
    "    \"\"\"Computes RHS of linear system for diffusion equation with backward Euler\n",
    "    \n",
    "    Parameters:\n",
    "    ----------\n",
    "    T : array of float\n",
    "        Temperature at current time-step\n",
    "    sigma : float\n",
    "        alpha * dt / dx ^ 2\n",
    "        \n",
    "    Returns:\n",
    "    -------\n",
    "    b : array of float\n",
    "        RHS of diffusion equation with backward Euler\n",
    "    \"\"\"\n",
    "    \n",
    "    b = T[1: - 1] * 2 * (1. / sigma - 1) + T[:-2] + T[2:]\n",
    "    \n",
    "    #Dirichlet BC\n",
    "    b[0] += T[0]\n",
    "    \n",
    "    return b"
   ]
  },
  {
   "cell_type": "code",
   "execution_count": 4,
   "metadata": {
    "collapsed": true
   },
   "outputs": [],
   "source": [
    "def CrankNicolson(T, A, nt, sigma):\n",
    "    \"\"\"Advances diffusion equation in time with Crank-Nicolson\n",
    "    \n",
    "    Parameters:\n",
    "    ----------\n",
    "    T : array of float\n",
    "        initial temperature profile\n",
    "    A : 2D array of float\n",
    "        Matrix with discretized diffusion equation\n",
    "    nt : int\n",
    "        Number of time-steps\n",
    "    sigma : float\n",
    "        alpha * dt / dx ^ 2\n",
    "        \n",
    "    Returns:\n",
    "    -------\n",
    "    T : array of floats\n",
    "        Temperature profile after nt time-steps\n",
    "    \"\"\"\n",
    "    \n",
    "    for t in range(nt):\n",
    "        Tn = T.copy()\n",
    "        b = generateRHS(Tn, sigma)\n",
    "        #Use numpy.linalg.solve\n",
    "        T_interior = solve(A,b)\n",
    "        T[1:-1] = T_interior\n",
    "        #Neumann BC (Dirichlet is auto)\n",
    "        T[-1] = T[-2]\n",
    "        \n",
    "    return T"
   ]
  },
  {
   "cell_type": "code",
   "execution_count": 5,
   "metadata": {
    "collapsed": true
   },
   "outputs": [],
   "source": [
    "L = 1\n",
    "nx = 21\n",
    "alpha = 1.22e-3\n",
    "\n",
    "dx = L / (nx - 1)\n",
    "\n",
    "Ti = numpy.zeros(nx)\n",
    "Ti[0] = 100\n",
    "\n",
    "sigma = 0.5\n",
    "dt = sigma * dx * dx / alpha\n",
    "nt = 10\n",
    "\n",
    "A = generateMatrix(nx, sigma)"
   ]
  },
  {
   "cell_type": "code",
   "execution_count": 6,
   "metadata": {
    "collapsed": false
   },
   "outputs": [
    {
     "name": "stdout",
     "output_type": "stream",
     "text": [
      "[[ 6. -1.  0.  0.  0.  0.  0.  0.  0.  0.  0.  0.  0.  0.  0.  0.  0.  0.\n",
      "   0.]\n",
      " [-1.  6. -1.  0.  0.  0.  0.  0.  0.  0.  0.  0.  0.  0.  0.  0.  0.  0.\n",
      "   0.]\n",
      " [ 0. -1.  6. -1.  0.  0.  0.  0.  0.  0.  0.  0.  0.  0.  0.  0.  0.  0.\n",
      "   0.]\n",
      " [ 0.  0. -1.  6. -1.  0.  0.  0.  0.  0.  0.  0.  0.  0.  0.  0.  0.  0.\n",
      "   0.]\n",
      " [ 0.  0.  0. -1.  6. -1.  0.  0.  0.  0.  0.  0.  0.  0.  0.  0.  0.  0.\n",
      "   0.]\n",
      " [ 0.  0.  0.  0. -1.  6. -1.  0.  0.  0.  0.  0.  0.  0.  0.  0.  0.  0.\n",
      "   0.]\n",
      " [ 0.  0.  0.  0.  0. -1.  6. -1.  0.  0.  0.  0.  0.  0.  0.  0.  0.  0.\n",
      "   0.]\n",
      " [ 0.  0.  0.  0.  0.  0. -1.  6. -1.  0.  0.  0.  0.  0.  0.  0.  0.  0.\n",
      "   0.]\n",
      " [ 0.  0.  0.  0.  0.  0.  0. -1.  6. -1.  0.  0.  0.  0.  0.  0.  0.  0.\n",
      "   0.]\n",
      " [ 0.  0.  0.  0.  0.  0.  0.  0. -1.  6. -1.  0.  0.  0.  0.  0.  0.  0.\n",
      "   0.]\n",
      " [ 0.  0.  0.  0.  0.  0.  0.  0.  0. -1.  6. -1.  0.  0.  0.  0.  0.  0.\n",
      "   0.]\n",
      " [ 0.  0.  0.  0.  0.  0.  0.  0.  0.  0. -1.  6. -1.  0.  0.  0.  0.  0.\n",
      "   0.]\n",
      " [ 0.  0.  0.  0.  0.  0.  0.  0.  0.  0.  0. -1.  6. -1.  0.  0.  0.  0.\n",
      "   0.]\n",
      " [ 0.  0.  0.  0.  0.  0.  0.  0.  0.  0.  0.  0. -1.  6. -1.  0.  0.  0.\n",
      "   0.]\n",
      " [ 0.  0.  0.  0.  0.  0.  0.  0.  0.  0.  0.  0.  0. -1.  6. -1.  0.  0.\n",
      "   0.]\n",
      " [ 0.  0.  0.  0.  0.  0.  0.  0.  0.  0.  0.  0.  0.  0. -1.  6. -1.  0.\n",
      "   0.]\n",
      " [ 0.  0.  0.  0.  0.  0.  0.  0.  0.  0.  0.  0.  0.  0.  0. -1.  6. -1.\n",
      "   0.]\n",
      " [ 0.  0.  0.  0.  0.  0.  0.  0.  0.  0.  0.  0.  0.  0.  0.  0. -1.  6.\n",
      "  -1.]\n",
      " [ 0.  0.  0.  0.  0.  0.  0.  0.  0.  0.  0.  0.  0.  0.  0.  0.  0. -1.\n",
      "   5.]]\n"
     ]
    }
   ],
   "source": [
    "print(A)"
   ]
  },
  {
   "cell_type": "code",
   "execution_count": 7,
   "metadata": {
    "collapsed": true
   },
   "outputs": [],
   "source": [
    "T = CrankNicolson(Ti.copy(), A, nt, sigma)"
   ]
  },
  {
   "cell_type": "code",
   "execution_count": 8,
   "metadata": {
    "collapsed": true
   },
   "outputs": [],
   "source": [
    "from matplotlib import pyplot\n",
    "%matplotlib inline\n",
    "from matplotlib import rcParams\n",
    "rcParams['font.family'] = 'serif'\n",
    "rcParams['font.size'] = 16"
   ]
  },
  {
   "cell_type": "code",
   "execution_count": 9,
   "metadata": {
    "collapsed": false
   },
   "outputs": [
    {
     "data": {
      "image/png": "[encoded data removed]",
      "text/plain": [
       "<matplotlib.figure.Figure at 0x10546f518>"
      ]
     },
     "metadata": {},
     "output_type": "display_data"
    }
   ],
   "source": [
    "x = numpy.linspace(0, L, nx)\n",
    "\n",
    "pyplot.plot(x, T, color = '#003366', ls = '-', lw = 3);"
   ]
  },
  {
   "cell_type": "markdown",
   "metadata": {},
   "source": [
    "Analytical solution of T\n",
    "\n",
    "$$T(x, t) = 100 - \\sum_{n=1}^{\\infty} \\frac{400}{(2n - 1)\\pi} sin \\left(\\frac{(2n - 1) \\pi}{2L} x \\right) exp \\left[ -\\alpha \\left( \\frac{(2n-1) \\pi}{2L} \\right) ^2 (2t) \\right]$$"
   ]
  },
  {
   "cell_type": "code",
   "execution_count": 10,
   "metadata": {
    "collapsed": true
   },
   "outputs": [],
   "source": [
    "from math import pi\n",
    "def T_analytical(x, t, n_max, alpha, L):\n",
    "    \"\"\"Compute the exact solution for 1D diffusion with T = 100 at x = 0 and dT/dx = 0 at x = L\n",
    "    \n",
    "    Parameters:\n",
    "    ----------\n",
    "    x : array of float\n",
    "        Spatial position\n",
    "    t : float\n",
    "        Evaluation time\n",
    "    n_max : int\n",
    "        Number of terms to evaluate expression\n",
    "    alpha : float\n",
    "        diffusion coefficient\n",
    "    L : float\n",
    "        Size of rod\n",
    "    \n",
    "    Returns:\n",
    "    -------\n",
    "    T : array of float\n",
    "        Temperature at each location x\n",
    "    \"\"\"\n",
    "    \n",
    "    T = 100\n",
    "    for n in range(1, n_max + 1):\n",
    "        k = (2 * n - 1) * pi / (2 * L)\n",
    "        \n",
    "        summation = 400 / ((2 * n - 1) * pi) * numpy.sin(k * x) * numpy.exp(-alpha * k * k * t)\n",
    "        T -= summation\n",
    "    \n",
    "    return T"
   ]
  },
  {
   "cell_type": "code",
   "execution_count": null,
   "metadata": {
    "collapsed": true
   },
   "outputs": [],
   "source": []
  }
 ],
 "metadata": {
  "kernelspec": {
   "display_name": "Python 3",
   "language": "python",
   "name": "python3"
  },
  "language_info": {
   "codemirror_mode": {
    "name": "ipython",
    "version": 3
   },
   "file_extension": ".py",
   "mimetype": "text/x-python",
   "name": "python",
   "nbconvert_exporter": "python",
   "pygments_lexer": "ipython3",
   "version": "3.4.3"
  }
 },
 "nbformat": 4,
 "nbformat_minor": 0
}
