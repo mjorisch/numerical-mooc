{
 "cells": [
  {
   "cell_type": "markdown",
   "metadata": {},
   "source": [
    "## Crank-Nicolson scheme\n",
    "\n",
    "Implicit method used with parabolic PDEs\n",
    "\n",
    "Main idea: Take the average between the solutions at $t^n$ and $t^{n+1}$ in evaluation of the spatial derivative.  This is so that the time derivative will be discretized with a centered scheme, thus giving it second order accuracy.\n",
    "\n",
    "1D Heat Equation:\n",
    "\n",
    "$$\\frac{\\partial T}{\\partial t} = \\alpha \\frac{\\partial ^2 T}{\\partial x^2}$$\n",
    "\n",
    "From this, Crank-Nicolson scheme leads to:\n",
    "\n",
    "$$\\frac{T_i ^{n+1} - T_i ^n}{\\Delta t} = \\alpha \\circ \\frac{1}{2} \\left( \\frac{T_{i+1} ^{n+1} - 2T_i ^{n+1} + T_{i-1} ^{n+1}}{\\Delta x^2} + \\frac{T_{i+1} ^n - 2T_i ^n + T_{i-1} ^n}{\\Delta x^2} \\right)$$\n",
    "\n",
    "n and n+1 both appear on the right hand side.  Gotta rearrange the equation.\n",
    "\n",
    "Everything we don't know is on the left and everything we know is on the right.\n",
    "\n",
    "$$-T_{i-1} ^{n+1} + 2 \\left( \\frac{\\Delta x^2}{\\alpha \\Delta t} + 1 \\right) T_i ^{n+1} - T_{i+1} ^{n+1} = T_{i-1} ^n + 2 \\left( \\frac{\\Delta x^2}{\\alpha \\Delta t} - 1 \\right) T_i ^n + T_{i+1} ^n$$\n",
    "\n",
    "LHS looks like the matrix from notebook 2.  Not much change for the boundary conditions either."
   ]
  },
  {
   "cell_type": "markdown",
   "metadata": {},
   "source": [
    "### The linear system\n",
    "\n",
    "Need to solve a linear system on every time step of the form:\n",
    "\n",
    "$$[A][T_{int} ^{n+1}] = [b] + [b]_{b.c.}$$\n",
    "\n",
    "Need a function that will create the coefficient matrix and the RHS for the heat conduction problem from notebook 2, with a Dirichlet BC at $x = 0$ and zero-flux boundary $(q = 0)$ at $x = L$"
   ]
  },
  {
   "cell_type": "code",
   "execution_count": 1,
   "metadata": {
    "collapsed": true
   },
   "outputs": [],
   "source": [
    "import numpy\n",
    "from scipy.linalg import solve"
   ]
  },
  {
   "cell_type": "code",
   "execution_count": 2,
   "metadata": {
    "collapsed": true
   },
   "outputs": [],
   "source": [
    "def generateMatrix(N, sigma):\n",
    "    \"\"\"Computes the matrix for the diffusion equation with Crack-Nicolson\n",
    "       Dirichlet condition at i = 0, Neumann at i = -1\n",
    "       \n",
    "    Parameters:\n",
    "    ----------\n",
    "    N : int\n",
    "        Number of discretization points\n",
    "    sigma : float\n",
    "        alpha * dt / dx ^2\n",
    "        \n",
    "    Returns:\n",
    "    -------\n",
    "    A : 2D numpy array of float\n",
    "        Matrix for diffusion equation\n",
    "    \"\"\"\n",
    "    \n",
    "    #Setup the diagonal\n",
    "    d = 2 * numpy.diag(numpy.ones(N - 2) * (1 + 1. / sigma))\n",
    "    \n",
    "    #Consider Neumann BC\n",
    "    d[-1, -1] = 1 + 2. / sigma\n",
    "    \n",
    "    #Setup upper diagonal\n",
    "    ud = numpy.diag(numpy.ones(N - 3) * -1, 1)\n",
    "    \n",
    "    #Setup lower diagonal\n",
    "    ld = numpy.diag(numpy.ones(N - 3) * -1, -1)\n",
    "    \n",
    "    A = d + ud + ld\n",
    "    \n",
    "    return A"
   ]
  },
  {
   "cell_type": "code",
   "execution_count": null,
   "metadata": {
    "collapsed": true
   },
   "outputs": [],
   "source": []
  }
 ],
 "metadata": {
  "kernelspec": {
   "display_name": "Python 3",
   "language": "python",
   "name": "python3"
  },
  "language_info": {
   "codemirror_mode": {
    "name": "ipython",
    "version": 3
   },
   "file_extension": ".py",
   "mimetype": "text/x-python",
   "name": "python",
   "nbconvert_exporter": "python",
   "pygments_lexer": "ipython3",
   "version": "3.4.3"
  }
 },
 "nbformat": 4,
 "nbformat_minor": 0
}
