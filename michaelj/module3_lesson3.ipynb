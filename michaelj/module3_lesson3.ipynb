{
 "cells": [
  {
   "cell_type": "markdown",
   "metadata": {},
   "source": [
    "**Traffic Flow revisited**\n",
    "\n",
    "**Better flux model**\n",
    "\n",
    "Typical conservation law: $$\\frac{\\partial \\rho}{\\partial t} + \\frac{\\partial F}{\\partial x} = 0$$\n",
    "\n",
    "F is the flux and $F = \\rho u$, flux equals density times velocity.\n",
    "\n",
    "Approx linear relation between traffic speed and traffic density\n",
    "$$F(\\rho) = \\rho u_{max} (1 - \\frac{\\rho}{\\rho_{max}})$$\n",
    "\n",
    "The flux model meets the two requirements based on a qualitative view of traffic flow that:\n",
    "\n",
    "1. $u \\rightarrow u_{max}  and  F \\rightarrow when \\rho \\rightarrow 0$\n",
    "2. $u \\rightarrow 0  as  \\rho \\rightarrow \\rho_{max}$\n",
    "\n",
    "This leads to some unrealistic or improbable results.  For example if the traffic speed is a linear funciton of density, then the flux function will be quadratic and the maximum flux will occur when $\\rho^{\\star} = \\rho_{max} /2$ which corresponds to a traffic speed of $u_{max} /2$\n",
    "\n",
    "Need to find an ideal traffic speed $u^{\\star}$ that corresponds to an ideal traffic density $\\rho^{\\star}$ which results in the maximum traffic flux: $$F_{max} = \\rho^{\\star} u^{\\star}$$\n",
    "\n",
    "We can improve the initial flux by using this observation.  We can try to introduce a flux model that is cubic in $\\rho$ instead of quadratic:  $$F(\\rho) = u_{max} \\rho (1 - A \\rho - B \\rho^2)$$\n",
    "\n",
    "This new model still meets the first criterion $F \\rightarrow 0$ when $\\rho \\rightarrow 0$\n",
    "\n",
    "We can impose the following conditions:\n",
    "\n",
    "* When $\\rho = \\rho_{max}$ traffic flux goes to zero: $$F(\\rho_{max}) = 0 = u_{max} \\rho_{max} (1 - A \\rho_{max} - B \\rho_{max} ^2 )$$\n",
    "\n",
    "* Maximum flux occurs when $\\rho = \\rho^{\\star} and F'(\\rho^{\\star}) = 0$ : $$F'(\\rho^{star}) = 0 = u_{max} ( 1 - 2A \\rho^{\\star} - 3B(\\rho^{\\star})^2)$$\n",
    "\n",
    "* $u^{\\star}$ is obtained when $\\rho = \\rho^{\\star}$ : $$u^{\\star} = u_{max} (1 - A \\rho^{\\star} - B (\\rho^{\\star})^2)$$\n",
    "\n",
    "We have three equations and four unknowns now, but in practice the ideal traffic speed could be obtained for a given road by observations.  Similarly to $u_{max}$ and $\\rho_{max}$ it will be taken as a parameter.\n",
    "\n",
    "**Solving the new flux Equation**\n",
    "\n",
    "Gotta use Sympy and LaTeX printing."
   ]
  },
  {
   "cell_type": "code",
   "execution_count": 1,
   "metadata": {
    "collapsed": true
   },
   "outputs": [],
   "source": [
    "import sympy\n",
    "sympy.init_printing()\n",
    "\n",
    "u_max, u_star, rho_max, rho_star, A, B = sympy.symbols('u_max u_star rho_max rho_star A B')"
   ]
  },
  {
   "cell_type": "code",
   "execution_count": 10,
   "metadata": {
    "collapsed": false
   },
   "outputs": [],
   "source": [
    "eq1 = sympy.Eq( 0, u_max*rho_max*(1 - A*rho_max - B*rho_max**2))\n",
    "eq2 = sympy.Eq( 0, u_max*(1 - 2*A*rho_star - 3*B*rho_star**2))\n",
    "eq3 = sympy.Eq( u_star, u_max*(1 - A*rho_star - B*rho_star**2))"
   ]
  },
  {
   "cell_type": "code",
   "execution_count": 11,
   "metadata": {
    "collapsed": false
   },
   "outputs": [
    {
     "data": {
      "image/png": "[encoded data removed]",
      "text/latex": [
       "$$0 = \\rho_{max} u_{max} \\left(- A \\rho_{max} - B \\rho_{max}^{2} + 1\\right)$$"
      ],
      "text/plain": [
       "                ⎛                  2    ⎞\n",
       "0 = ρ_max⋅u_max⋅⎝-A⋅ρ_max - B⋅ρ_max  + 1⎠"
      ]
     },
     "execution_count": 11,
     "metadata": {},
     "output_type": "execute_result"
    }
   ],
   "source": [
    "eq1"
   ]
  },
  {
   "cell_type": "code",
   "execution_count": 12,
   "metadata": {
    "collapsed": false
   },
   "outputs": [
    {
     "data": {
      "image/png": "[encoded data removed]",
      "text/latex": [
       "$$0 = u_{max} \\left(- 2 A \\rho_{star} - 3 B \\rho_{star}^{2} + 1\\right)$$"
      ],
      "text/plain": [
       "          ⎛                        2    ⎞\n",
       "0 = u_max⋅⎝-2⋅A⋅ρ_star - 3⋅B⋅ρ_star  + 1⎠"
      ]
     },
     "execution_count": 12,
     "metadata": {},
     "output_type": "execute_result"
    }
   ],
   "source": [
    "eq2"
   ]
  },
  {
   "cell_type": "code",
   "execution_count": 13,
   "metadata": {
    "collapsed": false
   },
   "outputs": [
    {
     "data": {
      "image/png": "[encoded data removed]",
      "text/latex": [
       "$$u_{star} = u_{max} \\left(- A \\rho_{star} - B \\rho_{star}^{2} + 1\\right)$$"
      ],
      "text/plain": [
       "               ⎛                    2    ⎞\n",
       "u_star = u_max⋅⎝-A⋅ρ_star - B⋅ρ_star  + 1⎠"
      ]
     },
     "execution_count": 13,
     "metadata": {},
     "output_type": "execute_result"
    }
   ],
   "source": [
    "eq3"
   ]
  },
  {
   "cell_type": "code",
   "execution_count": 14,
   "metadata": {
    "collapsed": false
   },
   "outputs": [
    {
     "data": {
      "image/png": "[encoded data removed]",
      "text/latex": [
       "$$- 3 u_{star} = u_{max} \\left(- 2 A \\rho_{star} - 3 B \\rho_{star}^{2} + 1\\right) - 3 u_{max} \\left(- A \\rho_{star} - B \\rho_{star}^{2} + 1\\right)$$"
      ],
      "text/plain": [
       "                  ⎛                        2    ⎞           ⎛                 \n",
       "-3⋅u_star = u_max⋅⎝-2⋅A⋅ρ_star - 3⋅B⋅ρ_star  + 1⎠ - 3⋅u_max⋅⎝-A⋅ρ_star - B⋅ρ_s\n",
       "\n",
       "   2    ⎞\n",
       "tar  + 1⎠"
      ]
     },
     "execution_count": 14,
     "metadata": {},
     "output_type": "execute_result"
    }
   ],
   "source": [
    "eq4 = sympy.Eq(eq2.lhs - 3*eq3.lhs, eq2.rhs - 3*eq3.rhs)\n",
    "eq4"
   ]
  },
  {
   "cell_type": "code",
   "execution_count": 15,
   "metadata": {
    "collapsed": false
   },
   "outputs": [
    {
     "data": {
      "image/png": "[encoded data removed]",
      "text/latex": [
       "$$- 3 u_{star} = u_{max} \\left(A \\rho_{star} - 2\\right)$$"
      ],
      "text/plain": [
       "-3⋅u_star = u_max⋅(A⋅ρ_star - 2)"
      ]
     },
     "execution_count": 15,
     "metadata": {},
     "output_type": "execute_result"
    }
   ],
   "source": [
    "eq4.simplify()"
   ]
  },
  {
   "cell_type": "code",
   "execution_count": 16,
   "metadata": {
    "collapsed": false
   },
   "outputs": [
    {
     "data": {
      "image/png": "[encoded data removed]",
      "text/latex": [
       "$$- 3 u_{star} = u_{max} \\left(- 2 A \\rho_{star} - 3 B \\rho_{star}^{2} + 1\\right) - 3 u_{max} \\left(- A \\rho_{star} - B \\rho_{star}^{2} + 1\\right)$$"
      ],
      "text/plain": [
       "                  ⎛                        2    ⎞           ⎛                 \n",
       "-3⋅u_star = u_max⋅⎝-2⋅A⋅ρ_star - 3⋅B⋅ρ_star  + 1⎠ - 3⋅u_max⋅⎝-A⋅ρ_star - B⋅ρ_s\n",
       "\n",
       "   2    ⎞\n",
       "tar  + 1⎠"
      ]
     },
     "execution_count": 16,
     "metadata": {},
     "output_type": "execute_result"
    }
   ],
   "source": [
    "eq4"
   ]
  },
  {
   "cell_type": "code",
   "execution_count": 17,
   "metadata": {
    "collapsed": false
   },
   "outputs": [
    {
     "data": {
      "image/png": "[encoded data removed]",
      "text/latex": [
       "$$- 3 u_{star} = A \\rho_{star} u_{max} - 2 u_{max}$$"
      ],
      "text/plain": [
       "-3⋅u_star = A⋅ρ_star⋅u_max - 2⋅u_max"
      ]
     },
     "execution_count": 17,
     "metadata": {},
     "output_type": "execute_result"
    }
   ],
   "source": [
    "eq4.expand()\n",
    "#Expand's purpose is to expand bracketed factors in expressions and group powers of symbols."
   ]
  },
  {
   "cell_type": "code",
   "execution_count": 18,
   "metadata": {
    "collapsed": false
   },
   "outputs": [
    {
     "data": {
      "image/png": "[encoded data removed]",
      "text/latex": [
       "$$\\frac{1}{A u_{max}} \\left(2 u_{max} - 3 u_{star}\\right)$$"
      ],
      "text/plain": [
       "2⋅u_max - 3⋅u_star\n",
       "──────────────────\n",
       "     A⋅u_max      "
      ]
     },
     "execution_count": 18,
     "metadata": {},
     "output_type": "execute_result"
    }
   ],
   "source": [
    "rho_sol = sympy.solve(eq4,rho_star)[0]\n",
    "rho_sol"
   ]
  },
  {
   "cell_type": "code",
   "execution_count": 19,
   "metadata": {
    "collapsed": false
   },
   "outputs": [
    {
     "data": {
      "image/png": "[encoded data removed]",
      "text/latex": [
       "$$\\frac{1}{\\rho_{max}^{2}} \\left(- A \\rho_{max} + 1\\right)$$"
      ],
      "text/plain": [
       "-A⋅ρ_max + 1\n",
       "────────────\n",
       "        2   \n",
       "   ρ_max    "
      ]
     },
     "execution_count": 19,
     "metadata": {},
     "output_type": "execute_result"
    }
   ],
   "source": [
    "B_sol = sympy.solve(eq1,B)[0]\n",
    "B_sol"
   ]
  },
  {
   "cell_type": "code",
   "execution_count": 20,
   "metadata": {
    "collapsed": false
   },
   "outputs": [
    {
     "data": {
      "image/png": "[encoded data removed]",
      "text/latex": [
       "$$0 = u_{max} \\left(1 - \\frac{1}{u_{max}} \\left(4 u_{max} - 6 u_{star}\\right) - \\frac{3 \\left(2 u_{max} - 3 u_{star}\\right)^{2}}{A^{2} \\rho_{max}^{2} u_{max}^{2}} \\left(- A \\rho_{max} + 1\\right)\\right)$$"
      ],
      "text/plain": [
       "          ⎛                                                   2               \n",
       "          ⎜    2⋅(2⋅u_max - 3⋅u_star)   3⋅(2⋅u_max - 3⋅u_star) ⋅(-A⋅ρ_max + 1)\n",
       "0 = u_max⋅⎜1 - ────────────────────── - ──────────────────────────────────────\n",
       "          ⎜            u_max                        2      2      2           \n",
       "          ⎝                                        A ⋅ρ_max ⋅u_max            \n",
       "\n",
       "⎞\n",
       "⎟\n",
       "⎟\n",
       "⎟\n",
       "⎠"
      ]
     },
     "execution_count": 20,
     "metadata": {},
     "output_type": "execute_result"
    }
   ],
   "source": [
    "quadA = eq2.subs([(rho_star, rho_sol), (B,B_sol)])\n",
    "quadA"
   ]
  },
  {
   "cell_type": "code",
   "execution_count": 21,
   "metadata": {
    "collapsed": false
   },
   "outputs": [
    {
     "data": {
      "image/png": "[encoded data removed]",
      "text/latex": [
       "$$0 = - 3 u_{max} + 6 u_{star} + \\frac{3 \\left(2 u_{max} - 3 u_{star}\\right)^{2}}{A \\rho_{max} u_{max}} - \\frac{3 \\left(2 u_{max} - 3 u_{star}\\right)^{2}}{A^{2} \\rho_{max}^{2} u_{max}}$$"
      ],
      "text/plain": [
       "                                                2                         2\n",
       "                          3⋅(2⋅u_max - 3⋅u_star)    3⋅(2⋅u_max - 3⋅u_star) \n",
       "0 = -3⋅u_max + 6⋅u_star + ─────────────────────── - ───────────────────────\n",
       "                               A⋅ρ_max⋅u_max             2      2          \n",
       "                                                        A ⋅ρ_max ⋅u_max    "
      ]
     },
     "execution_count": 21,
     "metadata": {},
     "output_type": "execute_result"
    }
   ],
   "source": [
    "quadA.simplify()"
   ]
  },
  {
   "cell_type": "code",
   "execution_count": 22,
   "metadata": {
    "collapsed": true
   },
   "outputs": [],
   "source": [
    "A_sol = sympy.solve(quadA, A)"
   ]
  },
  {
   "cell_type": "code",
   "execution_count": 23,
   "metadata": {
    "collapsed": false
   },
   "outputs": [
    {
     "data": {
      "image/png": "[encoded data removed]",
      "text/latex": [
       "$$\\frac{1}{2 \\rho_{max}^{2} u_{max} \\left(u_{max} - 2 u_{star}\\right)} \\left(\\rho_{max} \\left(2 u_{max} - 3 u_{star}\\right)^{2} - \\sqrt{- \\rho_{max}^{2} u_{star} \\left(2 u_{max} - 3 u_{star}\\right)^{2} \\left(4 u_{max} - 9 u_{star}\\right)}\\right)$$"
      ],
      "text/plain": [
       "                                 _____________________________________________\n",
       "                          2     ╱       2                            2        \n",
       "ρ_max⋅(2⋅u_max - 3⋅u_star)  - ╲╱  -ρ_max ⋅u_star⋅(2⋅u_max - 3⋅u_star) ⋅(4⋅u_ma\n",
       "──────────────────────────────────────────────────────────────────────────────\n",
       "                                    2                                         \n",
       "                             2⋅ρ_max ⋅u_max⋅(u_max - 2⋅u_star)                \n",
       "\n",
       "______________\n",
       "              \n",
       "x - 9⋅u_star) \n",
       "──────────────\n",
       "              \n",
       "              "
      ]
     },
     "execution_count": 23,
     "metadata": {},
     "output_type": "execute_result"
    }
   ],
   "source": [
    "A_sol[0]"
   ]
  },
  {
   "cell_type": "code",
   "execution_count": 24,
   "metadata": {
    "collapsed": false
   },
   "outputs": [
    {
     "data": {
      "image/png": "[encoded data removed]",
      "text/latex": [
       "$$\\frac{1}{2 \\rho_{max}^{2} u_{max} \\left(u_{max} - 2 u_{star}\\right)} \\left(\\rho_{max} \\left(2 u_{max} - 3 u_{star}\\right)^{2} + \\sqrt{- \\rho_{max}^{2} u_{star} \\left(2 u_{max} - 3 u_{star}\\right)^{2} \\left(4 u_{max} - 9 u_{star}\\right)}\\right)$$"
      ],
      "text/plain": [
       "                                 _____________________________________________\n",
       "                          2     ╱       2                            2        \n",
       "ρ_max⋅(2⋅u_max - 3⋅u_star)  + ╲╱  -ρ_max ⋅u_star⋅(2⋅u_max - 3⋅u_star) ⋅(4⋅u_ma\n",
       "──────────────────────────────────────────────────────────────────────────────\n",
       "                                    2                                         \n",
       "                             2⋅ρ_max ⋅u_max⋅(u_max - 2⋅u_star)                \n",
       "\n",
       "______________\n",
       "              \n",
       "x - 9⋅u_star) \n",
       "──────────────\n",
       "              \n",
       "              "
      ]
     },
     "execution_count": 24,
     "metadata": {},
     "output_type": "execute_result"
    }
   ],
   "source": [
    "A_sol[1]"
   ]
  },
  {
   "cell_type": "markdown",
   "metadata": {},
   "source": [
    "We now have both solutions to the quadratic.  We have to select the positive root.\n",
    "\n",
    "We'll use the numerical values for $\\rho_{max}$ and $u_{max}$ from lesson 1, but will have to have a value for $u^{\\star}$ which should be experimentally observed in a given road.  We'll go with $u^{\\star} = 0.7 u_{max}$ which would give us 84 km/h for a highway with a 120 km/h speed limit.\n",
    "\n",
    "Need to numerically evaluate the solutions for A using the following values:\n",
    "$$\\rho_{max} = 10.0$$\n",
    "$$u_{max} = 1.0$$\n",
    "$$u^{\\star} = 0.7$$\n",
    "\n",
    "Need to evaluate the numerical result for each root of A using the evalf() function where you pass the numerical subsitution as an argument."
   ]
  },
  {
   "cell_type": "code",
   "execution_count": 25,
   "metadata": {
    "collapsed": false
   },
   "outputs": [
    {
     "data": {
      "image/png": "[encoded data removed]",
      "text/latex": [
       "$$0.0146107219255619$$"
      ],
      "text/plain": [
       "0.0146107219255619"
      ]
     },
     "execution_count": 25,
     "metadata": {},
     "output_type": "execute_result"
    }
   ],
   "source": [
    "aval = A_sol[0].evalf(subs={u_star: 0.7, u_max:1.0, rho_max:10.0})\n",
    "aval"
   ]
  },
  {
   "cell_type": "code",
   "execution_count": 26,
   "metadata": {
    "collapsed": false
   },
   "outputs": [
    {
     "data": {
      "image/png": "[encoded data removed]",
      "text/latex": [
       "$$-0.0171107219255619$$"
      ],
      "text/plain": [
       "-0.0171107219255619"
      ]
     },
     "execution_count": 26,
     "metadata": {},
     "output_type": "execute_result"
    }
   ],
   "source": [
    "A_sol[1].evalf(subs={u_star: 0.7, u_max:1.0, rho_max:10.0})"
   ]
  },
  {
   "cell_type": "code",
   "execution_count": 27,
   "metadata": {
    "collapsed": false
   },
   "outputs": [
    {
     "data": {
      "image/png": "[encoded data removed]",
      "text/latex": [
       "$$0.00853892780744381$$"
      ],
      "text/plain": [
       "0.00853892780744381"
      ]
     },
     "execution_count": 27,
     "metadata": {},
     "output_type": "execute_result"
    }
   ],
   "source": [
    "bval = B_sol.evalf(subs={rho_max:10.0, A:aval})\n",
    "bval"
   ]
  },
  {
   "cell_type": "code",
   "execution_count": 28,
   "metadata": {
    "collapsed": true
   },
   "outputs": [],
   "source": [
    "sympy.init_printing(use_latex=False)"
   ]
  },
  {
   "cell_type": "markdown",
   "metadata": {},
   "source": [
    "Going to look at the green light again using the new traffic-flux equation.\n",
    "\n",
    "First need to switch rho_max and u_max from sympy to floats"
   ]
  },
  {
   "cell_type": "code",
   "execution_count": 29,
   "metadata": {
    "collapsed": false
   },
   "outputs": [
    {
     "name": "stdout",
     "output_type": "stream",
     "text": [
      "<class 'sympy.core.symbol.Symbol'> <class 'sympy.core.symbol.Symbol'>\n"
     ]
    }
   ],
   "source": [
    "print (type(rho_max), type(u_max))"
   ]
  },
  {
   "cell_type": "code",
   "execution_count": 30,
   "metadata": {
    "collapsed": true
   },
   "outputs": [],
   "source": [
    "rho_max = 10.\n",
    "u_max = 1."
   ]
  },
  {
   "cell_type": "code",
   "execution_count": null,
   "metadata": {
    "collapsed": true
   },
   "outputs": [],
   "source": []
  }
 ],
 "metadata": {
  "kernelspec": {
   "display_name": "Python 3",
   "language": "python",
   "name": "python3"
  },
  "language_info": {
   "codemirror_mode": {
    "name": "ipython",
    "version": 3
   },
   "file_extension": ".py",
   "mimetype": "text/x-python",
   "name": "python",
   "nbconvert_exporter": "python",
   "pygments_lexer": "ipython3",
   "version": "3.4.3"
  }
 },
 "nbformat": 4,
 "nbformat_minor": 0
}
