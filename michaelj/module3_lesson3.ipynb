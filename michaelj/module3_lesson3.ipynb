{
 "cells": [
  {
   "cell_type": "markdown",
   "metadata": {},
   "source": [
    "**Traffic Flow revisited**\n",
    "\n",
    "**Better flux model**\n",
    "\n",
    "Typical conservation law: $$\\frac{\\partial \\rho}{\\partial t} + \\frac{\\partial F}{\\partial x} = 0$$\n",
    "\n",
    "F is the flux and $F = \\rho u$, flux equals density times velocity.\n",
    "\n",
    "Approx linear relation between traffic speed and traffic density\n",
    "$$F(\\rho) = \\rho u_{max} (1 - \\frac{\\rho}{\\rho_{max}})$$\n",
    "\n",
    "The flux model meets the two requirements based on a qualitative view of traffic flow that:\n",
    "\n",
    "1. $u \\rightarrow u_{max}  and  F \\rightarrow when \\rho \\rightarrow 0$\n",
    "2. $u \\rightarrow 0  as  \\rho \\rightarrow \\rho_{max}$\n",
    "\n",
    "This leads to some unrealistic or improbable results.  For example if the traffic speed is a linear funciton of density, then the flux function will be quadratic and the maximum flux will occur when $\\rho^{\\star} = \\rho_{max} /2$ which corresponds to a traffic speed of $u_{max} /2$\n",
    "\n",
    "Need to find an ideal traffic speed $u^{\\star}$ that corresponds to an ideal traffic density $\\rho^{\\star}$ which results in the maximum traffic flux: $$F_{max} = \\rho^{\\star} u^{\\star}$$\n",
    "\n",
    "We can improve the initial flux by using this observation.  We can try to introduce a flux model that is cubic in $\\rho$ instead of quadratic:  $$F(\\rho) = u_{max} \\rho (1 - A \\rho - B \\rho^2)$$\n",
    "\n",
    "This new model still meets the first criterion $F \\rightarrow 0$ when $\\rho \\rightarrow 0$\n",
    "\n",
    "We can impose the following conditions:\n",
    "\n",
    "* When $\\rho = \\rho_{max}$ traffic flux goes to zero: $$F(\\rho_{max}) = 0 = u_{max} \\rho_{max} (1 - A \\rho_{max} - B \\rho_{max} ^2 )$$\n",
    "\n",
    "* Maximum flux occurs when $\\rho = \\rho^{\\star} and F'(\\rho^{\\star}) = 0$ : $$F'(\\rho^{star}) = 0 = u_{max} ( 1 - 2A \\rho^{\\star} - 3B(\\rho^{\\star})^2)$$\n",
    "\n",
    "* $u^{\\star}$ is obtained when $\\rho = \\rho^{\\star}$ : $$u^{\\star} = u_{max} (1 - A \\rho^{\\star} - B (\\rho^{\\star})^2)$$\n",
    "\n",
    "We have three equations and four unknowns now, but in practice the ideal traffic speed could be obtained for a given road by observations.  Similarly to $u_{max}$ and $\\rho_{max}$ it will be taken as a parameter.\n",
    "\n",
    "**Solving the new flux Equation**\n",
    "\n",
    "Gotta use Sympy and LaTeX printing."
   ]
  },
  {
   "cell_type": "code",
   "execution_count": 1,
   "metadata": {
    "collapsed": true
   },
   "outputs": [],
   "source": [
    "import sympy\n",
    "sympy.init_printing()\n",
    "\n",
    "u_max, u_star, rho_max, rho_star, A, B = sympy.symbols('u_max u_star rho_max rho_star A B')"
   ]
  },
  {
   "cell_type": "code",
   "execution_count": 10,
   "metadata": {
    "collapsed": false
   },
   "outputs": [],
   "source": [
    "eq1 = sympy.Eq( 0, u_max*rho_max*(1 - A*rho_max - B*rho_max**2))\n",
    "eq2 = sympy.Eq( 0, u_max*(1 - 2*A*rho_star - 3*B*rho_star**2))\n",
    "eq3 = sympy.Eq( u_star, u_max*(1 - A*rho_star - B*rho_star**2))"
   ]
  },
  {
   "cell_type": "code",
   "execution_count": 11,
   "metadata": {
    "collapsed": false
   },
   "outputs": [
    {
     "data": {
      "image/png": "[encoded data removed]",
      "text/latex": [
       "$$0 = \\rho_{max} u_{max} \\left(- A \\rho_{max} - B \\rho_{max}^{2} + 1\\right)$$"
      ],
      "text/plain": [
       "                ⎛                  2    ⎞\n",
       "0 = ρ_max⋅u_max⋅⎝-A⋅ρ_max - B⋅ρ_max  + 1⎠"
      ]
     },
     "execution_count": 11,
     "metadata": {},
     "output_type": "execute_result"
    }
   ],
   "source": [
    "eq1"
   ]
  },
  {
   "cell_type": "code",
   "execution_count": 12,
   "metadata": {
    "collapsed": false
   },
   "outputs": [
    {
     "data": {
      "image/png": "[encoded data removed]",
      "text/latex": [
       "$$0 = u_{max} \\left(- 2 A \\rho_{star} - 3 B \\rho_{star}^{2} + 1\\right)$$"
      ],
      "text/plain": [
       "          ⎛                        2    ⎞\n",
       "0 = u_max⋅⎝-2⋅A⋅ρ_star - 3⋅B⋅ρ_star  + 1⎠"
      ]
     },
     "execution_count": 12,
     "metadata": {},
     "output_type": "execute_result"
    }
   ],
   "source": [
    "eq2"
   ]
  },
  {
   "cell_type": "code",
   "execution_count": 13,
   "metadata": {
    "collapsed": false
   },
   "outputs": [
    {
     "data": {
      "image/png": "[encoded data removed]",
      "text/latex": [
       "$$u_{star} = u_{max} \\left(- A \\rho_{star} - B \\rho_{star}^{2} + 1\\right)$$"
      ],
      "text/plain": [
       "               ⎛                    2    ⎞\n",
       "u_star = u_max⋅⎝-A⋅ρ_star - B⋅ρ_star  + 1⎠"
      ]
     },
     "execution_count": 13,
     "metadata": {},
     "output_type": "execute_result"
    }
   ],
   "source": [
    "eq3"
   ]
  },
  {
   "cell_type": "code",
   "execution_count": 14,
   "metadata": {
    "collapsed": false
   },
   "outputs": [
    {
     "data": {
      "image/png": "[encoded data removed]",
      "text/latex": [
       "$$- 3 u_{star} = u_{max} \\left(- 2 A \\rho_{star} - 3 B \\rho_{star}^{2} + 1\\right) - 3 u_{max} \\left(- A \\rho_{star} - B \\rho_{star}^{2} + 1\\right)$$"
      ],
      "text/plain": [
       "                  ⎛                        2    ⎞           ⎛                 \n",
       "-3⋅u_star = u_max⋅⎝-2⋅A⋅ρ_star - 3⋅B⋅ρ_star  + 1⎠ - 3⋅u_max⋅⎝-A⋅ρ_star - B⋅ρ_s\n",
       "\n",
       "   2    ⎞\n",
       "tar  + 1⎠"
      ]
     },
     "execution_count": 14,
     "metadata": {},
     "output_type": "execute_result"
    }
   ],
   "source": [
    "eq4 = sympy.Eq(eq2.lhs - 3*eq3.lhs, eq2.rhs - 3*eq3.rhs)\n",
    "eq4"
   ]
  },
  {
   "cell_type": "code",
   "execution_count": 15,
   "metadata": {
    "collapsed": false
   },
   "outputs": [
    {
     "data": {
      "image/png": "[encoded data removed]",
      "text/latex": [
       "$$- 3 u_{star} = u_{max} \\left(A \\rho_{star} - 2\\right)$$"
      ],
      "text/plain": [
       "-3⋅u_star = u_max⋅(A⋅ρ_star - 2)"
      ]
     },
     "execution_count": 15,
     "metadata": {},
     "output_type": "execute_result"
    }
   ],
   "source": [
    "eq4.simplify()"
   ]
  },
  {
   "cell_type": "code",
   "execution_count": null,
   "metadata": {
    "collapsed": true
   },
   "outputs": [],
   "source": []
  }
 ],
 "metadata": {
  "kernelspec": {
   "display_name": "Python 3",
   "language": "python",
   "name": "python3"
  },
  "language_info": {
   "codemirror_mode": {
    "name": "ipython",
    "version": 3
   },
   "file_extension": ".py",
   "mimetype": "text/x-python",
   "name": "python",
   "nbconvert_exporter": "python",
   "pygments_lexer": "ipython3",
   "version": "3.4.3"
  }
 },
 "nbformat": 4,
 "nbformat_minor": 0
}
