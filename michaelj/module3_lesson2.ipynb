{
 "cells": [
  {
   "cell_type": "markdown",
   "metadata": {},
   "source": [
    "Behavior of different numerical schemes for a moving shock wave.\n",
    "\n",
    "We'll use a very busy road and a red light at x=4.  Cars will accumulate quickly in the front, where the max allowed density of cars will be between x=3 and x=4.  There is an incoming traffic of 50% the maximum allowed density ($\\rho = 0.5 \\rho_{max}$).\n",
    "\n",
    "Mathematically it is $$\\rho (x,0) = 0.5 \\rho_{max}, 0 \\leq x < 3$$\n",
    "$$\\rho (x,0) = \\rho_{max}, 3 \\leq x \\leq 4$$"
   ]
  },
  {
   "cell_type": "code",
   "execution_count": 1,
   "metadata": {
    "collapsed": true
   },
   "outputs": [],
   "source": [
    "%matplotlib inline\n",
    "import numpy\n",
    "from matplotlib import pyplot\n",
    "from matplotlib import rcParams\n",
    "rcParams['font.family'] = 'serif'\n",
    "rcParams['font.size'] = 16"
   ]
  },
  {
   "cell_type": "code",
   "execution_count": null,
   "metadata": {
    "collapsed": true
   },
   "outputs": [],
   "source": [
    "def rho_red_light(nx, rho_max, rho_in):\n",
    "    \"\"\"Computes 'red light' initial condition with shock\n",
    "    \n",
    "    Parameters\n",
    "    ----------\n",
    "    nx : int\n",
    "        Number of grid points in x\n",
    "    rho_max : float\n",
    "        Maximum allowed car density\n",
    "    rho_in : float\n",
    "        Density of incoming cars\n",
    "    \n",
    "    Returns\n",
    "    -------\n",
    "    rho : array of floats\n",
    "        Array with initial values of density\n",
    "    \"\"\"\n",
    "    rho = rho_max*numpy.ones(nx)\n",
    "    rho"
   ]
  }
 ],
 "metadata": {
  "kernelspec": {
   "display_name": "Python 3",
   "language": "python",
   "name": "python3"
  },
  "language_info": {
   "codemirror_mode": {
    "name": "ipython",
    "version": 3
   },
   "file_extension": ".py",
   "mimetype": "text/x-python",
   "name": "python",
   "nbconvert_exporter": "python",
   "pygments_lexer": "ipython3",
   "version": "3.4.3"
  }
 },
 "nbformat": 4,
 "nbformat_minor": 0
}
