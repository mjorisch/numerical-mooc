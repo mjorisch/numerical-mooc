{
 "cells": [
  {
   "cell_type": "markdown",
   "metadata": {},
   "source": [
    "Behavior of different numerical schemes for a moving shock wave.\n",
    "\n",
    "We'll use a very busy road and a red light at x=4.  Cars will accumulate quickly in the front, where the max allowed density of cars will be between x=3 and x=4.  There is an incoming traffic of 50% the maximum allowed density ($\\rho = 0.5 \\rho_{max}$).\n",
    "\n",
    "Mathematically it is $$\\rho (x,0) = 0.5 \\rho_{max}, 0 \\leq x < 3$$\n",
    "$$\\rho (x,0) = \\rho_{max}, 3 \\leq x \\leq 4$$"
   ]
  },
  {
   "cell_type": "code",
   "execution_count": 1,
   "metadata": {
    "collapsed": true
   },
   "outputs": [],
   "source": [
    "%matplotlib inline\n",
    "import numpy\n",
    "from matplotlib import pyplot\n",
    "from matplotlib import rcParams\n",
    "rcParams['font.family'] = 'serif'\n",
    "rcParams['font.size'] = 16"
   ]
  },
  {
   "cell_type": "code",
   "execution_count": 2,
   "metadata": {
    "collapsed": true
   },
   "outputs": [],
   "source": [
    "def rho_red_light(nx, rho_max, rho_in):\n",
    "    \"\"\"Computes 'red light' initial condition with shock\n",
    "    \n",
    "    Parameters\n",
    "    ----------\n",
    "    nx : int\n",
    "        Number of grid points in x\n",
    "    rho_max : float\n",
    "        Maximum allowed car density\n",
    "    rho_in : float\n",
    "        Density of incoming cars\n",
    "    \n",
    "    Returns\n",
    "    -------\n",
    "    rho : array of floats\n",
    "        Array with initial values of density\n",
    "    \"\"\"\n",
    "    rho = rho_max*numpy.ones(nx)\n",
    "    rho[:(nx-1)*3./4.] = rho_in\n",
    "    return rho"
   ]
  },
  {
   "cell_type": "code",
   "execution_count": 3,
   "metadata": {
    "collapsed": false
   },
   "outputs": [
    {
     "name": "stderr",
     "output_type": "stream",
     "text": [
      "/Users/Michael/Applications/anaconda/lib/python3.4/site-packages/ipykernel/__main__.py:19: DeprecationWarning: using a non-integer number instead of an integer will result in an error in the future\n"
     ]
    }
   ],
   "source": [
    "#Basic initial condition parameters\n",
    "#defining grid size, time steps, CFL condition, etc...\n",
    "nx = 81\n",
    "nt = 30\n",
    "dx = 4.0/(nx-1)\n",
    "\n",
    "rho_in = 5.\n",
    "rho_max = 10.\n",
    "\n",
    "u_max = 1.\n",
    "\n",
    "x = numpy.linspace(0,4,nx)\n",
    "\n",
    "rho = rho_red_light(nx, rho_max, rho_in)"
   ]
  },
  {
   "cell_type": "code",
   "execution_count": 4,
   "metadata": {
    "collapsed": false
   },
   "outputs": [
    {
     "data": {
      "image/png": "[encoded data removed]",
      "text/plain": [
       "<matplotlib.figure.Figure at 0x105a1fa58>"
      ]
     },
     "metadata": {},
     "output_type": "display_data"
    }
   ],
   "source": [
    "pyplot.plot(x, rho, color='#003366', ls='-', lw=3)\n",
    "pyplot.ylabel('Traffic Density')\n",
    "pyplot.xlabel('Distance')\n",
    "pyplot.ylim(-0.5,11.);"
   ]
  },
  {
   "cell_type": "markdown",
   "metadata": {},
   "source": [
    "**How will cars accumulate at the red light?**\n",
    "\n",
    "The problem will be solved using three different numerical schemes and their performance will be looked at.\n",
    "\n",
    "Lax-Friedrichs, Lax-Wendroff, and MacCormack\n",
    "\n",
    "The wave speed $u_{wave}$ is -1 for $\\rho = \\rho _{max}$ and $\\rho \\leq \\rho _{max} / 2$ which makes all velocities negative.  We should see a solution moving left, maintaining shock geometry. "
   ]
  },
  {
   "cell_type": "code",
   "execution_count": 5,
   "metadata": {
    "collapsed": true
   },
   "outputs": [],
   "source": [
    "def computeF(u_max, rho_max, rho):\n",
    "    \"\"\"Computes flux F=V*rho\n",
    "    \n",
    "    Parameters\n",
    "    ----------\n",
    "    u_max : float\n",
    "        Maximum allowed velocity\n",
    "    rho : array of floats\n",
    "        Array with density of cars at every point x\n",
    "    rho_max : float\n",
    "        Maximum allowed car density\n",
    "        \n",
    "    Returns\n",
    "    -------\n",
    "    F : array\n",
    "        Array with flux at every point x\n",
    "    \"\"\"\n",
    "    return u_max*rho*(1-rho/rho_max)"
   ]
  },
  {
   "cell_type": "code",
   "execution_count": null,
   "metadata": {
    "collapsed": true
   },
   "outputs": [],
   "source": []
  }
 ],
 "metadata": {
  "kernelspec": {
   "display_name": "Python 3",
   "language": "python",
   "name": "python3"
  },
  "language_info": {
   "codemirror_mode": {
    "name": "ipython",
    "version": 3
   },
   "file_extension": ".py",
   "mimetype": "text/x-python",
   "name": "python",
   "nbconvert_exporter": "python",
   "pygments_lexer": "ipython3",
   "version": "3.4.3"
  }
 },
 "nbformat": 4,
 "nbformat_minor": 0
}
