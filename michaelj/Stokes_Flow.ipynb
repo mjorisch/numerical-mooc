{
 "cells": [
  {
   "cell_type": "markdown",
   "metadata": {},
   "source": [
    "### Vorticity\n",
    "\n",
    "Navier Stokes for incompressible flow:\n",
    "\n",
    "$$\\frac{\\partial u}{\\partial t} + u \\circ \\nabla u = - \\frac{1}{\\rho} \\nabla p + \\nu \\nabla ^2 u$$\n",
    "\n",
    "Non-dimensional:\n",
    "\n",
    "$$Re \\left( \\frac{\\partial u ^{*}}{\\partial t} + u^{*} \\circ \\nabla u^{*} \\right) = - \\nabla p^{*} + \\nabla ^2 u^{*}$$\n",
    "\n",
    "$u^{*}$ and $p^{*}$ are the non-dimensional velocity and pressure.\n",
    "\n",
    "To obtain stokes flow we assume the reynolds number approaches zero:\n",
    "\n",
    "$$0 = - \\nabla p + \\nabla ^2 u$$\n",
    "\n",
    "Curl on both sides:\n",
    "\n",
    "$$\\nabla \\times 0 = \\nabla \\times (-\\nabla p + \\nabla ^2 u)$$\n",
    "\n",
    "LHS remains zero, first term on the RHS is:\n",
    "\n",
    "$$\\nabla \\times - \\nabla p = 0$$\n",
    "\n",
    "Because $\\nabla \\times \\nabla \\phi = 0$ where $\\phi$ is a scalar\n",
    "\n",
    "Finally:\n",
    "\n",
    "$$\\nabla \\times \\nabla ^2 u = \\nabla ^2 \\omega$$\n",
    "\n",
    "Where $\\nabla \\times u = \\omega$ is vorticity\n",
    "\n",
    "Combining everything we arrive at the simplified vorticity transport eqn for Stokes flow:\n",
    "\n",
    "$$\\nabla ^2 \\omega = 0$$"
   ]
  },
  {
   "cell_type": "markdown",
   "metadata": {},
   "source": [
    "### Stream function\n",
    "\n",
    "Def stream func $\\psi$ such that:\n",
    "\n",
    "$$u = \\frac{\\partial \\psi}{\\partial y} \\ and \\ v = -\\frac{\\partial \\psi}{\\partial x}$$\n",
    "\n",
    "In 2D we can write out the vorticity as:\n",
    "\n",
    "$$\\omega = \\frac{\\partial v}{\\partial x} - \\frac{\\partial u}{\\partial y}$$\n",
    "\n",
    "Combined with the previous equation yields:\n",
    "\n",
    "$$\\nabla ^2 \\psi = - \\omega$$\n",
    "\n",
    "System of two couple equations that can describe the fluid flow in a liquid driven cavity at very low Reynolds numbers:\n",
    "\n",
    "$$\\nabla ^2 \\omega = 0$$\n",
    "$$\\nabla ^2 \\psi = - \\omega$$\n",
    "\n",
    "Substituting we get:\n",
    "\n",
    "$$\\nabla ^4 \\psi = 0$$"
   ]
  },
  {
   "cell_type": "markdown",
   "metadata": {},
   "source": [
    "## Cavity flow\n",
    "\n",
    "Lid of a square cavity moves at constant velocity of $u = 1$ with no fluid leaking out.  All of the surfaces have no-slip BCs.\n",
    "\n",
    "BCs:\n",
    "\n",
    "top : $\\psi = 0$ and $\\frac{\\partial \\psi}{\\partial y} = 1$\n",
    "bottom : $\\psi = 0$ and $\\frac{\\partial \\psi}{\\partial y} = 0$\n",
    "left : $\\psi = 0$ and $\\frac{\\partial \\psi}{\\partial x} = 0$\n",
    "right: $\\psi = 0$ and $\\frac{\\partial \\psi}{\\partial x} = 0$"
   ]
  },
  {
   "cell_type": "code",
   "execution_count": null,
   "metadata": {
    "collapsed": true
   },
   "outputs": [],
   "source": []
  }
 ],
 "metadata": {
  "kernelspec": {
   "display_name": "Python 3",
   "language": "python",
   "name": "python3"
  },
  "language_info": {
   "codemirror_mode": {
    "name": "ipython",
    "version": 3
   },
   "file_extension": ".py",
   "mimetype": "text/x-python",
   "name": "python",
   "nbconvert_exporter": "python",
   "pygments_lexer": "ipython3",
   "version": "3.4.3"
  }
 },
 "nbformat": 4,
 "nbformat_minor": 0
}
