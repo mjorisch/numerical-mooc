{
 "cells": [
  {
   "cell_type": "markdown",
   "metadata": {},
   "source": [
    "### Vorticity\n",
    "\n",
    "Navier Stokes for incompressible flow:\n",
    "\n",
    "$$\\frac{\\partial u}{\\partial t} + u \\circ \\nabla u = - \\frac{1}{\\rho} \\nabla p + \\nu \\nabla ^2 u$$\n",
    "\n",
    "Non-dimensional:\n",
    "\n",
    "$$Re \\left( \\frac{\\partial u ^{*}}{\\partial t} + u^{*} \\circ \\nabla u^{*} \\right) = - \\nabla p^{*} + \\nabla ^2 u^{*}$$\n",
    "\n",
    "$u^{*}$ and $p^{*}$ are the non-dimensional velocity and pressure.\n",
    "\n",
    "To obtain stokes flow we assume the reynolds number approaches zero:\n",
    "\n",
    "$$0 = - \\nabla p + \\nabla ^2 u$$\n",
    "\n",
    "Curl on both sides:\n",
    "\n",
    "$$\\nabla \\times 0 = \\nabla \\times (-\\nabla p + \\nabla ^2 u)$$\n",
    "\n",
    "LHS remains zero, first term on the RHS is:\n",
    "\n",
    "$$\\nabla \\times - \\nabla p = 0$$\n",
    "\n",
    "Because $\\nabla \\times \\nabla \\phi = 0$ where $\\phi$ is a scalar\n",
    "\n",
    "Finally:\n",
    "\n",
    "$$\\nabla \\times \\nabla ^2 u = \\nabla ^2 \\omega$$\n",
    "\n",
    "Where $\\nabla \\times u = \\omega$ is vorticity\n",
    "\n",
    "Combining everything we arrive at the simplified vorticity transport eqn for Stokes flow:\n",
    "\n",
    "$$\\nabla ^2 \\omega = 0$$"
   ]
  },
  {
   "cell_type": "markdown",
   "metadata": {},
   "source": [
    "### Stream function\n",
    "\n",
    "Def stream func $\\psi$ such that:\n",
    "\n",
    "$$u = \\frac{\\partial \\psi}{\\partial y} \\ and \\ v = -\\frac{\\partial \\psi}{\\partial x}$$\n",
    "\n",
    "In 2D we can write out the vorticity as:\n",
    "\n",
    "$$\\omega = \\frac{\\partial v}{\\partial x} - \\frac{\\partial u}{\\partial y}$$\n",
    "\n",
    "Combined with the previous equation yields:\n",
    "\n",
    "$$\\nabla ^2 \\psi = - \\omega$$\n",
    "\n",
    "System of two couple equations that can describe the fluid flow in a liquid driven cavity at very low Reynolds numbers:\n",
    "\n",
    "$$\\nabla ^2 \\omega = 0$$\n",
    "$$\\nabla ^2 \\psi = - \\omega$$\n",
    "\n",
    "Substituting we get:\n",
    "\n",
    "$$\\nabla ^4 \\psi = 0$$"
   ]
  },
  {
   "cell_type": "markdown",
   "metadata": {},
   "source": [
    "## Cavity flow\n",
    "\n",
    "Lid of a square cavity moves at constant velocity of $u = 1$ with no fluid leaking out.  All of the surfaces have no-slip BCs.\n",
    "\n",
    "BCs:\n",
    "\n",
    "top : $\\psi = 0$ and $\\frac{\\partial \\psi}{\\partial y} = 1$\n",
    "bottom : $\\psi = 0$ and $\\frac{\\partial \\psi}{\\partial y} = 0$\n",
    "left : $\\psi = 0$ and $\\frac{\\partial \\psi}{\\partial x} = 0$\n",
    "right: $\\psi = 0$ and $\\frac{\\partial \\psi}{\\partial x} = 0$"
   ]
  },
  {
   "cell_type": "markdown",
   "metadata": {},
   "source": [
    "### Boundary conditions\n",
    "\n",
    "One of the major hurdles with the vorticity streamline formula is the treatment of BCs\n",
    "\n",
    "The BCs are all specified in terms of $\\psi$ and its derivatives, but the Laplace eqn $\\nabla \\omega ^2 = 0$ has no $\\psi$ value.  Instead we need a way to represent the BCs for $\\omega$ in terms of $\\psi$\n",
    "\n",
    "Consider $\\nabla ^2 \\psi = - \\omega$ along the top surface of the cavity.  No y velocity, so $\\frac{\\partial ^2 \\psi}{\\partial x^2}$ goes to zero and simplifies to:\n",
    "\n",
    "$$\\frac{\\partial ^2 \\psi}{\\partial y^2} = - \\omega$$\n",
    "\n",
    "A 2nd order central diff gives:\n",
    "\n",
    "$$\\omega_j = - \\left( \\frac{\\psi_{j+1} - 2\\psi_j + \\psi_{j-1}}{\\Delta y^2} \\right)$$\n",
    "\n",
    "$\\psi_{j+1} is outside the domain.  3rd order discretization of $\\frac{\\partial \\psi}{\\partial y}$ along the top:\n",
    "\n",
    "$$\\frac{\\partial \\psi}{\\partial y} |_j = \\frac{2 \\psi_{j+1} + 3 \\psi_j - 6 \\psi_{j-1} + \\psi_{j-2}}{6 \\Delta y}$$\n",
    "\n",
    "$$\\frac{\\partial \\psi}{\\partial y} |_j = u_j$$\n",
    "\n",
    "So:\n",
    "\n",
    "$$\\psi_{j+1} = \\frac{6 \\Delta y u_j - 3 \\psi_j + 6 \\psi_{j-1} - \\psi_{j-2}}{2}$$\n",
    "\n",
    "BC of the top is then:\n",
    "\n",
    "$$\\omega_{i,j} = - \\frac{1}{2 \\Delta y^2} (8\\psi_{i,j-1} - \\psi_{i,j-2}) - \\frac{3u_j}{\\Delta y} + O(\\Delta y^2)$$"
   ]
  },
  {
   "cell_type": "code",
   "execution_count": 2,
   "metadata": {
    "collapsed": false
   },
   "outputs": [],
   "source": [
    "import numpy\n",
    "from matplotlib import pyplot, cm\n",
    "%matplotlib inline\n",
    "from matplotlib import rcParams\n",
    "rcParams['font.family'] = 'serif'\n",
    "rcParams['font.size'] = 16"
   ]
  },
  {
   "cell_type": "code",
   "execution_count": 3,
   "metadata": {
    "collapsed": true
   },
   "outputs": [],
   "source": [
    "nx = 41\n",
    "ny = 41\n",
    "\n",
    "l = 1.\n",
    "h = 1.\n",
    "\n",
    "dx = 1 / (nx - 1)\n",
    "dy = h / (ny - 1)\n",
    "\n",
    "l1_target = 1e-6"
   ]
  },
  {
   "cell_type": "code",
   "execution_count": 4,
   "metadata": {
    "collapsed": true
   },
   "outputs": [],
   "source": [
    "def L1norm(new, old):\n",
    "    norm = numpy.sum(numpy.abs(new - old))\n",
    "    return norm"
   ]
  },
  {
   "cell_type": "code",
   "execution_count": 8,
   "metadata": {
    "collapsed": false
   },
   "outputs": [],
   "source": [
    "x = numpy.linspace(0, l, nx)\n",
    "y = numpy.linspace(0, h, ny)\n",
    "\n",
    "psi = numpy.zeros((ny, nx))\n",
    "omega = numpy.zeros((ny, nx))\n",
    "u = numpy.ones(nx)\n",
    "\n",
    "#omega i,j\n",
    "omega[-1, 1:-1] = -1 / (2 * dy ** 2) * (8 * psi[-2, 1:-1] - psi[-3, 1:-1]) - (3 * u[1:-1] / dy)"
   ]
  },
  {
   "cell_type": "code",
   "execution_count": null,
   "metadata": {
    "collapsed": true
   },
   "outputs": [],
   "source": []
  }
 ],
 "metadata": {
  "kernelspec": {
   "display_name": "Python 3",
   "language": "python",
   "name": "python3"
  },
  "language_info": {
   "codemirror_mode": {
    "name": "ipython",
    "version": 3
   },
   "file_extension": ".py",
   "mimetype": "text/x-python",
   "name": "python",
   "nbconvert_exporter": "python",
   "pygments_lexer": "ipython3",
   "version": "3.4.3"
  }
 },
 "nbformat": 4,
 "nbformat_minor": 0
}
